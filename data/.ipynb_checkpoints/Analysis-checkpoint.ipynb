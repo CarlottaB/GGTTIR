{
 "cells": [
  {
   "cell_type": "markdown",
   "metadata": {},
   "source": [
    "## Data Analysis: Go to think tank index"
   ]
  },
  {
   "cell_type": "code",
   "execution_count": 10,
   "metadata": {},
   "outputs": [],
   "source": [
    "import pandas as pd\n",
    "import pycountry\n",
    "import xlsxwriter"
   ]
  },
  {
   "cell_type": "code",
   "execution_count": 11,
   "metadata": {},
   "outputs": [],
   "source": [
    "pd.options.display.max_colwidth = 100"
   ]
  },
  {
   "cell_type": "code",
   "execution_count": 24,
   "metadata": {},
   "outputs": [],
   "source": [
    "file_path = 'Neuste_Version.xlsx'"
   ]
  },
  {
   "cell_type": "markdown",
   "metadata": {},
   "source": [
    "## 1.1 Functions"
   ]
  },
  {
   "cell_type": "code",
   "execution_count": 25,
   "metadata": {},
   "outputs": [],
   "source": [
    "##function to check for missing numbers in list of natural numbers:\n",
    "def missing_numbers(num_list):\n",
    "    original_list = [x for x in range(num_list[0], num_list[-1] + 1)]\n",
    "    num_list = set(num_list)\n",
    "    return (list(num_list ^ set(original_list)))"
   ]
  },
  {
   "cell_type": "markdown",
   "metadata": {},
   "source": [
    "## 1.2 Load Datasets"
   ]
  },
  {
   "cell_type": "code",
   "execution_count": 26,
   "metadata": {},
   "outputs": [],
   "source": [
    "#load test datasets\n",
    "df_regions = pd.read_excel(file_path,sheet_name='regions')\n",
    "df_special = pd.read_excel(file_path,sheet_name='special_categories')\n",
    "df_research = pd.read_excel(file_path,sheet_name='research_areas')"
   ]
  },
  {
   "cell_type": "code",
   "execution_count": 27,
   "metadata": {},
   "outputs": [],
   "source": [
    "##Create a dictionary for each Category with the Category title (key) and the missing values as a list\n",
    "check_list = df_regions.groupby('Category')['Rank'].apply(list).to_dict()"
   ]
  },
  {
   "cell_type": "code",
   "execution_count": 29,
   "metadata": {},
   "outputs": [
    {
     "name": "stdout",
     "output_type": "stream",
     "text": [
      "[{'Top 150 Think Tanks â€“ Worldwide (US and Non-US),': [38]}, {'Top 30 Central and Eastern European Think': [3]}, {'Top 75 Think Tanks in Western Europe': [51, 52, 53, 54, 55, 56, 57, 58, 59, 60, 61, 62, 63, 64, 65, 66, 67, 68, 69, 70, 71, 72, 73, 74]}, {'Top Think Tanks Worldwide (Non-US)': [142, 143, 144, 145, 146, 147, 148, 149, 150, 180]}, {'Top Think Tanks in Central Asia': [66, 67, 68, 69, 70, 71, 72, 73, 74, 75, 76, 77, 78, 79, 80]}, {'Top Think Tanks in Mexico and Canada': [0]}, {'Top Think Tanks in Sub-Saharan Africa': [95]}]\n"
     ]
    }
   ],
   "source": [
    "##Run missing_numbers function on the dictionary. Create new list with only those Categories that entail missing numbers\n",
    "check_values = []\n",
    "for key,value in check_list.items():\n",
    "    check = missing_numbers(value)\n",
    "    if check:\n",
    "        dicts = {key:check}\n",
    "        check_values.append(dicts)"
   ]
  },
  {
   "cell_type": "code",
   "execution_count": 30,
   "metadata": {},
   "outputs": [
    {
     "data": {
      "text/plain": [
       "[{'Top 150 Think Tanks â€“ Worldwide (US and Non-US),': [38]},\n",
       " {'Top 30 Central and Eastern European Think': [3]},\n",
       " {'Top 75 Think Tanks in Western Europe': [51,\n",
       "   52,\n",
       "   53,\n",
       "   54,\n",
       "   55,\n",
       "   56,\n",
       "   57,\n",
       "   58,\n",
       "   59,\n",
       "   60,\n",
       "   61,\n",
       "   62,\n",
       "   63,\n",
       "   64,\n",
       "   65,\n",
       "   66,\n",
       "   67,\n",
       "   68,\n",
       "   69,\n",
       "   70,\n",
       "   71,\n",
       "   72,\n",
       "   73,\n",
       "   74]},\n",
       " {'Top Think Tanks Worldwide (Non-US)': [142,\n",
       "   143,\n",
       "   144,\n",
       "   145,\n",
       "   146,\n",
       "   147,\n",
       "   148,\n",
       "   149,\n",
       "   150,\n",
       "   180]},\n",
       " {'Top Think Tanks in Central Asia': [66,\n",
       "   67,\n",
       "   68,\n",
       "   69,\n",
       "   70,\n",
       "   71,\n",
       "   72,\n",
       "   73,\n",
       "   74,\n",
       "   75,\n",
       "   76,\n",
       "   77,\n",
       "   78,\n",
       "   79,\n",
       "   80]},\n",
       " {'Top Think Tanks in Mexico and Canada': [0]},\n",
       " {'Top Think Tanks in Sub-Saharan Africa': [95]}]"
      ]
     },
     "execution_count": 30,
     "metadata": {},
     "output_type": "execute_result"
    }
   ],
   "source": [
    "check_values"
   ]
  },
  {
   "cell_type": "code",
   "execution_count": null,
   "metadata": {},
   "outputs": [],
   "source": []
  },
  {
   "cell_type": "markdown",
   "metadata": {},
   "source": [
    "## Export Results"
   ]
  },
  {
   "cell_type": "code",
   "execution_count": null,
   "metadata": {},
   "outputs": [],
   "source": []
  }
 ],
 "metadata": {
  "kernelspec": {
   "display_name": "Python 3",
   "language": "python",
   "name": "python3"
  },
  "language_info": {
   "codemirror_mode": {
    "name": "ipython",
    "version": 3
   },
   "file_extension": ".py",
   "mimetype": "text/x-python",
   "name": "python",
   "nbconvert_exporter": "python",
   "pygments_lexer": "ipython3",
   "version": "3.7.4"
  }
 },
 "nbformat": 4,
 "nbformat_minor": 4
}
