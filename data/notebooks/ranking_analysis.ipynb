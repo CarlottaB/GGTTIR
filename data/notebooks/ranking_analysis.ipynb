{
 "cells": [
  {
   "cell_type": "markdown",
   "metadata": {},
   "source": [
    "## Ranking Analysis"
   ]
  },
  {
   "cell_type": "markdown",
   "metadata": {},
   "source": [
    "## Vorbereitung: "
   ]
  },
  {
   "cell_type": "code",
   "execution_count": 1,
   "metadata": {},
   "outputs": [],
   "source": [
    "##import libraries\n",
    "import pandas as pd\n",
    "import numpy as np\n",
    "import scipy as sp\n",
    "import matplotlib.pyplot as plt\n",
    "import plotly"
   ]
  },
  {
   "cell_type": "code",
   "execution_count": 2,
   "metadata": {},
   "outputs": [],
   "source": [
    "def get_list_element(val):\n",
    "    #print(type(val))\n",
    "    if isinstance(val, list):\n",
    "        return int(val[0])\n",
    "    else:\n",
    "        return int(val)"
   ]
  },
  {
   "cell_type": "code",
   "execution_count": 3,
   "metadata": {},
   "outputs": [],
   "source": [
    "#file_path: We take the cleaned categories \n",
    "file_path = '../results/tts_conslidated_categories.xlsx'"
   ]
  },
  {
   "cell_type": "code",
   "execution_count": 4,
   "metadata": {},
   "outputs": [],
   "source": [
    "#import datasets\n",
    "df_regions = pd.read_excel(file_path,sheet_name='regions',index=False)\n",
    "df_research = pd.read_excel(file_path,sheet_name='research_areas',index=False)\n",
    "df_special = pd.read_excel(file_path,sheet_name='special',index=False)"
   ]
  },
  {
   "cell_type": "code",
   "execution_count": 5,
   "metadata": {},
   "outputs": [],
   "source": [
    "df_regions = df_regions.rename(columns={'Country':'country'})"
   ]
  },
  {
   "cell_type": "markdown",
   "metadata": {
    "toc-hr-collapsed": true
   },
   "source": [
    "# Analyse: "
   ]
  },
  {
   "cell_type": "markdown",
   "metadata": {
    "toc-hr-collapsed": true
   },
   "source": [
    "## Regions"
   ]
  },
  {
   "cell_type": "markdown",
   "metadata": {},
   "source": [
    "Als erstes wollen wir sehen, wie viele think tanks pro Jahr in einer Kategorie wareN. Dazu erstellen wir eine Tabelle in der für jede Kategorie die Anzahl der think tanks pro Jahr angezeigt wird."
   ]
  },
  {
   "cell_type": "code",
   "execution_count": 6,
   "metadata": {},
   "outputs": [
    {
     "data": {
      "text/html": [
       "<div>\n",
       "<style scoped>\n",
       "    .dataframe tbody tr th:only-of-type {\n",
       "        vertical-align: middle;\n",
       "    }\n",
       "\n",
       "    .dataframe tbody tr th {\n",
       "        vertical-align: top;\n",
       "    }\n",
       "\n",
       "    .dataframe thead th {\n",
       "        text-align: right;\n",
       "    }\n",
       "</style>\n",
       "<table border=\"1\" class=\"dataframe\">\n",
       "  <thead>\n",
       "    <tr style=\"text-align: right;\">\n",
       "      <th></th>\n",
       "      <th>Rank</th>\n",
       "      <th>origin_tt_name</th>\n",
       "      <th>Category</th>\n",
       "      <th>Year</th>\n",
       "      <th>country</th>\n",
       "      <th>parenthesis</th>\n",
       "      <th>clean_tt</th>\n",
       "      <th>cleaned_category</th>\n",
       "    </tr>\n",
       "  </thead>\n",
       "  <tbody>\n",
       "    <tr>\n",
       "      <th>0</th>\n",
       "      <td>1</td>\n",
       "      <td>brookings institution (united states)</td>\n",
       "      <td>Top 30 Think Tanks United States</td>\n",
       "      <td>2008</td>\n",
       "      <td>United States</td>\n",
       "      <td>['(united states)']</td>\n",
       "      <td>brookings institution</td>\n",
       "      <td>Top Think Tanks in the United States</td>\n",
       "    </tr>\n",
       "  </tbody>\n",
       "</table>\n",
       "</div>"
      ],
      "text/plain": [
       "   Rank                         origin_tt_name  \\\n",
       "0     1  brookings institution (united states)   \n",
       "\n",
       "                           Category  Year        country          parenthesis  \\\n",
       "0  Top 30 Think Tanks United States  2008  United States  ['(united states)']   \n",
       "\n",
       "                clean_tt                      cleaned_category  \n",
       "0  brookings institution  Top Think Tanks in the United States  "
      ]
     },
     "execution_count": 6,
     "metadata": {},
     "output_type": "execute_result"
    }
   ],
   "source": [
    "df_regions.head(1)"
   ]
  },
  {
   "cell_type": "markdown",
   "metadata": {},
   "source": [
    "### Pivot Tabelle über alle Kategorien und Jahre: \n",
    "Jetzt bilden wir eine Tabelle in der wir für jede Kategorie sehene wie viele Think Tanks pro Jahr gerankt wurden. So können wir auf einen Blick erkennen welche Kategorien sich gut für weitere Analysen eignen. Wichtig ist, dass die Kategorie über möglichst viele Jahre existiert und eine recht große Anzahl von Think Tanks beinhaltet. "
   ]
  },
  {
   "cell_type": "code",
   "execution_count": 7,
   "metadata": {},
   "outputs": [],
   "source": [
    "table_regions = pd.pivot_table(df_regions, values='clean_tt', index=['cleaned_category'], columns=['Year'], \n",
    "               aggfunc=lambda x: len(x.unique()))"
   ]
  },
  {
   "cell_type": "code",
   "execution_count": 8,
   "metadata": {},
   "outputs": [
    {
     "data": {
      "text/html": [
       "<div>\n",
       "<style scoped>\n",
       "    .dataframe tbody tr th:only-of-type {\n",
       "        vertical-align: middle;\n",
       "    }\n",
       "\n",
       "    .dataframe tbody tr th {\n",
       "        vertical-align: top;\n",
       "    }\n",
       "\n",
       "    .dataframe thead th {\n",
       "        text-align: right;\n",
       "    }\n",
       "</style>\n",
       "<table border=\"1\" class=\"dataframe\">\n",
       "  <thead>\n",
       "    <tr style=\"text-align: right;\">\n",
       "      <th>Year</th>\n",
       "      <th>2008</th>\n",
       "      <th>2009</th>\n",
       "      <th>2010</th>\n",
       "      <th>2011</th>\n",
       "      <th>2012</th>\n",
       "      <th>2013</th>\n",
       "      <th>2014</th>\n",
       "      <th>2015</th>\n",
       "      <th>2016</th>\n",
       "      <th>2017</th>\n",
       "      <th>2018</th>\n",
       "    </tr>\n",
       "    <tr>\n",
       "      <th>cleaned_category</th>\n",
       "      <th></th>\n",
       "      <th></th>\n",
       "      <th></th>\n",
       "      <th></th>\n",
       "      <th></th>\n",
       "      <th></th>\n",
       "      <th></th>\n",
       "      <th></th>\n",
       "      <th></th>\n",
       "      <th></th>\n",
       "      <th></th>\n",
       "    </tr>\n",
       "  </thead>\n",
       "  <tbody>\n",
       "    <tr>\n",
       "      <th>Top 25 Think Tanks in Eastern Europe</th>\n",
       "      <td>27.0</td>\n",
       "      <td>NaN</td>\n",
       "      <td>NaN</td>\n",
       "      <td>NaN</td>\n",
       "      <td>NaN</td>\n",
       "      <td>NaN</td>\n",
       "      <td>NaN</td>\n",
       "      <td>NaN</td>\n",
       "      <td>NaN</td>\n",
       "      <td>NaN</td>\n",
       "      <td>NaN</td>\n",
       "    </tr>\n",
       "  </tbody>\n",
       "</table>\n",
       "</div>"
      ],
      "text/plain": [
       "Year                                  2008  2009  2010  2011  2012  2013  \\\n",
       "cleaned_category                                                           \n",
       "Top 25 Think Tanks in Eastern Europe  27.0   NaN   NaN   NaN   NaN   NaN   \n",
       "\n",
       "Year                                  2014  2015  2016  2017  2018  \n",
       "cleaned_category                                                    \n",
       "Top 25 Think Tanks in Eastern Europe   NaN   NaN   NaN   NaN   NaN  "
      ]
     },
     "execution_count": 8,
     "metadata": {},
     "output_type": "execute_result"
    }
   ],
   "source": [
    "table_regions.head(1)"
   ]
  },
  {
   "cell_type": "markdown",
   "metadata": {},
   "source": [
    "### Aussuchen einer geeigneten Kategorie:\n",
    "Dann suchen wir uns eine Kategorie raus, die vielversprechend aussieht und arbeiten mit ihr weiter. In diesem Fall ist die ausgewählte Kategorie 'Top Think Tanks Worldwide (US and non-US)'. Wir haben sie ausgesucht weil sie seit 2009 dabei ist und stark wächst.\n",
    "Im nächsten Schritt lassen wir uns die Anzahl der think tanks über die Jahre in der ausgewählten Kategorie anzeigen. Das ist zwar eigentlich nicht nötig, da wir die Informationen schon aus der Tabelle oben haben aber es ist übersichtlicher. "
   ]
  },
  {
   "cell_type": "code",
   "execution_count": 9,
   "metadata": {},
   "outputs": [
    {
     "data": {
      "text/plain": [
       "Year\n",
       "2008      NaN\n",
       "2009     25.0\n",
       "2010     25.0\n",
       "2011     30.0\n",
       "2012    150.0\n",
       "2013    150.0\n",
       "2014    150.0\n",
       "2015    172.0\n",
       "2016    173.0\n",
       "2017    172.0\n",
       "2018    175.0\n",
       "Name: Top Think Tanks Worldwide (US and non-US) , dtype: float64"
      ]
     },
     "execution_count": 9,
     "metadata": {},
     "output_type": "execute_result"
    }
   ],
   "source": [
    "table_regions.loc['Top Think Tanks Worldwide (US and non-US) ']"
   ]
  },
  {
   "cell_type": "markdown",
   "metadata": {},
   "source": [
    "Jetzt wollen wir für die ausgewählte Kategorie ein eigenes Dataframe erstellen. Mithilfe eines Index, kann man sich dann die gerankten Think Tanks für ein Jahr anzeigen lassen. Der Index 0 steht hier also für 2009, da die Kategorie in dem Jahr das erste Mal vorkommt. "
   ]
  },
  {
   "cell_type": "code",
   "execution_count": 10,
   "metadata": {},
   "outputs": [],
   "source": [
    "#get dataframe for category: Top Think Tanks Worldwide (US and non-US)\n",
    "test_worldwide = df_regions[df_regions['cleaned_category']=='Top Think Tanks Worldwide (US and non-US) ']"
   ]
  },
  {
   "cell_type": "code",
   "execution_count": 11,
   "metadata": {},
   "outputs": [],
   "source": [
    "list_worldwide = []\n",
    "for year, df_year in test_worldwide.groupby('Year'):\n",
    "    #name the dataframe\n",
    "    df_year.index.name=year\n",
    "    #append dataframe to list\n",
    "    list_worldwide.append(df_year)"
   ]
  },
  {
   "cell_type": "code",
   "execution_count": 12,
   "metadata": {},
   "outputs": [
    {
     "data": {
      "text/html": [
       "<div>\n",
       "<style scoped>\n",
       "    .dataframe tbody tr th:only-of-type {\n",
       "        vertical-align: middle;\n",
       "    }\n",
       "\n",
       "    .dataframe tbody tr th {\n",
       "        vertical-align: top;\n",
       "    }\n",
       "\n",
       "    .dataframe thead th {\n",
       "        text-align: right;\n",
       "    }\n",
       "</style>\n",
       "<table border=\"1\" class=\"dataframe\">\n",
       "  <thead>\n",
       "    <tr style=\"text-align: right;\">\n",
       "      <th></th>\n",
       "      <th>Rank</th>\n",
       "      <th>origin_tt_name</th>\n",
       "      <th>Category</th>\n",
       "      <th>Year</th>\n",
       "      <th>country</th>\n",
       "      <th>parenthesis</th>\n",
       "      <th>clean_tt</th>\n",
       "      <th>cleaned_category</th>\n",
       "    </tr>\n",
       "    <tr>\n",
       "      <th>2009</th>\n",
       "      <th></th>\n",
       "      <th></th>\n",
       "      <th></th>\n",
       "      <th></th>\n",
       "      <th></th>\n",
       "      <th></th>\n",
       "      <th></th>\n",
       "      <th></th>\n",
       "    </tr>\n",
       "  </thead>\n",
       "  <tbody>\n",
       "    <tr>\n",
       "      <th>215</th>\n",
       "      <td>1</td>\n",
       "      <td>brookings institution (united states)</td>\n",
       "      <td>Top 25 Think Tanks â€“ Worldwide (US and Non-US)</td>\n",
       "      <td>2009</td>\n",
       "      <td>United States</td>\n",
       "      <td>['(united states)']</td>\n",
       "      <td>brookings institution</td>\n",
       "      <td>Top Think Tanks Worldwide (US and non-US)</td>\n",
       "    </tr>\n",
       "    <tr>\n",
       "      <th>216</th>\n",
       "      <td>2</td>\n",
       "      <td>council on foreign relations us</td>\n",
       "      <td>Top 25 Think Tanks â€“ Worldwide (US and Non-US)</td>\n",
       "      <td>2009</td>\n",
       "      <td>United States</td>\n",
       "      <td>[]</td>\n",
       "      <td>council on foreign relations</td>\n",
       "      <td>Top Think Tanks Worldwide (US and non-US)</td>\n",
       "    </tr>\n",
       "    <tr>\n",
       "      <th>217</th>\n",
       "      <td>3</td>\n",
       "      <td>carnegie endowment for international peace us</td>\n",
       "      <td>Top 25 Think Tanks â€“ Worldwide (US and Non-US)</td>\n",
       "      <td>2009</td>\n",
       "      <td>United States</td>\n",
       "      <td>[]</td>\n",
       "      <td>carnegie endowment for international peace</td>\n",
       "      <td>Top Think Tanks Worldwide (US and non-US)</td>\n",
       "    </tr>\n",
       "    <tr>\n",
       "      <th>218</th>\n",
       "      <td>4</td>\n",
       "      <td>rand corporation us</td>\n",
       "      <td>Top 25 Think Tanks â€“ Worldwide (US and Non-US)</td>\n",
       "      <td>2009</td>\n",
       "      <td>United States</td>\n",
       "      <td>[]</td>\n",
       "      <td>rand corporation</td>\n",
       "      <td>Top Think Tanks Worldwide (US and non-US)</td>\n",
       "    </tr>\n",
       "    <tr>\n",
       "      <th>219</th>\n",
       "      <td>5</td>\n",
       "      <td>cato institute us</td>\n",
       "      <td>Top 25 Think Tanks â€“ Worldwide (US and Non-US)</td>\n",
       "      <td>2009</td>\n",
       "      <td>United States</td>\n",
       "      <td>[]</td>\n",
       "      <td>cato institute</td>\n",
       "      <td>Top Think Tanks Worldwide (US and non-US)</td>\n",
       "    </tr>\n",
       "  </tbody>\n",
       "</table>\n",
       "</div>"
      ],
      "text/plain": [
       "      Rank                                 origin_tt_name  \\\n",
       "2009                                                        \n",
       "215      1          brookings institution (united states)   \n",
       "216      2                council on foreign relations us   \n",
       "217      3  carnegie endowment for international peace us   \n",
       "218      4                            rand corporation us   \n",
       "219      5                              cato institute us   \n",
       "\n",
       "                                              Category  Year        country  \\\n",
       "2009                                                                          \n",
       "215   Top 25 Think Tanks â€“ Worldwide (US and Non-US)  2009  United States   \n",
       "216   Top 25 Think Tanks â€“ Worldwide (US and Non-US)  2009  United States   \n",
       "217   Top 25 Think Tanks â€“ Worldwide (US and Non-US)  2009  United States   \n",
       "218   Top 25 Think Tanks â€“ Worldwide (US and Non-US)  2009  United States   \n",
       "219   Top 25 Think Tanks â€“ Worldwide (US and Non-US)  2009  United States   \n",
       "\n",
       "              parenthesis                                     clean_tt  \\\n",
       "2009                                                                     \n",
       "215   ['(united states)']                        brookings institution   \n",
       "216                    []                council on foreign relations    \n",
       "217                    []  carnegie endowment for international peace    \n",
       "218                    []                            rand corporation    \n",
       "219                    []                              cato institute    \n",
       "\n",
       "                                cleaned_category  \n",
       "2009                                              \n",
       "215   Top Think Tanks Worldwide (US and non-US)   \n",
       "216   Top Think Tanks Worldwide (US and non-US)   \n",
       "217   Top Think Tanks Worldwide (US and non-US)   \n",
       "218   Top Think Tanks Worldwide (US and non-US)   \n",
       "219   Top Think Tanks Worldwide (US and non-US)   "
      ]
     },
     "execution_count": 12,
     "metadata": {},
     "output_type": "execute_result"
    }
   ],
   "source": [
    "#you can access each dataframe by indexing the list:\n",
    "list_worldwide[0].head()"
   ]
  },
  {
   "cell_type": "markdown",
   "metadata": {},
   "source": [
    "Jetzt werfen wir alle Jahre raus in denen die Anzahl der Think Tanks kleiner als 150 war. Dann legen wir 150 als Höchstwert fest. In den Jahren in denen mehr als 150 Think Tanks gerankt sind werden also trotzdem nur die ersten 150 verwendet. "
   ]
  },
  {
   "cell_type": "code",
   "execution_count": 13,
   "metadata": {},
   "outputs": [
    {
     "data": {
      "text/plain": [
       "7"
      ]
     },
     "execution_count": 13,
     "metadata": {},
     "output_type": "execute_result"
    }
   ],
   "source": [
    "#drop years with too little values and set them to equal length of 150:\n",
    "final_list = []\n",
    "for l in list_worldwide:\n",
    "    if len(l)>149.0:\n",
    "        l = l.head(150).reset_index()\n",
    "        final_list.append(l)\n",
    "        \n",
    "len(final_list)"
   ]
  },
  {
   "cell_type": "markdown",
   "metadata": {},
   "source": [
    "Im nächsten Schritt werden die Ranks in Dezile eingeteilt. Also in zehn gleich große Gruppen. In der Spalte dezil kann jetzt abgelesen werden, in welcher Gruppe ein Think Tank gerankt wurde. "
   ]
  },
  {
   "cell_type": "code",
   "execution_count": 14,
   "metadata": {},
   "outputs": [],
   "source": [
    "#create a list of datasets. each datasets split-rearranged by groups:\n",
    "list_dz_dfs = []\n",
    "for f in final_list:\n",
    "    dz_df = np.array_split(f, 10)\n",
    "    dz_list = []\n",
    "    for idx,group in enumerate(dz_df):\n",
    "        group['dezil'] = idx+1\n",
    "        dz_list.append(group)\n",
    "    dz_all = pd.concat(dz_list)\n",
    "    list_dz_dfs.append(dz_all)"
   ]
  },
  {
   "cell_type": "code",
   "execution_count": 16,
   "metadata": {},
   "outputs": [
    {
     "data": {
      "text/html": [
       "<div>\n",
       "<style scoped>\n",
       "    .dataframe tbody tr th:only-of-type {\n",
       "        vertical-align: middle;\n",
       "    }\n",
       "\n",
       "    .dataframe tbody tr th {\n",
       "        vertical-align: top;\n",
       "    }\n",
       "\n",
       "    .dataframe thead th {\n",
       "        text-align: right;\n",
       "    }\n",
       "</style>\n",
       "<table border=\"1\" class=\"dataframe\">\n",
       "  <thead>\n",
       "    <tr style=\"text-align: right;\">\n",
       "      <th></th>\n",
       "      <th>2013</th>\n",
       "      <th>Rank</th>\n",
       "      <th>origin_tt_name</th>\n",
       "      <th>Category</th>\n",
       "      <th>Year</th>\n",
       "      <th>country</th>\n",
       "      <th>parenthesis</th>\n",
       "      <th>clean_tt</th>\n",
       "      <th>cleaned_category</th>\n",
       "      <th>dezil</th>\n",
       "    </tr>\n",
       "  </thead>\n",
       "  <tbody>\n",
       "    <tr>\n",
       "      <th>0</th>\n",
       "      <td>2006</td>\n",
       "      <td>1</td>\n",
       "      <td>brookings institution (united states)</td>\n",
       "      <td>Top Think Tanks Worldwide (US and non-US)</td>\n",
       "      <td>2013</td>\n",
       "      <td>United States</td>\n",
       "      <td>['(united states)']</td>\n",
       "      <td>brookings institution</td>\n",
       "      <td>Top Think Tanks Worldwide (US and non-US)</td>\n",
       "      <td>1</td>\n",
       "    </tr>\n",
       "  </tbody>\n",
       "</table>\n",
       "</div>"
      ],
      "text/plain": [
       "   2013  Rank                         origin_tt_name  \\\n",
       "0  2006     1  brookings institution (united states)   \n",
       "\n",
       "                                     Category  Year        country  \\\n",
       "0  Top Think Tanks Worldwide (US and non-US)   2013  United States   \n",
       "\n",
       "           parenthesis               clean_tt  \\\n",
       "0  ['(united states)']  brookings institution   \n",
       "\n",
       "                             cleaned_category  dezil  \n",
       "0  Top Think Tanks Worldwide (US and non-US)       1  "
      ]
     },
     "execution_count": 16,
     "metadata": {},
     "output_type": "execute_result"
    }
   ],
   "source": [
    "list_dz_dfs[1].head(1)"
   ]
  },
  {
   "cell_type": "markdown",
   "metadata": {},
   "source": [
    "## 2: overview of datasets:"
   ]
  },
  {
   "cell_type": "code",
   "execution_count": null,
   "metadata": {},
   "outputs": [],
   "source": []
  },
  {
   "cell_type": "code",
   "execution_count": 17,
   "metadata": {},
   "outputs": [
    {
     "name": "stderr",
     "output_type": "stream",
     "text": [
      "/usr/local/lib/python3.7/site-packages/ipykernel_launcher.py:2: FutureWarning:\n",
      "\n",
      "Sorting because non-concatenation axis is not aligned. A future version\n",
      "of pandas will change to not sort by default.\n",
      "\n",
      "To accept the future behavior, pass 'sort=False'.\n",
      "\n",
      "To retain the current behavior and silence the warning, pass 'sort=True'.\n",
      "\n",
      "\n"
     ]
    }
   ],
   "source": [
    "#how many think-tanks in total in this category?\n",
    "top_ww_all = pd.concat(list_dz_dfs)"
   ]
  },
  {
   "cell_type": "markdown",
   "metadata": {},
   "source": [
    "Wieviele einzelne Think Tanks wurden in all den Jahren gerankt? Wenn die Zahl groß ist, bedeutet das, dass viele neue Think Tanks dazu kamen. \n",
    "In diesem Fall kamen insgesamt 54 im Laufe der sieben Jahre dazu. "
   ]
  },
  {
   "cell_type": "code",
   "execution_count": 18,
   "metadata": {},
   "outputs": [
    {
     "data": {
      "text/plain": [
       "204"
      ]
     },
     "execution_count": 18,
     "metadata": {},
     "output_type": "execute_result"
    }
   ],
   "source": [
    "#this is the number of think-tanks that have been listed over 7 years within the ranking:\n",
    "len(top_ww_all['clean_tt'].value_counts())"
   ]
  },
  {
   "cell_type": "markdown",
   "metadata": {},
   "source": [
    "Wir können uns auch für die Think Tanks anzeigen lassen in welchem Dezil sie jedes Jahr gerankt wurden. So kann man schon gut erkennen welche Think Tanks ziemlich stabil waren und bei welchen der Rank stark geschwankt hat. "
   ]
  },
  {
   "cell_type": "code",
   "execution_count": 19,
   "metadata": {},
   "outputs": [],
   "source": [
    "top_ww_all.groupby(['clean_tt','Year'])\n",
    "\n",
    "table_top_ww_all = pd.pivot_table(top_ww_all, values='dezil', index=['clean_tt'], columns=['Year'], \n",
    "               aggfunc=lambda x: list(x))"
   ]
  },
  {
   "cell_type": "code",
   "execution_count": 21,
   "metadata": {},
   "outputs": [
    {
     "data": {
      "text/html": [
       "<div>\n",
       "<style scoped>\n",
       "    .dataframe tbody tr th:only-of-type {\n",
       "        vertical-align: middle;\n",
       "    }\n",
       "\n",
       "    .dataframe tbody tr th {\n",
       "        vertical-align: top;\n",
       "    }\n",
       "\n",
       "    .dataframe thead th {\n",
       "        text-align: right;\n",
       "    }\n",
       "</style>\n",
       "<table border=\"1\" class=\"dataframe\">\n",
       "  <thead>\n",
       "    <tr style=\"text-align: right;\">\n",
       "      <th>Year</th>\n",
       "      <th>2012</th>\n",
       "      <th>2013</th>\n",
       "      <th>2014</th>\n",
       "      <th>2015</th>\n",
       "      <th>2016</th>\n",
       "      <th>2017</th>\n",
       "      <th>2018</th>\n",
       "    </tr>\n",
       "    <tr>\n",
       "      <th>clean_tt</th>\n",
       "      <th></th>\n",
       "      <th></th>\n",
       "      <th></th>\n",
       "      <th></th>\n",
       "      <th></th>\n",
       "      <th></th>\n",
       "      <th></th>\n",
       "    </tr>\n",
       "  </thead>\n",
       "  <tbody>\n",
       "    <tr>\n",
       "      <th>adam smith institute</th>\n",
       "      <td>NaN</td>\n",
       "      <td>NaN</td>\n",
       "      <td>NaN</td>\n",
       "      <td>[9]</td>\n",
       "      <td>[9]</td>\n",
       "      <td>[9]</td>\n",
       "      <td>[9]</td>\n",
       "    </tr>\n",
       "  </tbody>\n",
       "</table>\n",
       "</div>"
      ],
      "text/plain": [
       "Year                 2012 2013 2014 2015 2016 2017 2018\n",
       "clean_tt                                               \n",
       "adam smith institute  NaN  NaN  NaN  [9]  [9]  [9]  [9]"
      ]
     },
     "execution_count": 21,
     "metadata": {},
     "output_type": "execute_result"
    }
   ],
   "source": [
    "table_top_ww_all.head(1)"
   ]
  },
  {
   "cell_type": "code",
   "execution_count": 22,
   "metadata": {},
   "outputs": [],
   "source": [
    "#table_top_ww_all[table_top_ww_all['Year']==2008]"
   ]
  },
  {
   "cell_type": "code",
   "execution_count": 23,
   "metadata": {},
   "outputs": [],
   "source": [
    "#An initial approach: how many unique think-tanks per decile, over the years?\n",
    "dz_years = top_ww_all.groupby('dezil')['clean_tt'].nunique()"
   ]
  },
  {
   "cell_type": "code",
   "execution_count": 24,
   "metadata": {},
   "outputs": [
    {
     "data": {
      "text/plain": [
       "<matplotlib.axes._subplots.AxesSubplot at 0x11b0f19b0>"
      ]
     },
     "execution_count": 24,
     "metadata": {},
     "output_type": "execute_result"
    },
    {
     "data": {
      "image/png": "[encoded data removed]",
      "text/plain": [
       "<Figure size 432x288 with 1 Axes>"
      ]
     },
     "metadata": {
      "needs_background": "light"
     },
     "output_type": "display_data"
    }
   ],
   "source": [
    "dz_years.plot.bar(x='dezil', y='unique think tanks (2012-18)')\n",
    "#dz_years.plot(color='orange')"
   ]
  },
  {
   "cell_type": "code",
   "execution_count": null,
   "metadata": {},
   "outputs": [],
   "source": []
  },
  {
   "cell_type": "code",
   "execution_count": 25,
   "metadata": {},
   "outputs": [
    {
     "data": {
      "text/plain": [
       "dezil\n",
       "1     22\n",
       "2     34\n",
       "3     37\n",
       "4     38\n",
       "5     37\n",
       "6     37\n",
       "7     34\n",
       "8     31\n",
       "9     35\n",
       "10    42\n",
       "Name: clean_tt, dtype: int64"
      ]
     },
     "execution_count": 25,
     "metadata": {},
     "output_type": "execute_result"
    }
   ],
   "source": [
    "dz_years"
   ]
  },
  {
   "cell_type": "code",
   "execution_count": 26,
   "metadata": {},
   "outputs": [],
   "source": [
    "sanky = table_top_ww_all[[2012,2018]]\n",
    "sanky = sanky.fillna(0)\n",
    "\n",
    "sanky[2012] = sanky[2012].apply(get_list_element)\n",
    "sanky[2018] = sanky[2018].apply(get_list_element)\n",
    "sanky['value'] = 1"
   ]
  },
  {
   "cell_type": "code",
   "execution_count": 27,
   "metadata": {},
   "outputs": [],
   "source": [
    "sanky_export = sanky.groupby([2012,2018]).size().reset_index().rename(columns={0:'count'})\n",
    "#sanky_export"
   ]
  },
  {
   "cell_type": "code",
   "execution_count": 28,
   "metadata": {},
   "outputs": [],
   "source": [
    "sanky_export.reset_index().to_csv('../results/sanky_test.csv',index_label=False,index=False)"
   ]
  },
  {
   "cell_type": "markdown",
   "metadata": {},
   "source": [
    " Auf dieser Seite kann man Sanky Diagrams erstellen: \n",
    " https://chart-studio.plot.ly"
   ]
  },
  {
   "cell_type": "markdown",
   "metadata": {},
   "source": [
    "## Research Areas"
   ]
  },
  {
   "cell_type": "code",
   "execution_count": 29,
   "metadata": {},
   "outputs": [],
   "source": [
    "#Übersicht wie viele think-tanks pro Jahr pro Kategorie\n",
    "table_research = pd.pivot_table(df_research, values='clean_tt', index=['cleaned_category'], columns=['Year'], \n",
    "               aggfunc=lambda x: len(x.unique()))"
   ]
  },
  {
   "cell_type": "code",
   "execution_count": 31,
   "metadata": {},
   "outputs": [
    {
     "data": {
      "text/html": [
       "<div>\n",
       "<style scoped>\n",
       "    .dataframe tbody tr th:only-of-type {\n",
       "        vertical-align: middle;\n",
       "    }\n",
       "\n",
       "    .dataframe tbody tr th {\n",
       "        vertical-align: top;\n",
       "    }\n",
       "\n",
       "    .dataframe thead th {\n",
       "        text-align: right;\n",
       "    }\n",
       "</style>\n",
       "<table border=\"1\" class=\"dataframe\">\n",
       "  <thead>\n",
       "    <tr style=\"text-align: right;\">\n",
       "      <th>Year</th>\n",
       "      <th>2008</th>\n",
       "      <th>2009</th>\n",
       "      <th>2010</th>\n",
       "      <th>2011</th>\n",
       "      <th>2012</th>\n",
       "      <th>2013</th>\n",
       "      <th>2014</th>\n",
       "      <th>2015</th>\n",
       "      <th>2016</th>\n",
       "      <th>2017</th>\n",
       "      <th>2018</th>\n",
       "    </tr>\n",
       "    <tr>\n",
       "      <th>cleaned_category</th>\n",
       "      <th></th>\n",
       "      <th></th>\n",
       "      <th></th>\n",
       "      <th></th>\n",
       "      <th></th>\n",
       "      <th></th>\n",
       "      <th></th>\n",
       "      <th></th>\n",
       "      <th></th>\n",
       "      <th></th>\n",
       "      <th></th>\n",
       "    </tr>\n",
       "  </thead>\n",
       "  <tbody>\n",
       "    <tr>\n",
       "      <th>List of Food Security Think Tanks (Alphabetical Listing not ranked)</th>\n",
       "      <td>NaN</td>\n",
       "      <td>NaN</td>\n",
       "      <td>NaN</td>\n",
       "      <td>NaN</td>\n",
       "      <td>NaN</td>\n",
       "      <td>NaN</td>\n",
       "      <td>NaN</td>\n",
       "      <td>NaN</td>\n",
       "      <td>NaN</td>\n",
       "      <td>NaN</td>\n",
       "      <td>133.0</td>\n",
       "    </tr>\n",
       "  </tbody>\n",
       "</table>\n",
       "</div>"
      ],
      "text/plain": [
       "Year                                                2008  2009  2010  2011  \\\n",
       "cleaned_category                                                             \n",
       "List of Food Security Think Tanks (Alphabetical...   NaN   NaN   NaN   NaN   \n",
       "\n",
       "Year                                                2012  2013  2014  2015  \\\n",
       "cleaned_category                                                             \n",
       "List of Food Security Think Tanks (Alphabetical...   NaN   NaN   NaN   NaN   \n",
       "\n",
       "Year                                                2016  2017   2018  \n",
       "cleaned_category                                                       \n",
       "List of Food Security Think Tanks (Alphabetical...   NaN   NaN  133.0  "
      ]
     },
     "execution_count": 31,
     "metadata": {},
     "output_type": "execute_result"
    }
   ],
   "source": [
    "table_research.head(1)"
   ]
  },
  {
   "cell_type": "code",
   "execution_count": 32,
   "metadata": {},
   "outputs": [
    {
     "data": {
      "text/plain": [
       "Year\n",
       "2008    11.0\n",
       "2009    10.0\n",
       "2010    25.0\n",
       "2011    30.0\n",
       "2012    49.0\n",
       "2013    50.0\n",
       "2014    50.0\n",
       "2015    81.0\n",
       "2016    84.0\n",
       "2017    83.0\n",
       "2018    86.0\n",
       "Name: Top International Economics Policy Think Tanks, dtype: float64"
      ]
     },
     "execution_count": 32,
     "metadata": {},
     "output_type": "execute_result"
    }
   ],
   "source": [
    "table_research.loc['Top International Economics Policy Think Tanks']"
   ]
  },
  {
   "cell_type": "code",
   "execution_count": 33,
   "metadata": {},
   "outputs": [],
   "source": [
    "#get dataframe for category: Top Think Tanks Worldwide (US and non-US)\n",
    "test_int_economics = df_research[df_research['cleaned_category']=='Top International Economics Policy Think Tanks']"
   ]
  },
  {
   "cell_type": "code",
   "execution_count": 34,
   "metadata": {},
   "outputs": [],
   "source": [
    "list_int_ec = []\n",
    "for year, df_year in test_int_economics.groupby('Year'):\n",
    "    #name the dataframe\n",
    "    df_year.index.name=year\n",
    "    #append dataframe to list\n",
    "    list_int_ec.append(df_year)"
   ]
  },
  {
   "cell_type": "code",
   "execution_count": 37,
   "metadata": {},
   "outputs": [
    {
     "data": {
      "text/html": [
       "<div>\n",
       "<style scoped>\n",
       "    .dataframe tbody tr th:only-of-type {\n",
       "        vertical-align: middle;\n",
       "    }\n",
       "\n",
       "    .dataframe tbody tr th {\n",
       "        vertical-align: top;\n",
       "    }\n",
       "\n",
       "    .dataframe thead th {\n",
       "        text-align: right;\n",
       "    }\n",
       "</style>\n",
       "<table border=\"1\" class=\"dataframe\">\n",
       "  <thead>\n",
       "    <tr style=\"text-align: right;\">\n",
       "      <th></th>\n",
       "      <th>Rank</th>\n",
       "      <th>origin_tt_name</th>\n",
       "      <th>Category</th>\n",
       "      <th>Year</th>\n",
       "      <th>country</th>\n",
       "      <th>parenthesis</th>\n",
       "      <th>clean_tt</th>\n",
       "      <th>cleaned_category</th>\n",
       "    </tr>\n",
       "    <tr>\n",
       "      <th>2008</th>\n",
       "      <th></th>\n",
       "      <th></th>\n",
       "      <th></th>\n",
       "      <th></th>\n",
       "      <th></th>\n",
       "      <th></th>\n",
       "      <th></th>\n",
       "      <th></th>\n",
       "    </tr>\n",
       "  </thead>\n",
       "  <tbody>\n",
       "    <tr>\n",
       "      <th>54</th>\n",
       "      <td>1</td>\n",
       "      <td>brookings institution (usa)</td>\n",
       "      <td>top 10 international economic policy think tanks</td>\n",
       "      <td>2008</td>\n",
       "      <td>United States</td>\n",
       "      <td>['(usa)']</td>\n",
       "      <td>brookings institution</td>\n",
       "      <td>Top International Economics Policy Think Tanks</td>\n",
       "    </tr>\n",
       "  </tbody>\n",
       "</table>\n",
       "</div>"
      ],
      "text/plain": [
       "      Rank               origin_tt_name  \\\n",
       "2008                                      \n",
       "54       1  brookings institution (usa)   \n",
       "\n",
       "                                              Category  Year        country  \\\n",
       "2008                                                                          \n",
       "54    top 10 international economic policy think tanks  2008  United States   \n",
       "\n",
       "     parenthesis               clean_tt  \\\n",
       "2008                                      \n",
       "54     ['(usa)']  brookings institution   \n",
       "\n",
       "                                    cleaned_category  \n",
       "2008                                                  \n",
       "54    Top International Economics Policy Think Tanks  "
      ]
     },
     "execution_count": 37,
     "metadata": {},
     "output_type": "execute_result"
    }
   ],
   "source": [
    "#you can access each dataframe by indexing the list:\n",
    "list_int_ec[0].head(1)"
   ]
  },
  {
   "cell_type": "code",
   "execution_count": 38,
   "metadata": {},
   "outputs": [
    {
     "data": {
      "text/plain": [
       "9"
      ]
     },
     "execution_count": 38,
     "metadata": {},
     "output_type": "execute_result"
    }
   ],
   "source": [
    "#drop years with too little values and set them to equal length of 150:\n",
    "final_list_2 = []\n",
    "for l in list_int_ec:\n",
    "    if len(l)>24.0:\n",
    "        l = l.head(25).reset_index()\n",
    "        final_list_2.append(l)\n",
    "        \n",
    "len(final_list_2)"
   ]
  },
  {
   "cell_type": "code",
   "execution_count": 39,
   "metadata": {},
   "outputs": [],
   "source": [
    "#create a list of datasets. each datasets split-rearranged by groups:\n",
    "list_dz_dfs_2 = []\n",
    "for f in final_list_2:\n",
    "    dz_df_2 = np.array_split(f, 10)\n",
    "    dz_list_2 = []\n",
    "    for idx,group in enumerate(dz_df_2):\n",
    "        group['dezil'] = idx+1\n",
    "        dz_list_2.append(group)\n",
    "    dz_all_2 = pd.concat(dz_list_2)\n",
    "    list_dz_dfs_2.append(dz_all_2)"
   ]
  },
  {
   "cell_type": "code",
   "execution_count": 40,
   "metadata": {},
   "outputs": [
    {
     "data": {
      "text/html": [
       "<div>\n",
       "<style scoped>\n",
       "    .dataframe tbody tr th:only-of-type {\n",
       "        vertical-align: middle;\n",
       "    }\n",
       "\n",
       "    .dataframe tbody tr th {\n",
       "        vertical-align: top;\n",
       "    }\n",
       "\n",
       "    .dataframe thead th {\n",
       "        text-align: right;\n",
       "    }\n",
       "</style>\n",
       "<table border=\"1\" class=\"dataframe\">\n",
       "  <thead>\n",
       "    <tr style=\"text-align: right;\">\n",
       "      <th></th>\n",
       "      <th>2010</th>\n",
       "      <th>Rank</th>\n",
       "      <th>origin_tt_name</th>\n",
       "      <th>Category</th>\n",
       "      <th>Year</th>\n",
       "      <th>country</th>\n",
       "      <th>parenthesis</th>\n",
       "      <th>clean_tt</th>\n",
       "      <th>cleaned_category</th>\n",
       "      <th>dezil</th>\n",
       "    </tr>\n",
       "  </thead>\n",
       "  <tbody>\n",
       "    <tr>\n",
       "      <th>0</th>\n",
       "      <td>272</td>\n",
       "      <td>1</td>\n",
       "      <td>brookings institution (united states)</td>\n",
       "      <td>top 25 international economic policy think tanks</td>\n",
       "      <td>2010</td>\n",
       "      <td>United States</td>\n",
       "      <td>['(united states)']</td>\n",
       "      <td>brookings institution</td>\n",
       "      <td>Top International Economics Policy Think Tanks</td>\n",
       "      <td>1</td>\n",
       "    </tr>\n",
       "  </tbody>\n",
       "</table>\n",
       "</div>"
      ],
      "text/plain": [
       "   2010  Rank                         origin_tt_name  \\\n",
       "0   272     1  brookings institution (united states)   \n",
       "\n",
       "                                           Category  Year        country  \\\n",
       "0  top 25 international economic policy think tanks  2010  United States   \n",
       "\n",
       "           parenthesis               clean_tt  \\\n",
       "0  ['(united states)']  brookings institution   \n",
       "\n",
       "                                 cleaned_category  dezil  \n",
       "0  Top International Economics Policy Think Tanks      1  "
      ]
     },
     "execution_count": 40,
     "metadata": {},
     "output_type": "execute_result"
    }
   ],
   "source": [
    "list_dz_dfs_2[0].head(1)"
   ]
  },
  {
   "cell_type": "code",
   "execution_count": 41,
   "metadata": {},
   "outputs": [
    {
     "name": "stderr",
     "output_type": "stream",
     "text": [
      "/usr/local/lib/python3.7/site-packages/ipykernel_launcher.py:2: FutureWarning:\n",
      "\n",
      "Sorting because non-concatenation axis is not aligned. A future version\n",
      "of pandas will change to not sort by default.\n",
      "\n",
      "To accept the future behavior, pass 'sort=False'.\n",
      "\n",
      "To retain the current behavior and silence the warning, pass 'sort=True'.\n",
      "\n",
      "\n"
     ]
    }
   ],
   "source": [
    "#how many think-tanks in total in this category?\n",
    "top_int_ec_all = pd.concat(list_dz_dfs_2)"
   ]
  },
  {
   "cell_type": "code",
   "execution_count": 42,
   "metadata": {},
   "outputs": [
    {
     "data": {
      "text/plain": [
       "47"
      ]
     },
     "execution_count": 42,
     "metadata": {},
     "output_type": "execute_result"
    }
   ],
   "source": [
    "#this is the number of think-tanks that have been listed over 7 years within the ranking:\n",
    "len(top_int_ec_all['clean_tt'].value_counts())"
   ]
  },
  {
   "cell_type": "code",
   "execution_count": 43,
   "metadata": {},
   "outputs": [],
   "source": [
    "top_int_ec_all.groupby(['clean_tt','Year'])\n",
    "\n",
    "table_top_int_ec_all = pd.pivot_table(top_int_ec_all, values='dezil', index=['clean_tt'], columns=['Year'], \n",
    "               aggfunc=lambda x: list(x))"
   ]
  },
  {
   "cell_type": "code",
   "execution_count": 45,
   "metadata": {},
   "outputs": [
    {
     "data": {
      "text/html": [
       "<div>\n",
       "<style scoped>\n",
       "    .dataframe tbody tr th:only-of-type {\n",
       "        vertical-align: middle;\n",
       "    }\n",
       "\n",
       "    .dataframe tbody tr th {\n",
       "        vertical-align: top;\n",
       "    }\n",
       "\n",
       "    .dataframe thead th {\n",
       "        text-align: right;\n",
       "    }\n",
       "</style>\n",
       "<table border=\"1\" class=\"dataframe\">\n",
       "  <thead>\n",
       "    <tr style=\"text-align: right;\">\n",
       "      <th>Year</th>\n",
       "      <th>2010</th>\n",
       "      <th>2011</th>\n",
       "      <th>2012</th>\n",
       "      <th>2013</th>\n",
       "      <th>2014</th>\n",
       "      <th>2015</th>\n",
       "      <th>2016</th>\n",
       "      <th>2017</th>\n",
       "      <th>2018</th>\n",
       "    </tr>\n",
       "    <tr>\n",
       "      <th>clean_tt</th>\n",
       "      <th></th>\n",
       "      <th></th>\n",
       "      <th></th>\n",
       "      <th></th>\n",
       "      <th></th>\n",
       "      <th></th>\n",
       "      <th></th>\n",
       "      <th></th>\n",
       "      <th></th>\n",
       "    </tr>\n",
       "  </thead>\n",
       "  <tbody>\n",
       "    <tr>\n",
       "      <th>adam smith institute</th>\n",
       "      <td>NaN</td>\n",
       "      <td>[8]</td>\n",
       "      <td>[4]</td>\n",
       "      <td>[3]</td>\n",
       "      <td>[2]</td>\n",
       "      <td>[3]</td>\n",
       "      <td>[2]</td>\n",
       "      <td>[3]</td>\n",
       "      <td>[3]</td>\n",
       "    </tr>\n",
       "  </tbody>\n",
       "</table>\n",
       "</div>"
      ],
      "text/plain": [
       "Year                 2010 2011 2012 2013 2014 2015 2016 2017 2018\n",
       "clean_tt                                                         \n",
       "adam smith institute  NaN  [8]  [4]  [3]  [2]  [3]  [2]  [3]  [3]"
      ]
     },
     "execution_count": 45,
     "metadata": {},
     "output_type": "execute_result"
    }
   ],
   "source": [
    "table_top_int_ec_all.head(1)"
   ]
  },
  {
   "cell_type": "code",
   "execution_count": 46,
   "metadata": {},
   "outputs": [],
   "source": [
    "#An initial approach: how many unique think-tanks per decile, over the years?\n",
    "dz_years_2 = top_int_ec_all.groupby('dezil')['clean_tt'].nunique()"
   ]
  },
  {
   "cell_type": "code",
   "execution_count": 47,
   "metadata": {},
   "outputs": [
    {
     "data": {
      "text/plain": [
       "<matplotlib.axes._subplots.AxesSubplot at 0x10c296710>"
      ]
     },
     "execution_count": 47,
     "metadata": {},
     "output_type": "execute_result"
    },
    {
     "data": {
      "image/png": "[encoded data removed]",
      "text/plain": [
       "<Figure size 432x288 with 1 Axes>"
      ]
     },
     "metadata": {
      "needs_background": "light"
     },
     "output_type": "display_data"
    }
   ],
   "source": [
    "dz_years_2.plot.bar(x='dezil', y='unique think tanks (2010-18)')\n",
    "#dz_years.plot(color='orange')"
   ]
  },
  {
   "cell_type": "code",
   "execution_count": 48,
   "metadata": {},
   "outputs": [
    {
     "data": {
      "text/plain": [
       "dezil\n",
       "1      5\n",
       "2     13\n",
       "3     11\n",
       "4     14\n",
       "5     17\n",
       "6     12\n",
       "7     13\n",
       "8     13\n",
       "9     13\n",
       "10    11\n",
       "Name: clean_tt, dtype: int64"
      ]
     },
     "execution_count": 48,
     "metadata": {},
     "output_type": "execute_result"
    }
   ],
   "source": [
    "dz_years_2"
   ]
  },
  {
   "cell_type": "markdown",
   "metadata": {},
   "source": [
    "## Special "
   ]
  },
  {
   "cell_type": "code",
   "execution_count": 49,
   "metadata": {},
   "outputs": [],
   "source": [
    "#Übersicht wie viele think-tanks pro Jahr pro Kategorie\n",
    "table_special = pd.pivot_table(df_special, values='clean_tt', index=['cleaned_category'], columns=['Year'], \n",
    "               aggfunc=lambda x: len(x.unique()))\n"
   ]
  },
  {
   "cell_type": "code",
   "execution_count": 50,
   "metadata": {},
   "outputs": [
    {
     "data": {
      "text/html": [
       "<div>\n",
       "<style scoped>\n",
       "    .dataframe tbody tr th:only-of-type {\n",
       "        vertical-align: middle;\n",
       "    }\n",
       "\n",
       "    .dataframe tbody tr th {\n",
       "        vertical-align: top;\n",
       "    }\n",
       "\n",
       "    .dataframe thead th {\n",
       "        text-align: right;\n",
       "    }\n",
       "</style>\n",
       "<table border=\"1\" class=\"dataframe\">\n",
       "  <thead>\n",
       "    <tr style=\"text-align: right;\">\n",
       "      <th>Year</th>\n",
       "      <th>2008</th>\n",
       "      <th>2009</th>\n",
       "      <th>2010</th>\n",
       "      <th>2011</th>\n",
       "      <th>2012</th>\n",
       "      <th>2013</th>\n",
       "      <th>2014</th>\n",
       "      <th>2015</th>\n",
       "      <th>2016</th>\n",
       "      <th>2017</th>\n",
       "      <th>2018</th>\n",
       "    </tr>\n",
       "    <tr>\n",
       "      <th>cleaned_category</th>\n",
       "      <th></th>\n",
       "      <th></th>\n",
       "      <th></th>\n",
       "      <th></th>\n",
       "      <th></th>\n",
       "      <th></th>\n",
       "      <th></th>\n",
       "      <th></th>\n",
       "      <th></th>\n",
       "      <th></th>\n",
       "      <th></th>\n",
       "    </tr>\n",
       "  </thead>\n",
       "  <tbody>\n",
       "    <tr>\n",
       "      <th>Best Advocacy Campaign</th>\n",
       "      <td>NaN</td>\n",
       "      <td>NaN</td>\n",
       "      <td>NaN</td>\n",
       "      <td>NaN</td>\n",
       "      <td>74.0</td>\n",
       "      <td>74.0</td>\n",
       "      <td>75.0</td>\n",
       "      <td>88.0</td>\n",
       "      <td>89.0</td>\n",
       "      <td>89.0</td>\n",
       "      <td>94.0</td>\n",
       "    </tr>\n",
       "  </tbody>\n",
       "</table>\n",
       "</div>"
      ],
      "text/plain": [
       "Year                    2008  2009  2010  2011  2012  2013  2014  2015  2016  \\\n",
       "cleaned_category                                                               \n",
       "Best Advocacy Campaign   NaN   NaN   NaN   NaN  74.0  74.0  75.0  88.0  89.0   \n",
       "\n",
       "Year                    2017  2018  \n",
       "cleaned_category                    \n",
       "Best Advocacy Campaign  89.0  94.0  "
      ]
     },
     "execution_count": 50,
     "metadata": {},
     "output_type": "execute_result"
    }
   ],
   "source": [
    "table_special.head(1)"
   ]
  },
  {
   "cell_type": "code",
   "execution_count": 51,
   "metadata": {},
   "outputs": [
    {
     "data": {
      "text/plain": [
       "Year\n",
       "2008     NaN\n",
       "2009     NaN\n",
       "2010    25.0\n",
       "2011    30.0\n",
       "2012    49.0\n",
       "2013    50.0\n",
       "2014    50.0\n",
       "2015    75.0\n",
       "2016    75.0\n",
       "2017    77.0\n",
       "2018    77.0\n",
       "Name: Think Tanks with the Best External Relations/Public Engagement Program, dtype: float64"
      ]
     },
     "execution_count": 51,
     "metadata": {},
     "output_type": "execute_result"
    }
   ],
   "source": [
    "table_special.loc['Think Tanks with the Best External Relations/Public Engagement Program']"
   ]
  },
  {
   "cell_type": "code",
   "execution_count": 52,
   "metadata": {},
   "outputs": [],
   "source": [
    "#get dataframe for category: Top Think Tanks Worldwide (US and non-US)\n",
    "test_innovative = df_special[df_special['cleaned_category']=='Think Tanks with the Most Innovative Policy Ideas/Proposals']"
   ]
  },
  {
   "cell_type": "code",
   "execution_count": 53,
   "metadata": {},
   "outputs": [],
   "source": [
    "list_innovative = []\n",
    "for year, df_year in test_innovative.groupby('Year'):\n",
    "    #name the dataframe\n",
    "    df_year.index.name=year\n",
    "    #append dataframe to list\n",
    "    list_innovative.append(df_year)"
   ]
  },
  {
   "cell_type": "code",
   "execution_count": 54,
   "metadata": {},
   "outputs": [
    {
     "data": {
      "text/html": [
       "<div>\n",
       "<style scoped>\n",
       "    .dataframe tbody tr th:only-of-type {\n",
       "        vertical-align: middle;\n",
       "    }\n",
       "\n",
       "    .dataframe tbody tr th {\n",
       "        vertical-align: top;\n",
       "    }\n",
       "\n",
       "    .dataframe thead th {\n",
       "        text-align: right;\n",
       "    }\n",
       "</style>\n",
       "<table border=\"1\" class=\"dataframe\">\n",
       "  <thead>\n",
       "    <tr style=\"text-align: right;\">\n",
       "      <th></th>\n",
       "      <th>Rank</th>\n",
       "      <th>origin_tt_name</th>\n",
       "      <th>Category</th>\n",
       "      <th>Year</th>\n",
       "      <th>country</th>\n",
       "      <th>parenthesis</th>\n",
       "      <th>clean_tt</th>\n",
       "      <th>cleaned_category</th>\n",
       "    </tr>\n",
       "    <tr>\n",
       "      <th>2008</th>\n",
       "      <th></th>\n",
       "      <th></th>\n",
       "      <th></th>\n",
       "      <th></th>\n",
       "      <th></th>\n",
       "      <th></th>\n",
       "      <th></th>\n",
       "      <th></th>\n",
       "    </tr>\n",
       "  </thead>\n",
       "  <tbody>\n",
       "    <tr>\n",
       "      <th>0</th>\n",
       "      <td>1</td>\n",
       "      <td>cato institute (usa)</td>\n",
       "      <td>Think Tanks with the Most Innovative Policy/Id...</td>\n",
       "      <td>2008</td>\n",
       "      <td>United States</td>\n",
       "      <td>['(usa)']</td>\n",
       "      <td>cato institute</td>\n",
       "      <td>Think Tanks with the Most Innovative Policy Id...</td>\n",
       "    </tr>\n",
       "  </tbody>\n",
       "</table>\n",
       "</div>"
      ],
      "text/plain": [
       "      Rank        origin_tt_name  \\\n",
       "2008                               \n",
       "0        1  cato institute (usa)   \n",
       "\n",
       "                                               Category  Year        country  \\\n",
       "2008                                                                           \n",
       "0     Think Tanks with the Most Innovative Policy/Id...  2008  United States   \n",
       "\n",
       "     parenthesis        clean_tt  \\\n",
       "2008                               \n",
       "0      ['(usa)']  cato institute   \n",
       "\n",
       "                                       cleaned_category  \n",
       "2008                                                     \n",
       "0     Think Tanks with the Most Innovative Policy Id...  "
      ]
     },
     "execution_count": 54,
     "metadata": {},
     "output_type": "execute_result"
    }
   ],
   "source": [
    "#you can access each dataframe by indexing the list:\n",
    "list_innovative[0].head(1)"
   ]
  },
  {
   "cell_type": "code",
   "execution_count": 55,
   "metadata": {},
   "outputs": [
    {
     "data": {
      "text/plain": [
       "9"
      ]
     },
     "execution_count": 55,
     "metadata": {},
     "output_type": "execute_result"
    }
   ],
   "source": [
    "#drop years with too little values and set them to equal length of 150:\n",
    "final_list_3 = []\n",
    "for l in list_innovative:\n",
    "    if len(l)>24.0:\n",
    "        l = l.head(25).reset_index()\n",
    "        final_list_3.append(l)\n",
    "        \n",
    "len(final_list_3)"
   ]
  },
  {
   "cell_type": "code",
   "execution_count": 56,
   "metadata": {},
   "outputs": [],
   "source": [
    "#create a list of datasets. each datasets split-rearranged by groups:\n",
    "list_dz_dfs_3 = []\n",
    "for f in final_list_3:\n",
    "    dz_df_3 = np.array_split(f, 10)\n",
    "    dz_list_3 = []\n",
    "    for idx,group in enumerate(dz_df_3):\n",
    "        group['dezil'] = idx+1\n",
    "        dz_list_3.append(group)\n",
    "    dz_all_3 = pd.concat(dz_list_3)\n",
    "    list_dz_dfs_3.append(dz_all_3)"
   ]
  },
  {
   "cell_type": "code",
   "execution_count": 58,
   "metadata": {},
   "outputs": [
    {
     "data": {
      "text/html": [
       "<div>\n",
       "<style scoped>\n",
       "    .dataframe tbody tr th:only-of-type {\n",
       "        vertical-align: middle;\n",
       "    }\n",
       "\n",
       "    .dataframe tbody tr th {\n",
       "        vertical-align: top;\n",
       "    }\n",
       "\n",
       "    .dataframe thead th {\n",
       "        text-align: right;\n",
       "    }\n",
       "</style>\n",
       "<table border=\"1\" class=\"dataframe\">\n",
       "  <thead>\n",
       "    <tr style=\"text-align: right;\">\n",
       "      <th></th>\n",
       "      <th>2010</th>\n",
       "      <th>Rank</th>\n",
       "      <th>origin_tt_name</th>\n",
       "      <th>Category</th>\n",
       "      <th>Year</th>\n",
       "      <th>country</th>\n",
       "      <th>parenthesis</th>\n",
       "      <th>clean_tt</th>\n",
       "      <th>cleaned_category</th>\n",
       "      <th>dezil</th>\n",
       "    </tr>\n",
       "  </thead>\n",
       "  <tbody>\n",
       "    <tr>\n",
       "      <th>0</th>\n",
       "      <td>52</td>\n",
       "      <td>1</td>\n",
       "      <td>brookings institution (united states)</td>\n",
       "      <td>Think Tanks with the Most Innovative Policy/Id...</td>\n",
       "      <td>2010</td>\n",
       "      <td>United States</td>\n",
       "      <td>['(united states)']</td>\n",
       "      <td>brookings institution</td>\n",
       "      <td>Think Tanks with the Most Innovative Policy Id...</td>\n",
       "      <td>1</td>\n",
       "    </tr>\n",
       "  </tbody>\n",
       "</table>\n",
       "</div>"
      ],
      "text/plain": [
       "   2010  Rank                         origin_tt_name  \\\n",
       "0    52     1  brookings institution (united states)   \n",
       "\n",
       "                                            Category  Year        country  \\\n",
       "0  Think Tanks with the Most Innovative Policy/Id...  2010  United States   \n",
       "\n",
       "           parenthesis               clean_tt  \\\n",
       "0  ['(united states)']  brookings institution   \n",
       "\n",
       "                                    cleaned_category  dezil  \n",
       "0  Think Tanks with the Most Innovative Policy Id...      1  "
      ]
     },
     "execution_count": 58,
     "metadata": {},
     "output_type": "execute_result"
    }
   ],
   "source": [
    "list_dz_dfs_3[0].head(1)"
   ]
  },
  {
   "cell_type": "code",
   "execution_count": 59,
   "metadata": {},
   "outputs": [
    {
     "name": "stderr",
     "output_type": "stream",
     "text": [
      "/usr/local/lib/python3.7/site-packages/ipykernel_launcher.py:2: FutureWarning:\n",
      "\n",
      "Sorting because non-concatenation axis is not aligned. A future version\n",
      "of pandas will change to not sort by default.\n",
      "\n",
      "To accept the future behavior, pass 'sort=False'.\n",
      "\n",
      "To retain the current behavior and silence the warning, pass 'sort=True'.\n",
      "\n",
      "\n"
     ]
    }
   ],
   "source": [
    "#how many think-tanks in total in this category?\n",
    "top_innovative_all = pd.concat(list_dz_dfs_3)"
   ]
  },
  {
   "cell_type": "code",
   "execution_count": 60,
   "metadata": {},
   "outputs": [
    {
     "data": {
      "text/plain": [
       "49"
      ]
     },
     "execution_count": 60,
     "metadata": {},
     "output_type": "execute_result"
    }
   ],
   "source": [
    "#this is the number of think-tanks that have been listed over the years within the ranking:\n",
    "len(top_innovative_all['clean_tt'].value_counts())"
   ]
  },
  {
   "cell_type": "code",
   "execution_count": 61,
   "metadata": {},
   "outputs": [],
   "source": [
    "top_innovative_all.groupby(['clean_tt','Year'])\n",
    "\n",
    "table_top_innovative_all = pd.pivot_table(top_innovative_all, values='dezil', index=['clean_tt'], columns=['Year'], \n",
    "               aggfunc=lambda x: list(x))"
   ]
  },
  {
   "cell_type": "code",
   "execution_count": 62,
   "metadata": {},
   "outputs": [
    {
     "data": {
      "text/html": [
       "<div>\n",
       "<style scoped>\n",
       "    .dataframe tbody tr th:only-of-type {\n",
       "        vertical-align: middle;\n",
       "    }\n",
       "\n",
       "    .dataframe tbody tr th {\n",
       "        vertical-align: top;\n",
       "    }\n",
       "\n",
       "    .dataframe thead th {\n",
       "        text-align: right;\n",
       "    }\n",
       "</style>\n",
       "<table border=\"1\" class=\"dataframe\">\n",
       "  <thead>\n",
       "    <tr style=\"text-align: right;\">\n",
       "      <th>Year</th>\n",
       "      <th>2010</th>\n",
       "      <th>2011</th>\n",
       "      <th>2012</th>\n",
       "      <th>2013</th>\n",
       "      <th>2014</th>\n",
       "      <th>2015</th>\n",
       "      <th>2016</th>\n",
       "      <th>2017</th>\n",
       "      <th>2018</th>\n",
       "    </tr>\n",
       "    <tr>\n",
       "      <th>clean_tt</th>\n",
       "      <th></th>\n",
       "      <th></th>\n",
       "      <th></th>\n",
       "      <th></th>\n",
       "      <th></th>\n",
       "      <th></th>\n",
       "      <th></th>\n",
       "      <th></th>\n",
       "      <th></th>\n",
       "    </tr>\n",
       "  </thead>\n",
       "  <tbody>\n",
       "    <tr>\n",
       "      <th>american enterprise institute</th>\n",
       "      <td>[3]</td>\n",
       "      <td>NaN</td>\n",
       "      <td>NaN</td>\n",
       "      <td>NaN</td>\n",
       "      <td>NaN</td>\n",
       "      <td>NaN</td>\n",
       "      <td>NaN</td>\n",
       "      <td>NaN</td>\n",
       "      <td>NaN</td>\n",
       "    </tr>\n",
       "  </tbody>\n",
       "</table>\n",
       "</div>"
      ],
      "text/plain": [
       "Year                          2010 2011 2012 2013 2014 2015 2016 2017 2018\n",
       "clean_tt                                                                  \n",
       "american enterprise institute  [3]  NaN  NaN  NaN  NaN  NaN  NaN  NaN  NaN"
      ]
     },
     "execution_count": 62,
     "metadata": {},
     "output_type": "execute_result"
    }
   ],
   "source": [
    "table_top_innovative_all.head(1)"
   ]
  },
  {
   "cell_type": "code",
   "execution_count": 63,
   "metadata": {},
   "outputs": [],
   "source": [
    "#An initial approach: how many unique think-tanks per decile, over the years?\n",
    "dz_years_3 = top_innovative_all.groupby('dezil')['clean_tt'].nunique()"
   ]
  },
  {
   "cell_type": "code",
   "execution_count": 64,
   "metadata": {},
   "outputs": [
    {
     "data": {
      "text/plain": [
       "<matplotlib.axes._subplots.AxesSubplot at 0x11e01ea90>"
      ]
     },
     "execution_count": 64,
     "metadata": {},
     "output_type": "execute_result"
    },
    {
     "data": {
      "image/png": "[encoded data removed]",
      "text/plain": [
       "<Figure size 432x288 with 1 Axes>"
      ]
     },
     "metadata": {
      "needs_background": "light"
     },
     "output_type": "display_data"
    }
   ],
   "source": [
    "dz_years_3.plot.bar(x='dezil', y='unique think tanks (2010-18)')\n",
    "#dz_years.plot(color='orange')"
   ]
  },
  {
   "cell_type": "code",
   "execution_count": 65,
   "metadata": {},
   "outputs": [
    {
     "data": {
      "text/plain": [
       "dezil\n",
       "1      9\n",
       "2     11\n",
       "3     12\n",
       "4     17\n",
       "5     13\n",
       "6     12\n",
       "7     15\n",
       "8     16\n",
       "9     12\n",
       "10    11\n",
       "Name: clean_tt, dtype: int64"
      ]
     },
     "execution_count": 65,
     "metadata": {},
     "output_type": "execute_result"
    }
   ],
   "source": [
    "dz_years_3"
   ]
  },
  {
   "cell_type": "markdown",
   "metadata": {},
   "source": [
    "# Were the think tanks in new categories already listed in previeous rankings?"
   ]
  },
  {
   "cell_type": "markdown",
   "metadata": {},
   "source": [
    "Was wir eigentlich rausfinden wollen ist, ob die Think Tanks in den neu hinzugefügten Kategorien vorher schon im Ranking waren. Vor allem interessiert uns ob die Top 10/Top 20 in anderen Kategorien vorher schon so hoch gerankt wurden. Unsere Vermutung ist es, dass die neuen Kategorien vor allem dazukommen um mehr Think Tanks hoch zu ranken. Dadurch wird das Ranking für eine größere Anzahl an Think Tanks interessant und diese machen dann das Ranking populärer. \n",
    "Aber ist das auch wirklich so? "
   ]
  },
  {
   "cell_type": "code",
   "execution_count": 66,
   "metadata": {},
   "outputs": [
    {
     "data": {
      "text/plain": [
       "Year\n",
       "2008     NaN\n",
       "2009     NaN\n",
       "2010     NaN\n",
       "2011     NaN\n",
       "2012    74.0\n",
       "2013    74.0\n",
       "2014    75.0\n",
       "2015    88.0\n",
       "2016    89.0\n",
       "2017    89.0\n",
       "2018    94.0\n",
       "Name: Best Advocacy Campaign, dtype: float64"
      ]
     },
     "execution_count": 66,
     "metadata": {},
     "output_type": "execute_result"
    }
   ],
   "source": [
    "table_special.loc['Best Advocacy Campaign']"
   ]
  },
  {
   "cell_type": "markdown",
   "metadata": {},
   "source": [
    "Wir bilden wieder ein Dataframe für die ausgewählte Kategorie. "
   ]
  },
  {
   "cell_type": "code",
   "execution_count": 67,
   "metadata": {},
   "outputs": [],
   "source": [
    "#get dataframe for category: Best Advocacy Campaign\n",
    "test_best_adv = df_special[df_special['cleaned_category']=='Best Advocacy Campaign']"
   ]
  },
  {
   "cell_type": "code",
   "execution_count": 68,
   "metadata": {},
   "outputs": [
    {
     "data": {
      "text/html": [
       "<div>\n",
       "<style scoped>\n",
       "    .dataframe tbody tr th:only-of-type {\n",
       "        vertical-align: middle;\n",
       "    }\n",
       "\n",
       "    .dataframe tbody tr th {\n",
       "        vertical-align: top;\n",
       "    }\n",
       "\n",
       "    .dataframe thead th {\n",
       "        text-align: right;\n",
       "    }\n",
       "</style>\n",
       "<table border=\"1\" class=\"dataframe\">\n",
       "  <thead>\n",
       "    <tr style=\"text-align: right;\">\n",
       "      <th></th>\n",
       "      <th>Rank</th>\n",
       "      <th>origin_tt_name</th>\n",
       "      <th>Category</th>\n",
       "      <th>Year</th>\n",
       "      <th>country</th>\n",
       "      <th>parenthesis</th>\n",
       "      <th>clean_tt</th>\n",
       "      <th>cleaned_category</th>\n",
       "    </tr>\n",
       "  </thead>\n",
       "  <tbody>\n",
       "    <tr>\n",
       "      <th>1029</th>\n",
       "      <td>1</td>\n",
       "      <td>amnesty international (ai) (united kingdom)</td>\n",
       "      <td>Best Advocacy Campaign</td>\n",
       "      <td>2012</td>\n",
       "      <td>United Kingdom</td>\n",
       "      <td>['(ai)', '(united kingdom)']</td>\n",
       "      <td>amnesty international</td>\n",
       "      <td>Best Advocacy Campaign</td>\n",
       "    </tr>\n",
       "  </tbody>\n",
       "</table>\n",
       "</div>"
      ],
      "text/plain": [
       "      Rank                               origin_tt_name  \\\n",
       "1029     1  amnesty international (ai) (united kingdom)   \n",
       "\n",
       "                    Category  Year         country  \\\n",
       "1029  Best Advocacy Campaign  2012  United Kingdom   \n",
       "\n",
       "                       parenthesis               clean_tt  \\\n",
       "1029  ['(ai)', '(united kingdom)']  amnesty international   \n",
       "\n",
       "            cleaned_category  \n",
       "1029  Best Advocacy Campaign  "
      ]
     },
     "execution_count": 68,
     "metadata": {},
     "output_type": "execute_result"
    }
   ],
   "source": [
    "test_best_adv.head(1)"
   ]
  },
  {
   "cell_type": "code",
   "execution_count": 69,
   "metadata": {},
   "outputs": [],
   "source": [
    "list_adv = []\n",
    "for year, df_year in test_best_adv.groupby('Year'):\n",
    "    #name the dataframe\n",
    "    df_year.index.name=year\n",
    "    #append dataframe to list\n",
    "    list_adv.append(df_year)"
   ]
  },
  {
   "cell_type": "code",
   "execution_count": 70,
   "metadata": {},
   "outputs": [],
   "source": [
    "#list_new_adv = []\n",
    "#for l in list_adv:\n",
    "#    if len(l)>73:\n",
    "#        l = l.head(74).reset_index()\n",
    "#        list_new_adv.append(l)\n",
    "#        \n",
    "#len(list_new_adv)"
   ]
  },
  {
   "cell_type": "code",
   "execution_count": 71,
   "metadata": {},
   "outputs": [],
   "source": [
    "list_dz_dfs_adv = []\n",
    "for f in list_adv:\n",
    "    dz_df_adv = np.array_split(f, 10)\n",
    "    dz_list_adv = []\n",
    "    for idx,group in enumerate(dz_df_adv):\n",
    "        group['dezil'] = idx+1\n",
    "        dz_list_adv.append(group)\n",
    "    dz_all_adv = pd.concat(dz_list_adv)\n",
    "    list_dz_dfs_adv.append(dz_all_adv)"
   ]
  },
  {
   "cell_type": "code",
   "execution_count": 72,
   "metadata": {},
   "outputs": [
    {
     "data": {
      "text/html": [
       "<div>\n",
       "<style scoped>\n",
       "    .dataframe tbody tr th:only-of-type {\n",
       "        vertical-align: middle;\n",
       "    }\n",
       "\n",
       "    .dataframe tbody tr th {\n",
       "        vertical-align: top;\n",
       "    }\n",
       "\n",
       "    .dataframe thead th {\n",
       "        text-align: right;\n",
       "    }\n",
       "</style>\n",
       "<table border=\"1\" class=\"dataframe\">\n",
       "  <thead>\n",
       "    <tr style=\"text-align: right;\">\n",
       "      <th></th>\n",
       "      <th>Rank</th>\n",
       "      <th>origin_tt_name</th>\n",
       "      <th>Category</th>\n",
       "      <th>Year</th>\n",
       "      <th>country</th>\n",
       "      <th>parenthesis</th>\n",
       "      <th>clean_tt</th>\n",
       "      <th>cleaned_category</th>\n",
       "      <th>dezil</th>\n",
       "    </tr>\n",
       "    <tr>\n",
       "      <th>2012</th>\n",
       "      <th></th>\n",
       "      <th></th>\n",
       "      <th></th>\n",
       "      <th></th>\n",
       "      <th></th>\n",
       "      <th></th>\n",
       "      <th></th>\n",
       "      <th></th>\n",
       "      <th></th>\n",
       "    </tr>\n",
       "  </thead>\n",
       "  <tbody>\n",
       "    <tr>\n",
       "      <th>1029</th>\n",
       "      <td>1</td>\n",
       "      <td>amnesty international (ai) (united kingdom)</td>\n",
       "      <td>Best Advocacy Campaign</td>\n",
       "      <td>2012</td>\n",
       "      <td>United Kingdom</td>\n",
       "      <td>['(ai)', '(united kingdom)']</td>\n",
       "      <td>amnesty international</td>\n",
       "      <td>Best Advocacy Campaign</td>\n",
       "      <td>1</td>\n",
       "    </tr>\n",
       "  </tbody>\n",
       "</table>\n",
       "</div>"
      ],
      "text/plain": [
       "      Rank                               origin_tt_name  \\\n",
       "2012                                                      \n",
       "1029     1  amnesty international (ai) (united kingdom)   \n",
       "\n",
       "                    Category  Year         country  \\\n",
       "2012                                                 \n",
       "1029  Best Advocacy Campaign  2012  United Kingdom   \n",
       "\n",
       "                       parenthesis               clean_tt  \\\n",
       "2012                                                        \n",
       "1029  ['(ai)', '(united kingdom)']  amnesty international   \n",
       "\n",
       "            cleaned_category  dezil  \n",
       "2012                                 \n",
       "1029  Best Advocacy Campaign      1  "
      ]
     },
     "execution_count": 72,
     "metadata": {},
     "output_type": "execute_result"
    }
   ],
   "source": [
    "list_dz_dfs_adv[0].head(1)"
   ]
  },
  {
   "cell_type": "code",
   "execution_count": 73,
   "metadata": {},
   "outputs": [],
   "source": [
    "best_adv_all = pd.concat(list_dz_dfs_adv)"
   ]
  },
  {
   "cell_type": "code",
   "execution_count": 74,
   "metadata": {},
   "outputs": [
    {
     "data": {
      "text/plain": [
       "118"
      ]
     },
     "execution_count": 74,
     "metadata": {},
     "output_type": "execute_result"
    }
   ],
   "source": [
    "#this is the number of think-tanks that have been listed over the years within the ranking:\n",
    "len(best_adv_all['clean_tt'].value_counts())"
   ]
  },
  {
   "cell_type": "code",
   "execution_count": 75,
   "metadata": {},
   "outputs": [],
   "source": [
    "best_adv_all.groupby(['clean_tt','Year'])\n",
    "\n",
    "table_best_adv_all = pd.pivot_table(best_adv_all, values='dezil', index=['clean_tt'], columns=['Year'], \n",
    "               aggfunc=lambda x: list(x))"
   ]
  },
  {
   "cell_type": "code",
   "execution_count": 76,
   "metadata": {},
   "outputs": [
    {
     "data": {
      "text/html": [
       "<div>\n",
       "<style scoped>\n",
       "    .dataframe tbody tr th:only-of-type {\n",
       "        vertical-align: middle;\n",
       "    }\n",
       "\n",
       "    .dataframe tbody tr th {\n",
       "        vertical-align: top;\n",
       "    }\n",
       "\n",
       "    .dataframe thead th {\n",
       "        text-align: right;\n",
       "    }\n",
       "</style>\n",
       "<table border=\"1\" class=\"dataframe\">\n",
       "  <thead>\n",
       "    <tr style=\"text-align: right;\">\n",
       "      <th>Year</th>\n",
       "      <th>2012</th>\n",
       "      <th>2013</th>\n",
       "      <th>2014</th>\n",
       "      <th>2015</th>\n",
       "      <th>2016</th>\n",
       "      <th>2017</th>\n",
       "      <th>2018</th>\n",
       "    </tr>\n",
       "    <tr>\n",
       "      <th>clean_tt</th>\n",
       "      <th></th>\n",
       "      <th></th>\n",
       "      <th></th>\n",
       "      <th></th>\n",
       "      <th></th>\n",
       "      <th></th>\n",
       "      <th></th>\n",
       "    </tr>\n",
       "  </thead>\n",
       "  <tbody>\n",
       "    <tr>\n",
       "      <th>action</th>\n",
       "      <td>NaN</td>\n",
       "      <td>NaN</td>\n",
       "      <td>NaN</td>\n",
       "      <td>[10]</td>\n",
       "      <td>[10]</td>\n",
       "      <td>[10]</td>\n",
       "      <td>[10]</td>\n",
       "    </tr>\n",
       "    <tr>\n",
       "      <th>acton institute</th>\n",
       "      <td>[3]</td>\n",
       "      <td>[2]</td>\n",
       "      <td>NaN</td>\n",
       "      <td>NaN</td>\n",
       "      <td>NaN</td>\n",
       "      <td>NaN</td>\n",
       "      <td>NaN</td>\n",
       "    </tr>\n",
       "    <tr>\n",
       "      <th>acton institute for the study of religion and liberty</th>\n",
       "      <td>NaN</td>\n",
       "      <td>NaN</td>\n",
       "      <td>[2]</td>\n",
       "      <td>[2]</td>\n",
       "      <td>[1]</td>\n",
       "      <td>[1]</td>\n",
       "      <td>[1]</td>\n",
       "    </tr>\n",
       "    <tr>\n",
       "      <th>adam smith institute</th>\n",
       "      <td>NaN</td>\n",
       "      <td>NaN</td>\n",
       "      <td>NaN</td>\n",
       "      <td>NaN</td>\n",
       "      <td>[4]</td>\n",
       "      <td>[4]</td>\n",
       "      <td>[4]</td>\n",
       "    </tr>\n",
       "    <tr>\n",
       "      <th>adovcates coalition for development</th>\n",
       "      <td>NaN</td>\n",
       "      <td>NaN</td>\n",
       "      <td>NaN</td>\n",
       "      <td>NaN</td>\n",
       "      <td>NaN</td>\n",
       "      <td>NaN</td>\n",
       "      <td>[1]</td>\n",
       "    </tr>\n",
       "  </tbody>\n",
       "</table>\n",
       "</div>"
      ],
      "text/plain": [
       "Year                                               2012 2013 2014  2015  2016  \\\n",
       "clean_tt                                                                        \n",
       "action                                              NaN  NaN  NaN  [10]  [10]   \n",
       "acton institute                                     [3]  [2]  NaN   NaN   NaN   \n",
       "acton institute for the study of religion and l...  NaN  NaN  [2]   [2]   [1]   \n",
       "adam smith institute                                NaN  NaN  NaN   NaN   [4]   \n",
       "adovcates coalition for development                 NaN  NaN  NaN   NaN   NaN   \n",
       "\n",
       "Year                                                2017  2018  \n",
       "clean_tt                                                        \n",
       "action                                              [10]  [10]  \n",
       "acton institute                                      NaN   NaN  \n",
       "acton institute for the study of religion and l...   [1]   [1]  \n",
       "adam smith institute                                 [4]   [4]  \n",
       "adovcates coalition for development                  NaN   [1]  "
      ]
     },
     "execution_count": 76,
     "metadata": {},
     "output_type": "execute_result"
    }
   ],
   "source": [
    "table_best_adv_all.head()"
   ]
  },
  {
   "cell_type": "markdown",
   "metadata": {},
   "source": [
    "- create second dataset with all ranked think tanks from 2008 until 2012 - "
   ]
  },
  {
   "cell_type": "code",
   "execution_count": 77,
   "metadata": {},
   "outputs": [],
   "source": [
    "test_previous = df_special[df_special['Year']< 2012]"
   ]
  },
  {
   "cell_type": "code",
   "execution_count": 78,
   "metadata": {},
   "outputs": [],
   "source": [
    "#test_previous"
   ]
  },
  {
   "cell_type": "code",
   "execution_count": 79,
   "metadata": {},
   "outputs": [],
   "source": [
    "unique_previous = test_previous.groupby('Year')['clean_tt'].nunique()"
   ]
  },
  {
   "cell_type": "code",
   "execution_count": 80,
   "metadata": {},
   "outputs": [],
   "source": [
    "#test_previous.drop_duplicates(subset='clean_tt')"
   ]
  },
  {
   "cell_type": "code",
   "execution_count": 82,
   "metadata": {},
   "outputs": [
    {
     "data": {
      "text/html": [
       "<div>\n",
       "<style scoped>\n",
       "    .dataframe tbody tr th:only-of-type {\n",
       "        vertical-align: middle;\n",
       "    }\n",
       "\n",
       "    .dataframe tbody tr th {\n",
       "        vertical-align: top;\n",
       "    }\n",
       "\n",
       "    .dataframe thead th {\n",
       "        text-align: right;\n",
       "    }\n",
       "</style>\n",
       "<table border=\"1\" class=\"dataframe\">\n",
       "  <thead>\n",
       "    <tr style=\"text-align: right;\">\n",
       "      <th></th>\n",
       "      <th>Rank</th>\n",
       "      <th>origin_tt_name</th>\n",
       "      <th>Category</th>\n",
       "      <th>Year</th>\n",
       "      <th>country</th>\n",
       "      <th>parenthesis</th>\n",
       "      <th>clean_tt</th>\n",
       "      <th>cleaned_category</th>\n",
       "    </tr>\n",
       "  </thead>\n",
       "  <tbody>\n",
       "    <tr>\n",
       "      <th>0</th>\n",
       "      <td>1</td>\n",
       "      <td>cato institute (usa)</td>\n",
       "      <td>Think Tanks with the Most Innovative Policy/Id...</td>\n",
       "      <td>2008</td>\n",
       "      <td>United States</td>\n",
       "      <td>['(usa)']</td>\n",
       "      <td>cato institute</td>\n",
       "      <td>Think Tanks with the Most Innovative Policy Id...</td>\n",
       "    </tr>\n",
       "  </tbody>\n",
       "</table>\n",
       "</div>"
      ],
      "text/plain": [
       "   Rank        origin_tt_name  \\\n",
       "0     1  cato institute (usa)   \n",
       "\n",
       "                                            Category  Year        country  \\\n",
       "0  Think Tanks with the Most Innovative Policy/Id...  2008  United States   \n",
       "\n",
       "  parenthesis        clean_tt  \\\n",
       "0   ['(usa)']  cato institute   \n",
       "\n",
       "                                    cleaned_category  \n",
       "0  Think Tanks with the Most Innovative Policy Id...  "
      ]
     },
     "execution_count": 82,
     "metadata": {},
     "output_type": "execute_result"
    }
   ],
   "source": [
    "test_previous.head(1)"
   ]
  },
  {
   "cell_type": "code",
   "execution_count": 83,
   "metadata": {},
   "outputs": [
    {
     "name": "stderr",
     "output_type": "stream",
     "text": [
      "/usr/local/lib/python3.7/site-packages/ipykernel_launcher.py:1: SettingWithCopyWarning:\n",
      "\n",
      "\n",
      "A value is trying to be set on a copy of a slice from a DataFrame.\n",
      "Try using .loc[row_indexer,col_indexer] = value instead\n",
      "\n",
      "See the caveats in the documentation: http://pandas.pydata.org/pandas-docs/stable/indexing.html#indexing-view-versus-copy\n",
      "\n"
     ]
    }
   ],
   "source": [
    "test_best_adv['previous'] = test_best_adv['clean_tt'].isin(test_previous['clean_tt'])"
   ]
  },
  {
   "cell_type": "code",
   "execution_count": 84,
   "metadata": {},
   "outputs": [
    {
     "data": {
      "text/plain": [
       "False    98\n",
       "True     20\n",
       "Name: previous, dtype: int64"
      ]
     },
     "execution_count": 84,
     "metadata": {},
     "output_type": "execute_result"
    }
   ],
   "source": [
    "test_best_adv.drop_duplicates(subset='clean_tt').previous.value_counts()"
   ]
  },
  {
   "cell_type": "markdown",
   "metadata": {},
   "source": [
    "Das würde bedeuten, dass 17 % der Think Tanks vorher schon gerankt wurden und 83 % noch nicht gerankt wurden. "
   ]
  },
  {
   "cell_type": "code",
   "execution_count": 85,
   "metadata": {},
   "outputs": [],
   "source": [
    "t = pd.merge(test_best_adv[['clean_tt']],test_previous[['clean_tt','cleaned_category','Year']],how='left',left_on='clean_tt',right_on='clean_tt')"
   ]
  },
  {
   "cell_type": "code",
   "execution_count": 86,
   "metadata": {},
   "outputs": [
    {
     "data": {
      "text/plain": [
       "2011.0    295\n",
       "2010.0    211\n",
       "2009.0     42\n",
       "2008.0     35\n",
       "Name: Year, dtype: int64"
      ]
     },
     "execution_count": 86,
     "metadata": {},
     "output_type": "execute_result"
    }
   ],
   "source": [
    "t.Year.value_counts()"
   ]
  },
  {
   "cell_type": "code",
   "execution_count": 87,
   "metadata": {},
   "outputs": [
    {
     "data": {
      "text/html": [
       "<div>\n",
       "<style scoped>\n",
       "    .dataframe tbody tr th:only-of-type {\n",
       "        vertical-align: middle;\n",
       "    }\n",
       "\n",
       "    .dataframe tbody tr th {\n",
       "        vertical-align: top;\n",
       "    }\n",
       "\n",
       "    .dataframe thead th {\n",
       "        text-align: right;\n",
       "    }\n",
       "</style>\n",
       "<table border=\"1\" class=\"dataframe\">\n",
       "  <thead>\n",
       "    <tr style=\"text-align: right;\">\n",
       "      <th></th>\n",
       "      <th>clean_tt</th>\n",
       "      <th>cleaned_category</th>\n",
       "      <th>Year</th>\n",
       "    </tr>\n",
       "  </thead>\n",
       "  <tbody>\n",
       "    <tr>\n",
       "      <th>0</th>\n",
       "      <td>amnesty international</td>\n",
       "      <td>Think Tanks with Outstanding Policy-Oriented P...</td>\n",
       "      <td>2010.0</td>\n",
       "    </tr>\n",
       "  </tbody>\n",
       "</table>\n",
       "</div>"
      ],
      "text/plain": [
       "                clean_tt                                   cleaned_category  \\\n",
       "0  amnesty international  Think Tanks with Outstanding Policy-Oriented P...   \n",
       "\n",
       "     Year  \n",
       "0  2010.0  "
      ]
     },
     "execution_count": 87,
     "metadata": {},
     "output_type": "execute_result"
    }
   ],
   "source": [
    "#t.clean_tt.drop_duplicates(['clean_tt','cleaned_category'])\n",
    "t.head(1)"
   ]
  },
  {
   "cell_type": "markdown",
   "metadata": {
    "toc-hr-collapsed": true
   },
   "source": [
    "# Entwicklung der Kategorien \n",
    "Wir wollen herausfinden wieviele neue Think Tanks in den Kategorien dazukommen. \n",
    "Dafür müssen wir erstmal feststellen wann die Kategorie das erste Mal auftaucht und was für Think Tanks in ihr gerankt sind.\n",
    "\n",
    "Hypothese1: Mit neuen Kategorien werden neue Think Tanks ins Ranking aufgenommen.Die Anzahl neuer Think Tanks in den Kategorien fällt stark über die Jahre. Irgendwann kommen kaum noch neue dazu. \n",
    "\n",
    "Hypothese 2: Die Think Tanks die in den neuen Kategorien hoch gerankt sind (Top 20%) sind davor nicht hoch gerankt gewesen. "
   ]
  },
  {
   "cell_type": "markdown",
   "metadata": {},
   "source": [
    "## Regions:"
   ]
  },
  {
   "cell_type": "markdown",
   "metadata": {},
   "source": [
    "Das Ziel ist, herauszufinden wie viele neue Think Tanks jährlich in den Kategorien dazu kommen. \n",
    "Dafür müssen wir erstmal eine Liste der Kategorien erstellen. Dann "
   ]
  },
  {
   "cell_type": "code",
   "execution_count": 89,
   "metadata": {},
   "outputs": [],
   "source": [
    "#cats_list"
   ]
  },
  {
   "cell_type": "code",
   "execution_count": 90,
   "metadata": {},
   "outputs": [
    {
     "data": {
      "text/html": [
       "<div>\n",
       "<style scoped>\n",
       "    .dataframe tbody tr th:only-of-type {\n",
       "        vertical-align: middle;\n",
       "    }\n",
       "\n",
       "    .dataframe tbody tr th {\n",
       "        vertical-align: top;\n",
       "    }\n",
       "\n",
       "    .dataframe thead th {\n",
       "        text-align: right;\n",
       "    }\n",
       "</style>\n",
       "<table border=\"1\" class=\"dataframe\">\n",
       "  <thead>\n",
       "    <tr style=\"text-align: right;\">\n",
       "      <th></th>\n",
       "      <th>Rank</th>\n",
       "      <th>origin_tt_name</th>\n",
       "      <th>Category</th>\n",
       "      <th>Year</th>\n",
       "      <th>country</th>\n",
       "      <th>parenthesis</th>\n",
       "      <th>clean_tt</th>\n",
       "      <th>cleaned_category</th>\n",
       "    </tr>\n",
       "  </thead>\n",
       "  <tbody>\n",
       "    <tr>\n",
       "      <th>0</th>\n",
       "      <td>1</td>\n",
       "      <td>brookings institution (united states)</td>\n",
       "      <td>Top 30 Think Tanks United States</td>\n",
       "      <td>2008</td>\n",
       "      <td>United States</td>\n",
       "      <td>['(united states)']</td>\n",
       "      <td>brookings institution</td>\n",
       "      <td>Top Think Tanks in the United States</td>\n",
       "    </tr>\n",
       "    <tr>\n",
       "      <th>1</th>\n",
       "      <td>2</td>\n",
       "      <td>council on foreign relations</td>\n",
       "      <td>Top 30 Think Tanks United States</td>\n",
       "      <td>2008</td>\n",
       "      <td>United States</td>\n",
       "      <td>[]</td>\n",
       "      <td>council on foreign relations</td>\n",
       "      <td>Top Think Tanks in the United States</td>\n",
       "    </tr>\n",
       "    <tr>\n",
       "      <th>2</th>\n",
       "      <td>3</td>\n",
       "      <td>carnegie endowment for international peace</td>\n",
       "      <td>Top 30 Think Tanks United States</td>\n",
       "      <td>2008</td>\n",
       "      <td>United States</td>\n",
       "      <td>[]</td>\n",
       "      <td>carnegie endowment for international peace</td>\n",
       "      <td>Top Think Tanks in the United States</td>\n",
       "    </tr>\n",
       "    <tr>\n",
       "      <th>3</th>\n",
       "      <td>4</td>\n",
       "      <td>rand corporation</td>\n",
       "      <td>Top 30 Think Tanks United States</td>\n",
       "      <td>2008</td>\n",
       "      <td>United States</td>\n",
       "      <td>[]</td>\n",
       "      <td>rand corporation</td>\n",
       "      <td>Top Think Tanks in the United States</td>\n",
       "    </tr>\n",
       "    <tr>\n",
       "      <th>4</th>\n",
       "      <td>5</td>\n",
       "      <td>heritage foundation</td>\n",
       "      <td>Top 30 Think Tanks United States</td>\n",
       "      <td>2008</td>\n",
       "      <td>United States</td>\n",
       "      <td>[]</td>\n",
       "      <td>heritage foundation</td>\n",
       "      <td>Top Think Tanks in the United States</td>\n",
       "    </tr>\n",
       "  </tbody>\n",
       "</table>\n",
       "</div>"
      ],
      "text/plain": [
       "   Rank                              origin_tt_name  \\\n",
       "0     1       brookings institution (united states)   \n",
       "1     2                council on foreign relations   \n",
       "2     3  carnegie endowment for international peace   \n",
       "3     4                            rand corporation   \n",
       "4     5                         heritage foundation   \n",
       "\n",
       "                           Category  Year        country          parenthesis  \\\n",
       "0  Top 30 Think Tanks United States  2008  United States  ['(united states)']   \n",
       "1  Top 30 Think Tanks United States  2008  United States                   []   \n",
       "2  Top 30 Think Tanks United States  2008  United States                   []   \n",
       "3  Top 30 Think Tanks United States  2008  United States                   []   \n",
       "4  Top 30 Think Tanks United States  2008  United States                   []   \n",
       "\n",
       "                                     clean_tt  \\\n",
       "0                       brookings institution   \n",
       "1                council on foreign relations   \n",
       "2  carnegie endowment for international peace   \n",
       "3                            rand corporation   \n",
       "4                         heritage foundation   \n",
       "\n",
       "                       cleaned_category  \n",
       "0  Top Think Tanks in the United States  \n",
       "1  Top Think Tanks in the United States  \n",
       "2  Top Think Tanks in the United States  \n",
       "3  Top Think Tanks in the United States  \n",
       "4  Top Think Tanks in the United States  "
      ]
     },
     "execution_count": 90,
     "metadata": {},
     "output_type": "execute_result"
    }
   ],
   "source": [
    "#df_regions.loc['Top Think Tanks in the United States ']\n",
    "df_regions[df_regions['cleaned_category']== 'Top Think Tanks in the United States'].head()"
   ]
  },
  {
   "cell_type": "code",
   "execution_count": 91,
   "metadata": {},
   "outputs": [],
   "source": [
    "#Hier wird eine Liste der Kategorien in regions erstellt und Duplikate gelöscht. \n",
    "cats_list = df_regions['cleaned_category'].drop_duplicates().to_list()\n",
    "\n",
    "#Hier wird eine leere Liste erstellt, in der später die Ergebnisse gespeichert werden.\n",
    "RESULTS = []\n",
    "\n",
    "#Hier wird für jede Kategorie ein Dataframe erstellt. \n",
    "for cat in cats_list:\n",
    "    individual_df = df_regions[df_regions['cleaned_category']== cat]\n",
    "    start_year = individual_df['Year'].min()\n",
    "    end_year = individual_df['Year'].max()\n",
    "    timespan = range(start_year,end_year+1)\n",
    "    \n",
    "#Hier wird nach den Ergebnissen für jedes Jahr geschaut. Dann werden zwei Dataframes erstellt, \n",
    "#einmal für alle Jahre, die kleiner als das angegebne Jahr sind und einmal nur für das Vorjahr.  \n",
    "    category_results = {}\n",
    "    for year in timespan:\n",
    "        prev_ranks_all = df_regions[df_regions['Year']< year]\n",
    "        prev_ranks_one_year = df_regions[df_regions['Year']== year - 1]\n",
    "#Check : individual_df wird nochmals neu definiert, \n",
    "#da sonst nur der Referenzrahmen des vorheringen Jahres bzw. Loops als instanz besteht \n",
    "        individual_df = df_regions[df_regions['cleaned_category']== cat]\n",
    "        individual_df = individual_df[individual_df['Year'] == year]\n",
    "\n",
    "        individual_df['previous_all'] = individual_df['clean_tt'].isin(prev_ranks_all['clean_tt'])\n",
    "        individual_df['previous_one_year'] = individual_df['clean_tt'].isin(prev_ranks_one_year['clean_tt'])\n",
    "#        \n",
    "        stats_all = individual_df.drop_duplicates(subset='clean_tt').previous_all.value_counts()\n",
    "        #stats_one_year = individual_df.drop_duplicates(subset='clean_tt').previous_one_year.value_counts()\n",
    "    \n",
    "        if False in stats_all.index:\n",
    "            new_tts = stats_all.loc[False]\n",
    "        else:\n",
    "            new_tts = 0\n",
    "        if True in stats_all.index:\n",
    "            old_tts = stats_all.loc[True]\n",
    "        else:\n",
    "            old_tts=0\n",
    "        \n",
    "        total = new_tts+old_tts\n",
    "        \n",
    "        if total == 0:\n",
    "            result = {year:0}\n",
    "            category_results.update(result)\n",
    "        else:\n",
    "            perc_new_tts = new_tts/total\n",
    "            #print(perc_new_tts)\n",
    "            result = {year:perc_new_tts}\n",
    "            category_results.update(result)\n",
    "        \n",
    "        \n",
    "        \n",
    "    final_results = {cat:category_results}\n",
    "    RESULTS.append(final_results)\n"
   ]
  },
  {
   "cell_type": "code",
   "execution_count": 92,
   "metadata": {},
   "outputs": [],
   "source": [
    "cat_reg_dev = []\n",
    "for result in RESULTS:\n",
    "    row = pd.DataFrame(result).T\n",
    "    cat_reg_dev.append(row)\n",
    "    #print(cat_reg_dev)\n",
    "    \n",
    "    \n",
    "\n",
    "cat_reg_dev_df = pd.concat(cat_reg_dev).round(4) "
   ]
  },
  {
   "cell_type": "code",
   "execution_count": 97,
   "metadata": {},
   "outputs": [
    {
     "data": {
      "text/html": [
       "<div>\n",
       "<style scoped>\n",
       "    .dataframe tbody tr th:only-of-type {\n",
       "        vertical-align: middle;\n",
       "    }\n",
       "\n",
       "    .dataframe tbody tr th {\n",
       "        vertical-align: top;\n",
       "    }\n",
       "\n",
       "    .dataframe thead th {\n",
       "        text-align: right;\n",
       "    }\n",
       "</style>\n",
       "<table border=\"1\" class=\"dataframe\">\n",
       "  <thead>\n",
       "    <tr style=\"text-align: right;\">\n",
       "      <th></th>\n",
       "      <th>2008</th>\n",
       "      <th>2009</th>\n",
       "      <th>2010</th>\n",
       "      <th>2011</th>\n",
       "      <th>2012</th>\n",
       "      <th>2013</th>\n",
       "      <th>2014</th>\n",
       "      <th>2015</th>\n",
       "      <th>2016</th>\n",
       "      <th>2017</th>\n",
       "      <th>2018</th>\n",
       "    </tr>\n",
       "  </thead>\n",
       "  <tbody>\n",
       "    <tr>\n",
       "      <th>Top Think Tanks in the United States</th>\n",
       "      <td>1.0</td>\n",
       "      <td>0.48</td>\n",
       "      <td>0.36</td>\n",
       "      <td>0.1</td>\n",
       "      <td>0.1455</td>\n",
       "      <td>0.0</td>\n",
       "      <td>0.15</td>\n",
       "      <td>0.2</td>\n",
       "      <td>0.1778</td>\n",
       "      <td>0.0111</td>\n",
       "      <td>0.0928</td>\n",
       "    </tr>\n",
       "  </tbody>\n",
       "</table>\n",
       "</div>"
      ],
      "text/plain": [
       "                                      2008  2009  2010  2011    2012  2013  \\\n",
       "Top Think Tanks in the United States   1.0  0.48  0.36   0.1  0.1455   0.0   \n",
       "\n",
       "                                      2014  2015    2016    2017    2018  \n",
       "Top Think Tanks in the United States  0.15   0.2  0.1778  0.0111  0.0928  "
      ]
     },
     "execution_count": 97,
     "metadata": {},
     "output_type": "execute_result"
    }
   ],
   "source": [
    "cat_reg_dev_df.head(1)"
   ]
  },
  {
   "cell_type": "code",
   "execution_count": 98,
   "metadata": {},
   "outputs": [
    {
     "data": {
      "text/plain": [
       "<matplotlib.axes._subplots.AxesSubplot at 0x11b2fa710>"
      ]
     },
     "execution_count": 98,
     "metadata": {},
     "output_type": "execute_result"
    },
    {
     "data": {
      "image/png": "[encoded data removed]",
      "text/plain": [
       "<Figure size 432x288 with 1 Axes>"
      ]
     },
     "metadata": {
      "needs_background": "light"
     },
     "output_type": "display_data"
    }
   ],
   "source": [
    "cat_reg_dev_df.mean().plot.line(x='% of new think tanks', y='category')"
   ]
  },
  {
   "cell_type": "code",
   "execution_count": 99,
   "metadata": {},
   "outputs": [
    {
     "data": {
      "text/plain": [
       "2008    1.000000\n",
       "2009    0.368458\n",
       "2010    0.330909\n",
       "2011    0.246675\n",
       "2012    0.285467\n",
       "2013    0.086308\n",
       "2014    0.200000\n",
       "2015    0.220708\n",
       "2016    0.071238\n",
       "2017    0.077792\n",
       "2018    0.094708\n",
       "dtype: float64"
      ]
     },
     "execution_count": 99,
     "metadata": {},
     "output_type": "execute_result"
    }
   ],
   "source": [
    "cat_reg_dev_df.mean()"
   ]
  },
  {
   "cell_type": "code",
   "execution_count": 101,
   "metadata": {},
   "outputs": [
    {
     "data": {
      "text/plain": [
       "<matplotlib.axes._subplots.AxesSubplot at 0x11b389c50>"
      ]
     },
     "execution_count": 101,
     "metadata": {},
     "output_type": "execute_result"
    },
    {
     "data": {
      "image/png": "[encoded data removed]",
      "text/plain": [
       "<Figure size 432x288 with 1 Axes>"
      ]
     },
     "metadata": {
      "needs_background": "light"
     },
     "output_type": "display_data"
    }
   ],
   "source": [
    "cat_reg_dev_df.loc[\"Top Think Tanks in Middle East and North Africa (MENA)\"].plot.line(x='% of new think tanks', y='category')"
   ]
  },
  {
   "cell_type": "markdown",
   "metadata": {},
   "source": [
    "## Research Areas: "
   ]
  },
  {
   "cell_type": "markdown",
   "metadata": {},
   "source": [
    "Jetzt machen wir genau das selbe für die Research Areas. \n",
    "wir hängen überall rs (research) dran, damit wir nicht durcheinander kommen. "
   ]
  },
  {
   "cell_type": "code",
   "execution_count": 102,
   "metadata": {},
   "outputs": [],
   "source": [
    "cats_list_rs = df_research['cleaned_category'].drop_duplicates().to_list()\n",
    "cats_results_rs = {}\n",
    "\n",
    "RESULTS_research = []\n",
    "\n",
    "for cat in cats_list_rs:\n",
    "    individual_df_rs = df_research[df_research['cleaned_category']== cat]\n",
    "    start_year_rs = individual_df_rs['Year'].min()\n",
    "    end_year_rs = individual_df_rs['Year'].max()\n",
    "    timespan_rs = range(start_year_rs,end_year_rs+1)\n",
    "    \n",
    "    \n",
    "    category_results_rs = {}\n",
    "    for year in timespan_rs:\n",
    "        prev_ranks_all_rs = df_research[df_research['Year']< year]\n",
    "        prev_ranks_one_year_rs = df_research[df_research['Year']== year - 1]\n",
    "        \n",
    "        individual_df_rs = df_research[df_research['cleaned_category']== cat]\n",
    "        individual_df_rs = individual_df_rs[individual_df_rs['Year'] == year]\n",
    "        \n",
    "        individual_df_rs['previous_all_rs'] = individual_df_rs['clean_tt'].isin(prev_ranks_all_rs['clean_tt'])\n",
    "        individual_df_rs['previous_one_year_rs'] = individual_df_rs['clean_tt'].isin(prev_ranks_one_year_rs['clean_tt'])\n",
    "        \n",
    "        stats_all_rs = individual_df_rs.drop_duplicates(subset='clean_tt').previous_all_rs.value_counts()\n",
    "        #stats_one_year = individual_df.drop_duplicates(subset='clean_tt').previous_one_year_rs.value_counts()\n",
    "    \n",
    "        if False in stats_all_rs.index:\n",
    "            new_tts_rs = stats_all_rs.loc[False]\n",
    "        else:\n",
    "            new_tts_rs = 0\n",
    "        if True in stats_all_rs.index:\n",
    "            old_tts_rs = stats_all_rs.loc[True]\n",
    "        else:\n",
    "            old_tts_rs=0\n",
    "        \n",
    "        total_rs = new_tts_rs+old_tts_rs\n",
    "        \n",
    "        if total_rs == 0:\n",
    "            result_rs = {year:0}\n",
    "            category_results_rs.update(result)\n",
    "        else:\n",
    "            perc_new_tts_rs = new_tts_rs/total_rs\n",
    "            result_rs = {year:perc_new_tts_rs}\n",
    "            category_results_rs.update(result_rs)\n",
    "        \n",
    "        \n",
    "    final_results_rs = {cat:category_results_rs}\n",
    "    RESULTS_research.append(final_results_rs)"
   ]
  },
  {
   "cell_type": "code",
   "execution_count": 103,
   "metadata": {},
   "outputs": [],
   "source": [
    "cat_res_dev = []\n",
    "for result in RESULTS_research:\n",
    "    row = pd.DataFrame(result).T\n",
    "    cat_res_dev.append(row)\n",
    "    #print(result)\n",
    "    \n",
    "    \n",
    "\n",
    "cat_res_dev_df = pd.concat(cat_res_dev).round(4) "
   ]
  },
  {
   "cell_type": "code",
   "execution_count": 104,
   "metadata": {},
   "outputs": [
    {
     "data": {
      "text/html": [
       "<div>\n",
       "<style scoped>\n",
       "    .dataframe tbody tr th:only-of-type {\n",
       "        vertical-align: middle;\n",
       "    }\n",
       "\n",
       "    .dataframe tbody tr th {\n",
       "        vertical-align: top;\n",
       "    }\n",
       "\n",
       "    .dataframe thead th {\n",
       "        text-align: right;\n",
       "    }\n",
       "</style>\n",
       "<table border=\"1\" class=\"dataframe\">\n",
       "  <thead>\n",
       "    <tr style=\"text-align: right;\">\n",
       "      <th></th>\n",
       "      <th>2008</th>\n",
       "      <th>2009</th>\n",
       "      <th>2010</th>\n",
       "      <th>2011</th>\n",
       "      <th>2012</th>\n",
       "      <th>2013</th>\n",
       "      <th>2014</th>\n",
       "      <th>2015</th>\n",
       "      <th>2016</th>\n",
       "      <th>2017</th>\n",
       "      <th>2018</th>\n",
       "    </tr>\n",
       "  </thead>\n",
       "  <tbody>\n",
       "    <tr>\n",
       "      <th>Top International Development Policy Think Tanks</th>\n",
       "      <td>1.0</td>\n",
       "      <td>0.1</td>\n",
       "      <td>0.84</td>\n",
       "      <td>0.4</td>\n",
       "      <td>0.475</td>\n",
       "      <td>0.0</td>\n",
       "      <td>0.1375</td>\n",
       "      <td>0.1328</td>\n",
       "      <td>0.0385</td>\n",
       "      <td>0.0076</td>\n",
       "      <td>0.0152</td>\n",
       "    </tr>\n",
       "  </tbody>\n",
       "</table>\n",
       "</div>"
      ],
      "text/plain": [
       "                                                  2008  2009  2010  2011  \\\n",
       "Top International Development Policy Think Tanks   1.0   0.1  0.84   0.4   \n",
       "\n",
       "                                                   2012  2013    2014    2015  \\\n",
       "Top International Development Policy Think Tanks  0.475   0.0  0.1375  0.1328   \n",
       "\n",
       "                                                    2016    2017    2018  \n",
       "Top International Development Policy Think Tanks  0.0385  0.0076  0.0152  "
      ]
     },
     "execution_count": 104,
     "metadata": {},
     "output_type": "execute_result"
    }
   ],
   "source": [
    "cat_res_dev_df.head(1)"
   ]
  },
  {
   "cell_type": "code",
   "execution_count": 105,
   "metadata": {},
   "outputs": [
    {
     "data": {
      "text/html": [
       "<div>\n",
       "<style scoped>\n",
       "    .dataframe tbody tr th:only-of-type {\n",
       "        vertical-align: middle;\n",
       "    }\n",
       "\n",
       "    .dataframe tbody tr th {\n",
       "        vertical-align: top;\n",
       "    }\n",
       "\n",
       "    .dataframe thead th {\n",
       "        text-align: right;\n",
       "    }\n",
       "</style>\n",
       "<table border=\"1\" class=\"dataframe\">\n",
       "  <thead>\n",
       "    <tr style=\"text-align: right;\">\n",
       "      <th></th>\n",
       "      <th>2008</th>\n",
       "      <th>2009</th>\n",
       "      <th>2010</th>\n",
       "      <th>2011</th>\n",
       "      <th>2012</th>\n",
       "      <th>2013</th>\n",
       "      <th>2014</th>\n",
       "      <th>2015</th>\n",
       "      <th>2016</th>\n",
       "      <th>2017</th>\n",
       "      <th>2018</th>\n",
       "    </tr>\n",
       "  </thead>\n",
       "  <tbody>\n",
       "    <tr>\n",
       "      <th>Top International Development Policy Think Tanks</th>\n",
       "      <td>1.0</td>\n",
       "      <td>0.1000</td>\n",
       "      <td>0.8400</td>\n",
       "      <td>0.4000</td>\n",
       "      <td>0.4750</td>\n",
       "      <td>0.0000</td>\n",
       "      <td>0.1375</td>\n",
       "      <td>0.1328</td>\n",
       "      <td>0.0385</td>\n",
       "      <td>0.0076</td>\n",
       "      <td>0.0152</td>\n",
       "    </tr>\n",
       "    <tr>\n",
       "      <th>Top Health Policy Think Tanks</th>\n",
       "      <td>1.0</td>\n",
       "      <td>0.3000</td>\n",
       "      <td>0.6000</td>\n",
       "      <td>0.0000</td>\n",
       "      <td>0.2414</td>\n",
       "      <td>0.0333</td>\n",
       "      <td>0.0000</td>\n",
       "      <td>0.0000</td>\n",
       "      <td>0.0000</td>\n",
       "      <td>0.0000</td>\n",
       "      <td>0.0000</td>\n",
       "    </tr>\n",
       "    <tr>\n",
       "      <th>Top Environment Policy Think Tanks</th>\n",
       "      <td>1.0</td>\n",
       "      <td>0.3636</td>\n",
       "      <td>0.7600</td>\n",
       "      <td>0.4912</td>\n",
       "      <td>0.6029</td>\n",
       "      <td>0.0290</td>\n",
       "      <td>0.2000</td>\n",
       "      <td>0.2340</td>\n",
       "      <td>0.0106</td>\n",
       "      <td>0.0215</td>\n",
       "      <td>0.0505</td>\n",
       "    </tr>\n",
       "    <tr>\n",
       "      <th>Top Security and International Affairs Think Tanks</th>\n",
       "      <td>1.0</td>\n",
       "      <td>0.0000</td>\n",
       "      <td>0.6000</td>\n",
       "      <td>0.5400</td>\n",
       "      <td>0.3676</td>\n",
       "      <td>0.0000</td>\n",
       "      <td>0.0000</td>\n",
       "      <td>0.0000</td>\n",
       "      <td>0.0000</td>\n",
       "      <td>0.0000</td>\n",
       "      <td>0.0000</td>\n",
       "    </tr>\n",
       "    <tr>\n",
       "      <th>Top Domestic Economic Policy Think Tanks</th>\n",
       "      <td>1.0</td>\n",
       "      <td>0.1000</td>\n",
       "      <td>0.6400</td>\n",
       "      <td>0.3000</td>\n",
       "      <td>0.5570</td>\n",
       "      <td>0.0000</td>\n",
       "      <td>0.1519</td>\n",
       "      <td>0.2835</td>\n",
       "      <td>0.0154</td>\n",
       "      <td>0.0152</td>\n",
       "      <td>0.0500</td>\n",
       "    </tr>\n",
       "    <tr>\n",
       "      <th>Top International Economics Policy Think Tanks</th>\n",
       "      <td>1.0</td>\n",
       "      <td>0.2000</td>\n",
       "      <td>0.7200</td>\n",
       "      <td>0.3333</td>\n",
       "      <td>0.2245</td>\n",
       "      <td>0.0200</td>\n",
       "      <td>0.1600</td>\n",
       "      <td>0.2222</td>\n",
       "      <td>0.0357</td>\n",
       "      <td>0.0000</td>\n",
       "      <td>0.0465</td>\n",
       "    </tr>\n",
       "    <tr>\n",
       "      <th>Top Social Policy Think Tanks</th>\n",
       "      <td>1.0</td>\n",
       "      <td>0.1000</td>\n",
       "      <td>0.7600</td>\n",
       "      <td>0.1667</td>\n",
       "      <td>0.2800</td>\n",
       "      <td>0.0600</td>\n",
       "      <td>0.1400</td>\n",
       "      <td>0.3093</td>\n",
       "      <td>0.0204</td>\n",
       "      <td>0.0000</td>\n",
       "      <td>0.0660</td>\n",
       "    </tr>\n",
       "    <tr>\n",
       "      <th>Top Science and Technology Policy Think Tanks</th>\n",
       "      <td>0.0</td>\n",
       "      <td>0.6000</td>\n",
       "      <td>0.9583</td>\n",
       "      <td>0.3667</td>\n",
       "      <td>0.2200</td>\n",
       "      <td>0.0000</td>\n",
       "      <td>0.2889</td>\n",
       "      <td>0.2090</td>\n",
       "      <td>0.0580</td>\n",
       "      <td>0.0000</td>\n",
       "      <td>0.0278</td>\n",
       "    </tr>\n",
       "    <tr>\n",
       "      <th>Top Transparency and Good Governance Think Tanks</th>\n",
       "      <td>0.0</td>\n",
       "      <td>0.0000</td>\n",
       "      <td>1.0000</td>\n",
       "      <td>0.2667</td>\n",
       "      <td>0.0667</td>\n",
       "      <td>0.0000</td>\n",
       "      <td>0.3750</td>\n",
       "      <td>0.3000</td>\n",
       "      <td>0.0625</td>\n",
       "      <td>0.0000</td>\n",
       "      <td>0.2239</td>\n",
       "    </tr>\n",
       "    <tr>\n",
       "      <th>Top Energy and Resource Policy Think Tanks</th>\n",
       "      <td>0.0</td>\n",
       "      <td>0.0000</td>\n",
       "      <td>0.0000</td>\n",
       "      <td>0.0000</td>\n",
       "      <td>0.8000</td>\n",
       "      <td>0.0000</td>\n",
       "      <td>0.3667</td>\n",
       "      <td>0.2545</td>\n",
       "      <td>0.0000</td>\n",
       "      <td>0.0370</td>\n",
       "      <td>0.0500</td>\n",
       "    </tr>\n",
       "    <tr>\n",
       "      <th>Top Education Policy Think Tanks (Unranked and in Alphabetical order)</th>\n",
       "      <td>0.0</td>\n",
       "      <td>0.0000</td>\n",
       "      <td>0.0000</td>\n",
       "      <td>0.0000</td>\n",
       "      <td>0.8980</td>\n",
       "      <td>0.0000</td>\n",
       "      <td>0.0000</td>\n",
       "      <td>0.0000</td>\n",
       "      <td>0.0000</td>\n",
       "      <td>0.0000</td>\n",
       "      <td>0.0000</td>\n",
       "    </tr>\n",
       "    <tr>\n",
       "      <th>Top Defense and National Security Think Tanks</th>\n",
       "      <td>0.0</td>\n",
       "      <td>0.0000</td>\n",
       "      <td>0.0000</td>\n",
       "      <td>0.0000</td>\n",
       "      <td>0.0000</td>\n",
       "      <td>0.2923</td>\n",
       "      <td>0.2857</td>\n",
       "      <td>0.1509</td>\n",
       "      <td>0.0093</td>\n",
       "      <td>0.0291</td>\n",
       "      <td>0.0991</td>\n",
       "    </tr>\n",
       "    <tr>\n",
       "      <th>Top  Education Policy Think Tanks</th>\n",
       "      <td>0.0</td>\n",
       "      <td>0.0000</td>\n",
       "      <td>0.0000</td>\n",
       "      <td>0.0000</td>\n",
       "      <td>0.0000</td>\n",
       "      <td>0.0000</td>\n",
       "      <td>0.0000</td>\n",
       "      <td>0.0000</td>\n",
       "      <td>0.0000</td>\n",
       "      <td>0.0000</td>\n",
       "      <td>0.0000</td>\n",
       "    </tr>\n",
       "    <tr>\n",
       "      <th>Top Foreign Policy and International Affairs Think Tanks</th>\n",
       "      <td>0.0</td>\n",
       "      <td>0.0000</td>\n",
       "      <td>0.0000</td>\n",
       "      <td>0.0000</td>\n",
       "      <td>0.0000</td>\n",
       "      <td>0.0615</td>\n",
       "      <td>0.2588</td>\n",
       "      <td>0.2290</td>\n",
       "      <td>0.0299</td>\n",
       "      <td>0.0149</td>\n",
       "      <td>0.1419</td>\n",
       "    </tr>\n",
       "    <tr>\n",
       "      <th>Top Education Policy Think Tanks</th>\n",
       "      <td>0.0</td>\n",
       "      <td>0.0000</td>\n",
       "      <td>0.0000</td>\n",
       "      <td>0.0000</td>\n",
       "      <td>0.0000</td>\n",
       "      <td>0.0000</td>\n",
       "      <td>0.3091</td>\n",
       "      <td>0.0615</td>\n",
       "      <td>0.0000</td>\n",
       "      <td>0.0328</td>\n",
       "      <td>0.0154</td>\n",
       "    </tr>\n",
       "    <tr>\n",
       "      <th>Top Domestic Health Policy Think Tanks</th>\n",
       "      <td>0.0</td>\n",
       "      <td>0.0000</td>\n",
       "      <td>0.0000</td>\n",
       "      <td>0.0000</td>\n",
       "      <td>0.0000</td>\n",
       "      <td>0.0000</td>\n",
       "      <td>0.2333</td>\n",
       "      <td>0.3091</td>\n",
       "      <td>0.0182</td>\n",
       "      <td>0.0000</td>\n",
       "      <td>0.0000</td>\n",
       "    </tr>\n",
       "    <tr>\n",
       "      <th>Top Global Health Policy Think Tanks</th>\n",
       "      <td>0.0</td>\n",
       "      <td>0.0000</td>\n",
       "      <td>0.0000</td>\n",
       "      <td>0.0000</td>\n",
       "      <td>0.0000</td>\n",
       "      <td>0.0000</td>\n",
       "      <td>0.2400</td>\n",
       "      <td>0.1471</td>\n",
       "      <td>0.0588</td>\n",
       "      <td>0.0000</td>\n",
       "      <td>0.0000</td>\n",
       "    </tr>\n",
       "    <tr>\n",
       "      <th>Top Domestic Health Affairs Think Tanks</th>\n",
       "      <td>0.0</td>\n",
       "      <td>0.0000</td>\n",
       "      <td>0.0000</td>\n",
       "      <td>0.0000</td>\n",
       "      <td>0.0000</td>\n",
       "      <td>0.0000</td>\n",
       "      <td>0.0000</td>\n",
       "      <td>0.0000</td>\n",
       "      <td>0.0000</td>\n",
       "      <td>0.0000</td>\n",
       "      <td>0.0656</td>\n",
       "    </tr>\n",
       "    <tr>\n",
       "      <th>List of Food Security Think Tanks (Alphabetical Listing not ranked)</th>\n",
       "      <td>0.0</td>\n",
       "      <td>0.0000</td>\n",
       "      <td>0.0000</td>\n",
       "      <td>0.0000</td>\n",
       "      <td>0.0000</td>\n",
       "      <td>0.0000</td>\n",
       "      <td>0.0000</td>\n",
       "      <td>0.0000</td>\n",
       "      <td>0.0000</td>\n",
       "      <td>0.0000</td>\n",
       "      <td>0.9624</td>\n",
       "    </tr>\n",
       "    <tr>\n",
       "      <th>List of Water Security Think Tanks (Alphabetical Listing not ranked)</th>\n",
       "      <td>0.0</td>\n",
       "      <td>0.0000</td>\n",
       "      <td>0.0000</td>\n",
       "      <td>0.0000</td>\n",
       "      <td>0.0000</td>\n",
       "      <td>0.0000</td>\n",
       "      <td>0.0000</td>\n",
       "      <td>0.0000</td>\n",
       "      <td>0.0000</td>\n",
       "      <td>0.0000</td>\n",
       "      <td>0.9351</td>\n",
       "    </tr>\n",
       "  </tbody>\n",
       "</table>\n",
       "</div>"
      ],
      "text/plain": [
       "                                                    2008    2009    2010  \\\n",
       "Top International Development Policy Think Tanks     1.0  0.1000  0.8400   \n",
       "Top Health Policy Think Tanks                        1.0  0.3000  0.6000   \n",
       "Top Environment Policy Think Tanks                   1.0  0.3636  0.7600   \n",
       "Top Security and International Affairs Think Tanks   1.0  0.0000  0.6000   \n",
       "Top Domestic Economic Policy Think Tanks             1.0  0.1000  0.6400   \n",
       "Top International Economics Policy Think Tanks       1.0  0.2000  0.7200   \n",
       "Top Social Policy Think Tanks                        1.0  0.1000  0.7600   \n",
       "Top Science and Technology Policy Think Tanks        0.0  0.6000  0.9583   \n",
       "Top Transparency and Good Governance Think Tanks     0.0  0.0000  1.0000   \n",
       "Top Energy and Resource Policy Think Tanks           0.0  0.0000  0.0000   \n",
       "Top Education Policy Think Tanks (Unranked and ...   0.0  0.0000  0.0000   \n",
       "Top Defense and National Security Think Tanks        0.0  0.0000  0.0000   \n",
       "Top  Education Policy Think Tanks                    0.0  0.0000  0.0000   \n",
       "Top Foreign Policy and International Affairs Th...   0.0  0.0000  0.0000   \n",
       "Top Education Policy Think Tanks                     0.0  0.0000  0.0000   \n",
       "Top Domestic Health Policy Think Tanks               0.0  0.0000  0.0000   \n",
       "Top Global Health Policy Think Tanks                 0.0  0.0000  0.0000   \n",
       "Top Domestic Health Affairs Think Tanks              0.0  0.0000  0.0000   \n",
       "List of Food Security Think Tanks (Alphabetical...   0.0  0.0000  0.0000   \n",
       "List of Water Security Think Tanks (Alphabetica...   0.0  0.0000  0.0000   \n",
       "\n",
       "                                                      2011    2012    2013  \\\n",
       "Top International Development Policy Think Tanks    0.4000  0.4750  0.0000   \n",
       "Top Health Policy Think Tanks                       0.0000  0.2414  0.0333   \n",
       "Top Environment Policy Think Tanks                  0.4912  0.6029  0.0290   \n",
       "Top Security and International Affairs Think Tanks  0.5400  0.3676  0.0000   \n",
       "Top Domestic Economic Policy Think Tanks            0.3000  0.5570  0.0000   \n",
       "Top International Economics Policy Think Tanks      0.3333  0.2245  0.0200   \n",
       "Top Social Policy Think Tanks                       0.1667  0.2800  0.0600   \n",
       "Top Science and Technology Policy Think Tanks       0.3667  0.2200  0.0000   \n",
       "Top Transparency and Good Governance Think Tanks    0.2667  0.0667  0.0000   \n",
       "Top Energy and Resource Policy Think Tanks          0.0000  0.8000  0.0000   \n",
       "Top Education Policy Think Tanks (Unranked and ...  0.0000  0.8980  0.0000   \n",
       "Top Defense and National Security Think Tanks       0.0000  0.0000  0.2923   \n",
       "Top  Education Policy Think Tanks                   0.0000  0.0000  0.0000   \n",
       "Top Foreign Policy and International Affairs Th...  0.0000  0.0000  0.0615   \n",
       "Top Education Policy Think Tanks                    0.0000  0.0000  0.0000   \n",
       "Top Domestic Health Policy Think Tanks              0.0000  0.0000  0.0000   \n",
       "Top Global Health Policy Think Tanks                0.0000  0.0000  0.0000   \n",
       "Top Domestic Health Affairs Think Tanks             0.0000  0.0000  0.0000   \n",
       "List of Food Security Think Tanks (Alphabetical...  0.0000  0.0000  0.0000   \n",
       "List of Water Security Think Tanks (Alphabetica...  0.0000  0.0000  0.0000   \n",
       "\n",
       "                                                      2014    2015    2016  \\\n",
       "Top International Development Policy Think Tanks    0.1375  0.1328  0.0385   \n",
       "Top Health Policy Think Tanks                       0.0000  0.0000  0.0000   \n",
       "Top Environment Policy Think Tanks                  0.2000  0.2340  0.0106   \n",
       "Top Security and International Affairs Think Tanks  0.0000  0.0000  0.0000   \n",
       "Top Domestic Economic Policy Think Tanks            0.1519  0.2835  0.0154   \n",
       "Top International Economics Policy Think Tanks      0.1600  0.2222  0.0357   \n",
       "Top Social Policy Think Tanks                       0.1400  0.3093  0.0204   \n",
       "Top Science and Technology Policy Think Tanks       0.2889  0.2090  0.0580   \n",
       "Top Transparency and Good Governance Think Tanks    0.3750  0.3000  0.0625   \n",
       "Top Energy and Resource Policy Think Tanks          0.3667  0.2545  0.0000   \n",
       "Top Education Policy Think Tanks (Unranked and ...  0.0000  0.0000  0.0000   \n",
       "Top Defense and National Security Think Tanks       0.2857  0.1509  0.0093   \n",
       "Top  Education Policy Think Tanks                   0.0000  0.0000  0.0000   \n",
       "Top Foreign Policy and International Affairs Th...  0.2588  0.2290  0.0299   \n",
       "Top Education Policy Think Tanks                    0.3091  0.0615  0.0000   \n",
       "Top Domestic Health Policy Think Tanks              0.2333  0.3091  0.0182   \n",
       "Top Global Health Policy Think Tanks                0.2400  0.1471  0.0588   \n",
       "Top Domestic Health Affairs Think Tanks             0.0000  0.0000  0.0000   \n",
       "List of Food Security Think Tanks (Alphabetical...  0.0000  0.0000  0.0000   \n",
       "List of Water Security Think Tanks (Alphabetica...  0.0000  0.0000  0.0000   \n",
       "\n",
       "                                                      2017    2018  \n",
       "Top International Development Policy Think Tanks    0.0076  0.0152  \n",
       "Top Health Policy Think Tanks                       0.0000  0.0000  \n",
       "Top Environment Policy Think Tanks                  0.0215  0.0505  \n",
       "Top Security and International Affairs Think Tanks  0.0000  0.0000  \n",
       "Top Domestic Economic Policy Think Tanks            0.0152  0.0500  \n",
       "Top International Economics Policy Think Tanks      0.0000  0.0465  \n",
       "Top Social Policy Think Tanks                       0.0000  0.0660  \n",
       "Top Science and Technology Policy Think Tanks       0.0000  0.0278  \n",
       "Top Transparency and Good Governance Think Tanks    0.0000  0.2239  \n",
       "Top Energy and Resource Policy Think Tanks          0.0370  0.0500  \n",
       "Top Education Policy Think Tanks (Unranked and ...  0.0000  0.0000  \n",
       "Top Defense and National Security Think Tanks       0.0291  0.0991  \n",
       "Top  Education Policy Think Tanks                   0.0000  0.0000  \n",
       "Top Foreign Policy and International Affairs Th...  0.0149  0.1419  \n",
       "Top Education Policy Think Tanks                    0.0328  0.0154  \n",
       "Top Domestic Health Policy Think Tanks              0.0000  0.0000  \n",
       "Top Global Health Policy Think Tanks                0.0000  0.0000  \n",
       "Top Domestic Health Affairs Think Tanks             0.0000  0.0656  \n",
       "List of Food Security Think Tanks (Alphabetical...  0.0000  0.9624  \n",
       "List of Water Security Think Tanks (Alphabetica...  0.0000  0.9351  "
      ]
     },
     "execution_count": 105,
     "metadata": {},
     "output_type": "execute_result"
    }
   ],
   "source": [
    "cat_res_dev_df.fillna(0)"
   ]
  },
  {
   "cell_type": "code",
   "execution_count": 106,
   "metadata": {},
   "outputs": [
    {
     "data": {
      "text/plain": [
       "<matplotlib.axes._subplots.AxesSubplot at 0x11b6de208>"
      ]
     },
     "execution_count": 106,
     "metadata": {},
     "output_type": "execute_result"
    },
    {
     "data": {
      "image/png": "[encoded data removed]",
      "text/plain": [
       "<Figure size 432x288 with 1 Axes>"
      ]
     },
     "metadata": {
      "needs_background": "light"
     },
     "output_type": "display_data"
    }
   ],
   "source": [
    "cat_res_dev_df.mean().plot.line(x='% of new think tanks', y='category')"
   ]
  },
  {
   "cell_type": "code",
   "execution_count": 107,
   "metadata": {},
   "outputs": [
    {
     "data": {
      "text/plain": [
       "<matplotlib.axes._subplots.AxesSubplot at 0x11b582748>"
      ]
     },
     "execution_count": 107,
     "metadata": {},
     "output_type": "execute_result"
    },
    {
     "data": {
      "image/png": "[encoded data removed]",
      "text/plain": [
       "<Figure size 432x288 with 1 Axes>"
      ]
     },
     "metadata": {
      "needs_background": "light"
     },
     "output_type": "display_data"
    }
   ],
   "source": [
    "cat_res_dev_df.loc['Top Social Policy Think Tanks'].plot.line(x='% of new think tanks', y='category')"
   ]
  },
  {
   "cell_type": "markdown",
   "metadata": {},
   "source": [
    "## Special Categories"
   ]
  },
  {
   "cell_type": "markdown",
   "metadata": {},
   "source": [
    "Und zum Schluss machen wir das selbe für die Spezial-Kategorien. \n",
    "Wir hängen überall sp (special) dran, damit wir nicht durcheinander kommen. "
   ]
  },
  {
   "cell_type": "code",
   "execution_count": 108,
   "metadata": {},
   "outputs": [
    {
     "data": {
      "text/html": [
       "<div>\n",
       "<style scoped>\n",
       "    .dataframe tbody tr th:only-of-type {\n",
       "        vertical-align: middle;\n",
       "    }\n",
       "\n",
       "    .dataframe tbody tr th {\n",
       "        vertical-align: top;\n",
       "    }\n",
       "\n",
       "    .dataframe thead th {\n",
       "        text-align: right;\n",
       "    }\n",
       "</style>\n",
       "<table border=\"1\" class=\"dataframe\">\n",
       "  <thead>\n",
       "    <tr style=\"text-align: right;\">\n",
       "      <th></th>\n",
       "      <th>Rank</th>\n",
       "      <th>origin_tt_name</th>\n",
       "      <th>Category</th>\n",
       "      <th>Year</th>\n",
       "      <th>country</th>\n",
       "      <th>parenthesis</th>\n",
       "      <th>clean_tt</th>\n",
       "      <th>cleaned_category</th>\n",
       "    </tr>\n",
       "  </thead>\n",
       "  <tbody>\n",
       "    <tr>\n",
       "      <th>0</th>\n",
       "      <td>1</td>\n",
       "      <td>cato institute (usa)</td>\n",
       "      <td>Think Tanks with the Most Innovative Policy/Id...</td>\n",
       "      <td>2008</td>\n",
       "      <td>United States</td>\n",
       "      <td>['(usa)']</td>\n",
       "      <td>cato institute</td>\n",
       "      <td>Think Tanks with the Most Innovative Policy Id...</td>\n",
       "    </tr>\n",
       "    <tr>\n",
       "      <th>1</th>\n",
       "      <td>2</td>\n",
       "      <td>brookings institute  usa</td>\n",
       "      <td>Think Tanks with the Most Innovative Policy/Id...</td>\n",
       "      <td>2008</td>\n",
       "      <td>United States</td>\n",
       "      <td>[]</td>\n",
       "      <td>brookings institute</td>\n",
       "      <td>Think Tanks with the Most Innovative Policy Id...</td>\n",
       "    </tr>\n",
       "    <tr>\n",
       "      <th>2</th>\n",
       "      <td>3</td>\n",
       "      <td>carnegie endowment for international peace, us</td>\n",
       "      <td>Think Tanks with the Most Innovative Policy/Id...</td>\n",
       "      <td>2008</td>\n",
       "      <td>United States</td>\n",
       "      <td>[]</td>\n",
       "      <td>carnegie endowment for international peace,</td>\n",
       "      <td>Think Tanks with the Most Innovative Policy Id...</td>\n",
       "    </tr>\n",
       "    <tr>\n",
       "      <th>3</th>\n",
       "      <td>1</td>\n",
       "      <td>european council on foreign relations  belgium</td>\n",
       "      <td>Best New Think Tank (established in the last t...</td>\n",
       "      <td>2008</td>\n",
       "      <td>Belgium</td>\n",
       "      <td>[]</td>\n",
       "      <td>european council on foreign relations</td>\n",
       "      <td>Best New Think Tank (established in the last t...</td>\n",
       "    </tr>\n",
       "    <tr>\n",
       "      <th>4</th>\n",
       "      <td>2</td>\n",
       "      <td>bruegel (belgium)</td>\n",
       "      <td>Best New Think Tank (established in the last t...</td>\n",
       "      <td>2008</td>\n",
       "      <td>Belgium</td>\n",
       "      <td>['(belgium)']</td>\n",
       "      <td>bruegel</td>\n",
       "      <td>Best New Think Tank (established in the last t...</td>\n",
       "    </tr>\n",
       "  </tbody>\n",
       "</table>\n",
       "</div>"
      ],
      "text/plain": [
       "   Rank                                  origin_tt_name  \\\n",
       "0     1                            cato institute (usa)   \n",
       "1     2                        brookings institute  usa   \n",
       "2     3  carnegie endowment for international peace, us   \n",
       "3     1  european council on foreign relations  belgium   \n",
       "4     2                               bruegel (belgium)   \n",
       "\n",
       "                                            Category  Year        country  \\\n",
       "0  Think Tanks with the Most Innovative Policy/Id...  2008  United States   \n",
       "1  Think Tanks with the Most Innovative Policy/Id...  2008  United States   \n",
       "2  Think Tanks with the Most Innovative Policy/Id...  2008  United States   \n",
       "3  Best New Think Tank (established in the last t...  2008        Belgium   \n",
       "4  Best New Think Tank (established in the last t...  2008        Belgium   \n",
       "\n",
       "     parenthesis                                      clean_tt  \\\n",
       "0      ['(usa)']                                cato institute   \n",
       "1             []                         brookings institute     \n",
       "2             []  carnegie endowment for international peace,    \n",
       "3             []       european council on foreign relations     \n",
       "4  ['(belgium)']                                       bruegel   \n",
       "\n",
       "                                    cleaned_category  \n",
       "0  Think Tanks with the Most Innovative Policy Id...  \n",
       "1  Think Tanks with the Most Innovative Policy Id...  \n",
       "2  Think Tanks with the Most Innovative Policy Id...  \n",
       "3  Best New Think Tank (established in the last t...  \n",
       "4  Best New Think Tank (established in the last t...  "
      ]
     },
     "execution_count": 108,
     "metadata": {},
     "output_type": "execute_result"
    }
   ],
   "source": [
    "df_special.head()"
   ]
  },
  {
   "cell_type": "code",
   "execution_count": 109,
   "metadata": {},
   "outputs": [],
   "source": [
    "cats_list_sp = df_special['cleaned_category'].drop_duplicates().to_list()\n",
    "\n",
    "RESULTS_special = []\n",
    "\n",
    "for cat in cats_list_sp:\n",
    "    individual_df_sp = df_special[df_special['cleaned_category']== cat]\n",
    "    start_year_sp = individual_df_sp['Year'].min()\n",
    "    end_year_sp = individual_df_sp['Year'].max()\n",
    "    timespan_sp = range(start_year_sp,end_year_sp+1)\n",
    "    \n",
    "    \n",
    "    category_results_sp = {}\n",
    "    for year in timespan_sp:\n",
    "        prev_ranks_all_sp = df_special[df_special['Year'] < year]\n",
    "        prev_ranks_one_year_sp = df_special[df_special['Year']== year - 1]\n",
    "        \n",
    "        \n",
    "        individual_df_sp = df_special[df_special['cleaned_category']== cat]\n",
    "        individual_df_sp = individual_df_sp[individual_df_sp['Year'] == year]\n",
    "        \n",
    "        individual_df_sp['previous_all_sp'] = individual_df_sp['clean_tt'].isin(prev_ranks_all_sp['clean_tt'])\n",
    "        individual_df_sp['previous_one_year_sp'] = individual_df_sp['clean_tt'].isin(prev_ranks_one_year_sp['clean_tt'])\n",
    "        \n",
    "        \n",
    "        stats_all_sp = individual_df_sp.drop_duplicates(subset='clean_tt').previous_all_sp.value_counts()\n",
    "        #stats_one_year = individual_df_sp.drop_duplicates(subset='clean_tt').previous_one_year_sp.value_counts()\n",
    "    \n",
    "        if False in stats_all_sp.index:\n",
    "            new_tts_sp = stats_all_sp.loc[False]\n",
    "        else:\n",
    "            new_tts_sp = 0\n",
    "        if True in stats_all_sp.index:\n",
    "            old_tts_sp = stats_all_sp.loc[True]\n",
    "        else:\n",
    "            old_tts_sp=0\n",
    "        \n",
    "        total_sp = new_tts_sp+old_tts_sp\n",
    "        \n",
    "        if total_sp == 0:\n",
    "            result_sp = {year:0}\n",
    "            category_results_sp.update(result_sp)\n",
    "        else:\n",
    "            perc_new_tts_sp = new_tts_sp/total_sp\n",
    "            result_sp = {year:perc_new_tts_sp}\n",
    "            category_results_sp.update(result_sp)\n",
    "        \n",
    "    final_results_sp = {cat:category_results_sp}\n",
    "    #print(final_results_sp)\n",
    "    RESULTS_special.append(final_results_sp)"
   ]
  },
  {
   "cell_type": "code",
   "execution_count": 110,
   "metadata": {},
   "outputs": [],
   "source": [
    "cat_spec_dev = []\n",
    "for result in RESULTS_special:\n",
    "    #print(result)\n",
    "    row = pd.DataFrame(result).T\n",
    "    cat_spec_dev.append(row)\n",
    "    \n",
    "cat_spec_dev_df = pd.concat(cat_spec_dev).round(4) "
   ]
  },
  {
   "cell_type": "code",
   "execution_count": 111,
   "metadata": {},
   "outputs": [
    {
     "data": {
      "text/html": [
       "<div>\n",
       "<style scoped>\n",
       "    .dataframe tbody tr th:only-of-type {\n",
       "        vertical-align: middle;\n",
       "    }\n",
       "\n",
       "    .dataframe tbody tr th {\n",
       "        vertical-align: top;\n",
       "    }\n",
       "\n",
       "    .dataframe thead th {\n",
       "        text-align: right;\n",
       "    }\n",
       "</style>\n",
       "<table border=\"1\" class=\"dataframe\">\n",
       "  <thead>\n",
       "    <tr style=\"text-align: right;\">\n",
       "      <th></th>\n",
       "      <th>2008</th>\n",
       "      <th>2009</th>\n",
       "      <th>2010</th>\n",
       "      <th>2011</th>\n",
       "      <th>2012</th>\n",
       "      <th>2013</th>\n",
       "      <th>2014</th>\n",
       "      <th>2015</th>\n",
       "      <th>2016</th>\n",
       "      <th>2017</th>\n",
       "      <th>2018</th>\n",
       "    </tr>\n",
       "  </thead>\n",
       "  <tbody>\n",
       "    <tr>\n",
       "      <th>Think Tanks with the Most Innovative Policy Ideas/Proposals</th>\n",
       "      <td>1.0</td>\n",
       "      <td>0.0</td>\n",
       "      <td>0.88</td>\n",
       "      <td>0.2000</td>\n",
       "      <td>0.2667</td>\n",
       "      <td>0.0000</td>\n",
       "      <td>0.0333</td>\n",
       "      <td>0.0323</td>\n",
       "      <td>0.0857</td>\n",
       "      <td>0.0</td>\n",
       "      <td>0.0833</td>\n",
       "    </tr>\n",
       "    <tr>\n",
       "      <th>Best New Think Tank (established in the last three-five years)</th>\n",
       "      <td>1.0</td>\n",
       "      <td>0.4</td>\n",
       "      <td>NaN</td>\n",
       "      <td>NaN</td>\n",
       "      <td>NaN</td>\n",
       "      <td>NaN</td>\n",
       "      <td>NaN</td>\n",
       "      <td>NaN</td>\n",
       "      <td>NaN</td>\n",
       "      <td>NaN</td>\n",
       "      <td>NaN</td>\n",
       "    </tr>\n",
       "    <tr>\n",
       "      <th>Think Tanks with Outstanding Policy-Oriented Public Programs</th>\n",
       "      <td>1.0</td>\n",
       "      <td>0.2</td>\n",
       "      <td>0.84</td>\n",
       "      <td>0.3333</td>\n",
       "      <td>0.0000</td>\n",
       "      <td>0.0333</td>\n",
       "      <td>0.0333</td>\n",
       "      <td>NaN</td>\n",
       "      <td>NaN</td>\n",
       "      <td>NaN</td>\n",
       "      <td>NaN</td>\n",
       "    </tr>\n",
       "    <tr>\n",
       "      <th>Think Tank with the Best Use of the Internet</th>\n",
       "      <td>1.0</td>\n",
       "      <td>0.0</td>\n",
       "      <td>0.70</td>\n",
       "      <td>0.3667</td>\n",
       "      <td>0.2000</td>\n",
       "      <td>0.0000</td>\n",
       "      <td>0.1250</td>\n",
       "      <td>0.0625</td>\n",
       "      <td>0.0833</td>\n",
       "      <td>0.0</td>\n",
       "      <td>0.1692</td>\n",
       "    </tr>\n",
       "    <tr>\n",
       "      <th>Think Tanks with the Best Use of the Media (Print or Electronic)</th>\n",
       "      <td>1.0</td>\n",
       "      <td>0.2</td>\n",
       "      <td>0.70</td>\n",
       "      <td>0.4000</td>\n",
       "      <td>0.0000</td>\n",
       "      <td>0.0286</td>\n",
       "      <td>0.0250</td>\n",
       "      <td>NaN</td>\n",
       "      <td>NaN</td>\n",
       "      <td>NaN</td>\n",
       "      <td>NaN</td>\n",
       "    </tr>\n",
       "  </tbody>\n",
       "</table>\n",
       "</div>"
      ],
      "text/plain": [
       "                                                    2008  2009  2010    2011  \\\n",
       "Think Tanks with the Most Innovative Policy Ide...   1.0   0.0  0.88  0.2000   \n",
       "Best New Think Tank (established in the last th...   1.0   0.4   NaN     NaN   \n",
       "Think Tanks with Outstanding Policy-Oriented Pu...   1.0   0.2  0.84  0.3333   \n",
       "Think Tank with the Best Use of the Internet         1.0   0.0  0.70  0.3667   \n",
       "Think Tanks with the Best Use of the Media (Pri...   1.0   0.2  0.70  0.4000   \n",
       "\n",
       "                                                      2012    2013    2014  \\\n",
       "Think Tanks with the Most Innovative Policy Ide...  0.2667  0.0000  0.0333   \n",
       "Best New Think Tank (established in the last th...     NaN     NaN     NaN   \n",
       "Think Tanks with Outstanding Policy-Oriented Pu...  0.0000  0.0333  0.0333   \n",
       "Think Tank with the Best Use of the Internet        0.2000  0.0000  0.1250   \n",
       "Think Tanks with the Best Use of the Media (Pri...  0.0000  0.0286  0.0250   \n",
       "\n",
       "                                                      2015    2016  2017  \\\n",
       "Think Tanks with the Most Innovative Policy Ide...  0.0323  0.0857   0.0   \n",
       "Best New Think Tank (established in the last th...     NaN     NaN   NaN   \n",
       "Think Tanks with Outstanding Policy-Oriented Pu...     NaN     NaN   NaN   \n",
       "Think Tank with the Best Use of the Internet        0.0625  0.0833   0.0   \n",
       "Think Tanks with the Best Use of the Media (Pri...     NaN     NaN   NaN   \n",
       "\n",
       "                                                      2018  \n",
       "Think Tanks with the Most Innovative Policy Ide...  0.0833  \n",
       "Best New Think Tank (established in the last th...     NaN  \n",
       "Think Tanks with Outstanding Policy-Oriented Pu...     NaN  \n",
       "Think Tank with the Best Use of the Internet        0.1692  \n",
       "Think Tanks with the Best Use of the Media (Pri...     NaN  "
      ]
     },
     "execution_count": 111,
     "metadata": {},
     "output_type": "execute_result"
    }
   ],
   "source": [
    "cat_spec_dev_df.head()"
   ]
  },
  {
   "cell_type": "markdown",
   "metadata": {},
   "source": [
    "### Durchschnitt der prozentualen Zunahme neuer Think Tanks pro Jahr: "
   ]
  },
  {
   "cell_type": "code",
   "execution_count": 113,
   "metadata": {},
   "outputs": [
    {
     "data": {
      "text/plain": [
       "<matplotlib.axes._subplots.AxesSubplot at 0x11b442d68>"
      ]
     },
     "execution_count": 113,
     "metadata": {},
     "output_type": "execute_result"
    },
    {
     "data": {
      "image/png": "[encoded data removed]",
      "text/plain": [
       "<Figure size 432x288 with 1 Axes>"
      ]
     },
     "metadata": {
      "needs_background": "light"
     },
     "output_type": "display_data"
    }
   ],
   "source": [
    "cat_spec_dev_df.mean().plot.line(x='% of new think tanks', y='category')"
   ]
  },
  {
   "cell_type": "code",
   "execution_count": 114,
   "metadata": {},
   "outputs": [
    {
     "data": {
      "text/plain": [
       "2008    1.000000\n",
       "2009    0.133333\n",
       "2010    0.860000\n",
       "2011    0.392118\n",
       "2012    0.361675\n",
       "2013    0.276288\n",
       "2014    0.216944\n",
       "2015    0.194932\n",
       "2016    0.161173\n",
       "2017    0.054424\n",
       "2018    0.104368\n",
       "dtype: float64"
      ]
     },
     "execution_count": 114,
     "metadata": {},
     "output_type": "execute_result"
    }
   ],
   "source": [
    "cat_spec_dev_df.mean()"
   ]
  },
  {
   "cell_type": "markdown",
   "metadata": {},
   "source": [
    "### Anzahl der Kategorien über die Zeit!"
   ]
  },
  {
   "cell_type": "code",
   "execution_count": 115,
   "metadata": {},
   "outputs": [
    {
     "data": {
      "text/plain": [
       "<matplotlib.axes._subplots.AxesSubplot at 0x10c2b2f28>"
      ]
     },
     "execution_count": 115,
     "metadata": {},
     "output_type": "execute_result"
    },
    {
     "data": {
      "image/png": "[encoded data removed]",
      "text/plain": [
       "<Figure size 432x288 with 1 Axes>"
      ]
     },
     "metadata": {
      "needs_background": "light"
     },
     "output_type": "display_data"
    }
   ],
   "source": [
    "cat_spec_dev_df.mean().plot.line(x='% of new think tanks', y='category')"
   ]
  },
  {
   "cell_type": "code",
   "execution_count": 116,
   "metadata": {},
   "outputs": [
    {
     "data": {
      "text/plain": [
       "<matplotlib.axes._subplots.AxesSubplot at 0x11b905588>"
      ]
     },
     "execution_count": 116,
     "metadata": {},
     "output_type": "execute_result"
    },
    {
     "data": {
      "image/png": "[encoded data removed]",
      "text/plain": [
       "<Figure size 432x288 with 1 Axes>"
      ]
     },
     "metadata": {
      "needs_background": "light"
     },
     "output_type": "display_data"
    }
   ],
   "source": [
    "cat_spec_dev_df.loc['Think Tank to Watch'].plot.line(x='% of new think tanks', y='category')"
   ]
  },
  {
   "cell_type": "markdown",
   "metadata": {},
   "source": [
    "SAVE:"
   ]
  },
  {
   "cell_type": "code",
   "execution_count": 117,
   "metadata": {},
   "outputs": [],
   "source": [
    "writer = pd.ExcelWriter('categories_development_new.xlsx', engine='xlsxwriter')\n",
    "cat_reg_dev_df.to_excel(writer,sheet_name='regions')\n",
    "cat_res_dev_df.to_excel(writer,sheet_name='research_areas')\n",
    "cat_spec_dev_df.to_excel(writer,sheet_name='special_categories')\n",
    "writer.save()"
   ]
  },
  {
   "cell_type": "code",
   "execution_count": 118,
   "metadata": {},
   "outputs": [],
   "source": [
    "writer = pd.ExcelWriter('categories_tables.xlsx', engine='xlsxwriter')\n",
    "table_regions.to_excel(writer,sheet_name='regions')\n",
    "table_research.to_excel(writer,sheet_name='research_areas')\n",
    "table_special.to_excel(writer,sheet_name='special_categories')\n",
    "\n",
    "writer.save()"
   ]
  },
  {
   "cell_type": "code",
   "execution_count": null,
   "metadata": {},
   "outputs": [],
   "source": []
  },
  {
   "cell_type": "markdown",
   "metadata": {
    "toc-hr-collapsed": true
   },
   "source": [
    "# Hypothese 2: \n",
    "Die Think Tanks die in den neuen Kategorien hoch gerankt sind (Top 20/Top10) sind davor nicht hoch gerankt gewesen. "
   ]
  },
  {
   "cell_type": "markdown",
   "metadata": {},
   "source": [
    "## Regions:"
   ]
  },
  {
   "cell_type": "code",
   "execution_count": 119,
   "metadata": {},
   "outputs": [],
   "source": []
  },
  {
   "cell_type": "code",
   "execution_count": null,
   "metadata": {},
   "outputs": [],
   "source": []
  },
  {
   "cell_type": "code",
   "execution_count": 122,
   "metadata": {},
   "outputs": [],
   "source": [
    "## do we need a z-score transformation here?"
   ]
  },
  {
   "cell_type": "code",
   "execution_count": 123,
   "metadata": {},
   "outputs": [],
   "source": [
    "cats_list_sp = df_special['cleaned_category'].drop_duplicates().to_list()\n",
    "\n",
    "RESULTS_special = []\n",
    "\n",
    "for cat in cats_list_sp:\n",
    "    individual_df_sp = df_special[df_special['cleaned_category']== cat]\n",
    "    start_year_sp = individual_df_sp['Year'].min()\n",
    "    end_year_sp = individual_df_sp['Year'].max()\n",
    "    timespan_sp = range(start_year_sp,end_year_sp+1)\n",
    "    \n",
    "    \n",
    "    category_results_sp = {}\n",
    "    for year in timespan_sp:\n",
    "        prev_ranks_all_sp = df_special[df_special['Year'] < year]\n",
    "        prev_ranks_one_year_sp = df_special[df_special['Year']== year - 1]\n",
    "#-------------------------------------------------------------------------------------------------------------------------        \n",
    "# Neuer Teil: Hier werden die Ranks gezählt und ein Quotient \n",
    "# aus der Ranking Position geteilt durch die Anzahl der Ranks gebildet.         \n",
    "        prev_ranks_one_year_sp= df_special[df_special['Year']== year - 1]\n",
    "        prev_ranks_one_year_sp_sum = pd.DataFrame(prev_ranks_one_year_sp.groupby('cleaned_category')['Rank'].count())\n",
    "        prev_ranks_one_year_sp_sum = prev_ranks_one_year_sp_sum.reset_index()\n",
    "        prev_ranks_one_year_sp_sum = prev_ranks_one_year_sp_sum.rename(columns={'Rank':'Ranks_sum'}) \n",
    "        prev_ranks_one_year_sp_sum = pd.merge(prev_ranks_one_year_sp,prev_ranks_one_year_sp_sum,how='left',left_on='cleaned_category',right_on='cleaned_category')\n",
    "        prev_ranks_one_year_sp_sum['Rank_quot'] = prev_ranks_one_year_sp_sum['Rank']/prev_ranks_one_year_sp_sum['Ranks_sum']\n",
    "        \n",
    "        #get the mean for multiple rankings of each think tank\n",
    "        prev_ranks_one_year_sp_sum = prev_ranks_one_year_sp_sum.groupby('clean_tt').mean().reset_index()\n",
    "#-------------------------------------------------------------------------------------------------------------------------\n",
    "        \n",
    "        individual_df_sp = df_special[df_special['cleaned_category']== cat]\n",
    "        individual_df_sp = individual_df_sp[individual_df_sp['Year'] == year]\n",
    "        \n",
    "        final_results_sp = pd.merge(individual_df_sp,prev_ranks_one_year_sp_sum[['clean_tt','Rank_quot']],how='left',on='clean_tt')\n",
    "        \n",
    "        #individual_df_sp['previous_all_sp'] = individual_df_sp['clean_tt'].isin(prev_ranks_all_sp['clean_tt'])\n",
    "        #individual_df_sp['previous_one_year_sp'] = individual_df_sp['clean_tt'].isin(prev_ranks_one_year_sp['clean_tt'])\n",
    "        \n",
    "        \n",
    "        #stats_all_sp = individual_df_sp.drop_duplicates(subset='clean_tt').previous_all_sp.value_counts()\n",
    "        #stats_one_year = individual_df_sp.drop_duplicates(subset='clean_tt').previous_one_year_sp.value_counts()\n",
    "\n",
    "        \n",
    "    #final_results_sp = {cat:category_results_sp}\n",
    "    #print(final_results_sp)\n",
    "        RESULTS_special.append(final_results_sp)"
   ]
  },
  {
   "cell_type": "code",
   "execution_count": 124,
   "metadata": {},
   "outputs": [
    {
     "name": "stderr",
     "output_type": "stream",
     "text": [
      "/usr/local/lib/python3.7/site-packages/ipykernel_launcher.py:1: FutureWarning:\n",
      "\n",
      "Sorting because non-concatenation axis is not aligned. A future version\n",
      "of pandas will change to not sort by default.\n",
      "\n",
      "To accept the future behavior, pass 'sort=False'.\n",
      "\n",
      "To retain the current behavior and silence the warning, pass 'sort=True'.\n",
      "\n",
      "\n"
     ]
    },
    {
     "data": {
      "text/html": [
       "<div>\n",
       "<style scoped>\n",
       "    .dataframe tbody tr th:only-of-type {\n",
       "        vertical-align: middle;\n",
       "    }\n",
       "\n",
       "    .dataframe tbody tr th {\n",
       "        vertical-align: top;\n",
       "    }\n",
       "\n",
       "    .dataframe thead th {\n",
       "        text-align: right;\n",
       "    }\n",
       "</style>\n",
       "<table border=\"1\" class=\"dataframe\">\n",
       "  <thead>\n",
       "    <tr style=\"text-align: right;\">\n",
       "      <th></th>\n",
       "      <th>Category</th>\n",
       "      <th>Rank</th>\n",
       "      <th>Rank_quot</th>\n",
       "      <th>Year</th>\n",
       "      <th>clean_tt</th>\n",
       "      <th>cleaned_category</th>\n",
       "      <th>country</th>\n",
       "      <th>origin_tt_name</th>\n",
       "      <th>parenthesis</th>\n",
       "    </tr>\n",
       "  </thead>\n",
       "  <tbody>\n",
       "    <tr>\n",
       "      <th>0</th>\n",
       "      <td>Think Tanks with the Most Innovative Policy/Id...</td>\n",
       "      <td>1</td>\n",
       "      <td>NaN</td>\n",
       "      <td>2008</td>\n",
       "      <td>cato institute</td>\n",
       "      <td>Think Tanks with the Most Innovative Policy Id...</td>\n",
       "      <td>United States</td>\n",
       "      <td>cato institute (usa)</td>\n",
       "      <td>['(usa)']</td>\n",
       "    </tr>\n",
       "  </tbody>\n",
       "</table>\n",
       "</div>"
      ],
      "text/plain": [
       "                                            Category  Rank  Rank_quot  Year  \\\n",
       "0  Think Tanks with the Most Innovative Policy/Id...     1        NaN  2008   \n",
       "\n",
       "         clean_tt                                   cleaned_category  \\\n",
       "0  cato institute  Think Tanks with the Most Innovative Policy Id...   \n",
       "\n",
       "         country        origin_tt_name parenthesis  \n",
       "0  United States  cato institute (usa)   ['(usa)']  "
      ]
     },
     "execution_count": 124,
     "metadata": {},
     "output_type": "execute_result"
    }
   ],
   "source": [
    "RESULTS_special = pd.concat(RESULTS_special)\n",
    "RESULTS_special.head(1)"
   ]
  },
  {
   "cell_type": "code",
   "execution_count": 126,
   "metadata": {},
   "outputs": [
    {
     "data": {
      "text/html": [
       "<div>\n",
       "<style scoped>\n",
       "    .dataframe tbody tr th:only-of-type {\n",
       "        vertical-align: middle;\n",
       "    }\n",
       "\n",
       "    .dataframe tbody tr th {\n",
       "        vertical-align: top;\n",
       "    }\n",
       "\n",
       "    .dataframe thead th {\n",
       "        text-align: right;\n",
       "    }\n",
       "</style>\n",
       "<table border=\"1\" class=\"dataframe\">\n",
       "  <thead>\n",
       "    <tr style=\"text-align: right;\">\n",
       "      <th></th>\n",
       "      <th>clean_tt</th>\n",
       "      <th>Rank</th>\n",
       "      <th>Year</th>\n",
       "      <th>Ranks_sum</th>\n",
       "      <th>Rank_quot</th>\n",
       "    </tr>\n",
       "  </thead>\n",
       "  <tbody>\n",
       "    <tr>\n",
       "      <th>0</th>\n",
       "      <td>american enterprise institute,</td>\n",
       "      <td>3.0</td>\n",
       "      <td>2008.0</td>\n",
       "      <td>4.0</td>\n",
       "      <td>0.75</td>\n",
       "    </tr>\n",
       "  </tbody>\n",
       "</table>\n",
       "</div>"
      ],
      "text/plain": [
       "                          clean_tt  Rank    Year  Ranks_sum  Rank_quot\n",
       "0  american enterprise institute,    3.0  2008.0        4.0       0.75"
      ]
     },
     "execution_count": 126,
     "metadata": {},
     "output_type": "execute_result"
    }
   ],
   "source": [
    "test_df = df_special[df_special['Year']== 2009 - 1]\n",
    "test_df_cats = pd.DataFrame(test_df.groupby('cleaned_category')['Rank'].count())\n",
    "test_df_cats = test_df_cats.reset_index()\n",
    "test_df_cats = test_df_cats.rename(columns={'Rank':'Ranks_sum'}) \n",
    "test_df_cats = pd.merge(test_df,test_df_cats,how='left',left_on='cleaned_category',right_on='cleaned_category')\n",
    "test_df_cats['Rank_quot'] = test_df_cats['Rank']/test_df_cats['Ranks_sum']\n",
    "test_df_cats.groupby('clean_tt').mean().reset_index().head(1)\n",
    "#test_df.groupby(['Category','clean_tt']).mean()"
   ]
  },
  {
   "cell_type": "code",
   "execution_count": 127,
   "metadata": {},
   "outputs": [
    {
     "data": {
      "text/html": [
       "<div>\n",
       "<style scoped>\n",
       "    .dataframe tbody tr th:only-of-type {\n",
       "        vertical-align: middle;\n",
       "    }\n",
       "\n",
       "    .dataframe tbody tr th {\n",
       "        vertical-align: top;\n",
       "    }\n",
       "\n",
       "    .dataframe thead th {\n",
       "        text-align: right;\n",
       "    }\n",
       "</style>\n",
       "<table border=\"1\" class=\"dataframe\">\n",
       "  <thead>\n",
       "    <tr style=\"text-align: right;\">\n",
       "      <th></th>\n",
       "      <th>Rank</th>\n",
       "      <th>origin_tt_name</th>\n",
       "      <th>Category</th>\n",
       "      <th>Year</th>\n",
       "      <th>country</th>\n",
       "      <th>parenthesis</th>\n",
       "      <th>clean_tt</th>\n",
       "      <th>cleaned_category</th>\n",
       "      <th>Ranks_sum</th>\n",
       "      <th>Rank_quot</th>\n",
       "    </tr>\n",
       "  </thead>\n",
       "  <tbody>\n",
       "    <tr>\n",
       "      <th>0</th>\n",
       "      <td>1</td>\n",
       "      <td>cato institute (usa)</td>\n",
       "      <td>Think Tanks with the Most Innovative Policy/Id...</td>\n",
       "      <td>2008</td>\n",
       "      <td>United States</td>\n",
       "      <td>['(usa)']</td>\n",
       "      <td>cato institute</td>\n",
       "      <td>Think Tanks with the Most Innovative Policy Id...</td>\n",
       "      <td>3</td>\n",
       "      <td>0.333333</td>\n",
       "    </tr>\n",
       "  </tbody>\n",
       "</table>\n",
       "</div>"
      ],
      "text/plain": [
       "   Rank        origin_tt_name  \\\n",
       "0     1  cato institute (usa)   \n",
       "\n",
       "                                            Category  Year        country  \\\n",
       "0  Think Tanks with the Most Innovative Policy/Id...  2008  United States   \n",
       "\n",
       "  parenthesis        clean_tt  \\\n",
       "0   ['(usa)']  cato institute   \n",
       "\n",
       "                                    cleaned_category  Ranks_sum  Rank_quot  \n",
       "0  Think Tanks with the Most Innovative Policy Id...          3   0.333333  "
      ]
     },
     "execution_count": 127,
     "metadata": {},
     "output_type": "execute_result"
    }
   ],
   "source": [
    "test_df_cats.head(1)"
   ]
  },
  {
   "cell_type": "code",
   "execution_count": 128,
   "metadata": {},
   "outputs": [],
   "source": [
    "prev_ranks_all_sp = df_special[df_special['Year'] < 2009]\n",
    "prev_ranks_one_year_sp = df_special[df_special['Year']== year - 1]\n",
    "        \n",
    "        \n",
    "prev_ranks_one_year_sp= df_special[df_special['Year']== year - 1]\n",
    "prev_ranks_one_year_sp_sum = pd.DataFrame(prev_ranks_one_year_sp.groupby('cleaned_category')['Rank'].count())\n",
    "prev_ranks_one_year_sp_sum = prev_ranks_one_year_sp_sum.reset_index()\n",
    "prev_ranks_one_year_sp_sum = prev_ranks_one_year_sp_sum.rename(columns={'Rank':'Ranks_sum'}) \n",
    "prev_ranks_one_year_sp_sum = pd.merge(prev_ranks_one_year_sp,prev_ranks_one_year_sp_sum,how='left',left_on='cleaned_category',right_on='cleaned_category')\n",
    "prev_ranks_one_year_sp_sum['Rank_quot'] = prev_ranks_one_year_sp_sum['Rank']/prev_ranks_one_year_sp_sum['Ranks_sum']\n",
    "        \n",
    "prev_ranks_one_year_sp_sum_mean = prev_ranks_one_year_sp_sum.groupby('clean_tt')['Rank_quot'].mean().reset_index()\n",
    "        #print(prev_ranks_one_year_sp_sum['Rank_quot'])"
   ]
  },
  {
   "cell_type": "code",
   "execution_count": 130,
   "metadata": {},
   "outputs": [],
   "source": [
    "test = pd.merge(prev_ranks_one_year_sp_sum,prev_ranks_one_year_sp_sum_mean,how='left',on='clean_tt')\n",
    "#.value_counts()"
   ]
  },
  {
   "cell_type": "code",
   "execution_count": 131,
   "metadata": {},
   "outputs": [
    {
     "data": {
      "text/html": [
       "<div>\n",
       "<style scoped>\n",
       "    .dataframe tbody tr th:only-of-type {\n",
       "        vertical-align: middle;\n",
       "    }\n",
       "\n",
       "    .dataframe tbody tr th {\n",
       "        vertical-align: top;\n",
       "    }\n",
       "\n",
       "    .dataframe thead th {\n",
       "        text-align: right;\n",
       "    }\n",
       "</style>\n",
       "<table border=\"1\" class=\"dataframe\">\n",
       "  <thead>\n",
       "    <tr style=\"text-align: right;\">\n",
       "      <th></th>\n",
       "      <th>Rank</th>\n",
       "      <th>origin_tt_name</th>\n",
       "      <th>Category</th>\n",
       "      <th>Year</th>\n",
       "      <th>country</th>\n",
       "      <th>parenthesis</th>\n",
       "      <th>clean_tt</th>\n",
       "      <th>cleaned_category</th>\n",
       "      <th>Ranks_sum</th>\n",
       "      <th>Rank_quot_x</th>\n",
       "      <th>Rank_quot_y</th>\n",
       "    </tr>\n",
       "  </thead>\n",
       "  <tbody>\n",
       "    <tr>\n",
       "      <th>0</th>\n",
       "      <td>1</td>\n",
       "      <td>human rights watch (hrw) (united kingdom)</td>\n",
       "      <td>Best Advocacy Campaign</td>\n",
       "      <td>2017</td>\n",
       "      <td>United Kingdom</td>\n",
       "      <td>['(hrw)', '(united kingdom)']</td>\n",
       "      <td>human rights watch</td>\n",
       "      <td>Best Advocacy Campaign</td>\n",
       "      <td>90</td>\n",
       "      <td>0.011111</td>\n",
       "      <td>0.136015</td>\n",
       "    </tr>\n",
       "  </tbody>\n",
       "</table>\n",
       "</div>"
      ],
      "text/plain": [
       "   Rank                             origin_tt_name                Category  \\\n",
       "0     1  human rights watch (hrw) (united kingdom)  Best Advocacy Campaign   \n",
       "\n",
       "   Year         country                    parenthesis            clean_tt  \\\n",
       "0  2017  United Kingdom  ['(hrw)', '(united kingdom)']  human rights watch   \n",
       "\n",
       "         cleaned_category  Ranks_sum  Rank_quot_x  Rank_quot_y  \n",
       "0  Best Advocacy Campaign         90     0.011111     0.136015  "
      ]
     },
     "execution_count": 131,
     "metadata": {},
     "output_type": "execute_result"
    }
   ],
   "source": [
    "test.head(1)"
   ]
  },
  {
   "cell_type": "markdown",
   "metadata": {},
   "source": [
    "## Anderer Ansatz: "
   ]
  },
  {
   "cell_type": "markdown",
   "metadata": {},
   "source": [
    "Das mit dem Quotienten war erstmal zu kompliziert. \n",
    "Unser Ziel ist esdaher erstmal, die Top Think Tanks der neuen Kategorien rauszufiltern und bei diesen dann zu überprüfen wie hoch diese vorher gerankt wurden. \n",
    "Die Vermutung ist, dass sie vorher nie so hoch gerankt wurden und die neuen Kategorien genau deswegen eingeführt werden. Andere Think Tanks werden hoch gerankt und der GGTTIR wird dadurch interessanter für sie und sie erwähnen ihn eher auf ihrer Webseite und ähnlichem. "
   ]
  },
  {
   "cell_type": "markdown",
   "metadata": {},
   "source": [
    "Hier wollen wir mit allen Think Tanks im Ranking arbeiten. Deswegen erstellen wir ein Dataframe in dem alle drei Unterkategorien zusammengefasst werden. Die Unterteilung hat hier keinen Sinn gemacht. "
   ]
  },
  {
   "cell_type": "code",
   "execution_count": 132,
   "metadata": {},
   "outputs": [],
   "source": [
    "df_all = pd.concat([df_regions,df_research,df_special])"
   ]
  },
  {
   "cell_type": "code",
   "execution_count": 133,
   "metadata": {},
   "outputs": [],
   "source": [
    "# Wir erstellen eine Liste aller Kategorien und entfernen Duplikate:\n",
    "cats_list_all = df_all['cleaned_category'].drop_duplicates().to_list()\n",
    "\n",
    "RESULTS_all = []\n",
    "\n",
    "for cat in cats_list_all:\n",
    "    individual_df_all = df_all[df_all['cleaned_category']== cat]\n",
    "    start_year_all = individual_df_all['Year'].min()\n",
    "    individual_df_all = individual_df_all[individual_df_all['Year'] == start_year_all]\n",
    "\n",
    "    #-------------------------------------------------------------------------------------------------------------------------  \n",
    "    #Wie legen fest, dass wir nur das Jahr betrachten, dass vor dem ersten Jahr kam. \n",
    "    prev_ranks_one_year_all = df_all[df_all['Year']== start_year_all - 1]\n",
    "    prev_ranks_one_year_all=prev_ranks_one_year_all.groupby('clean_tt')['Rank'].apply(list).reset_index(name='all_ranks')\n",
    "    #-------------------------------------------------------------------------------------------------------------------------\n",
    "        \n",
    "    final_results_all = pd.merge(individual_df_all,prev_ranks_one_year_all[['clean_tt','all_ranks']],how='left',on='clean_tt')\n",
    "    RESULTS_all.append(final_results_all)"
   ]
  },
  {
   "cell_type": "code",
   "execution_count": 134,
   "metadata": {},
   "outputs": [],
   "source": [
    "\n",
    "RESULTS_df = pd.concat(RESULTS_all)\n",
    "\n",
    "#Wie brauchen das Jahr 2008 nicht, da in 2008 keine neuen Kategorien sind weil es das erste Jahr ist. \n",
    "#Die Kategorien aus 2008 sind daher die \"Grundkategorien\". Außerdem interessieren uns nur die \n",
    "#Think tanks die schon gerankt wurden. Die neuen Think Tanks sind hier nicht relevant.\n",
    "#exclude year 2008\n",
    "RESULTS_df = RESULTS_df[RESULTS_df['Year']!=2008]\n",
    "RESULTS_df.describe()\n",
    "RESULTS_df =RESULTS_df[RESULTS_df['all_ranks'].notnull()]\n",
    "#exclude ranks lower than 20\n",
    "RESULTS_df = RESULTS_df[RESULTS_df['Rank'] < 21]"
   ]
  },
  {
   "cell_type": "code",
   "execution_count": 136,
   "metadata": {},
   "outputs": [
    {
     "data": {
      "text/html": [
       "<div>\n",
       "<style scoped>\n",
       "    .dataframe tbody tr th:only-of-type {\n",
       "        vertical-align: middle;\n",
       "    }\n",
       "\n",
       "    .dataframe tbody tr th {\n",
       "        vertical-align: top;\n",
       "    }\n",
       "\n",
       "    .dataframe thead th {\n",
       "        text-align: right;\n",
       "    }\n",
       "</style>\n",
       "<table border=\"1\" class=\"dataframe\">\n",
       "  <thead>\n",
       "    <tr style=\"text-align: right;\">\n",
       "      <th></th>\n",
       "      <th>Rank</th>\n",
       "      <th>origin_tt_name</th>\n",
       "      <th>Category</th>\n",
       "      <th>Year</th>\n",
       "      <th>country</th>\n",
       "      <th>parenthesis</th>\n",
       "      <th>clean_tt</th>\n",
       "      <th>cleaned_category</th>\n",
       "      <th>all_ranks</th>\n",
       "    </tr>\n",
       "  </thead>\n",
       "  <tbody>\n",
       "    <tr>\n",
       "      <th>0</th>\n",
       "      <td>1</td>\n",
       "      <td>brookings institution (united states)</td>\n",
       "      <td>Top 25 Think Tanks â€“ Worldwide (US and Non-US)</td>\n",
       "      <td>2009</td>\n",
       "      <td>United States</td>\n",
       "      <td>['(united states)']</td>\n",
       "      <td>brookings institution</td>\n",
       "      <td>Top Think Tanks Worldwide (US and non-US)</td>\n",
       "      <td>[1, 1, 1, 2, 1, 1, 1, 1]</td>\n",
       "    </tr>\n",
       "    <tr>\n",
       "      <th>5</th>\n",
       "      <td>6</td>\n",
       "      <td>chatham house uk</td>\n",
       "      <td>Top 25 Think Tanks â€“ Worldwide (US and Non-US)</td>\n",
       "      <td>2009</td>\n",
       "      <td>United Kingdom</td>\n",
       "      <td>[]</td>\n",
       "      <td>chatham house</td>\n",
       "      <td>Top Think Tanks Worldwide (US and non-US)</td>\n",
       "      <td>[1]</td>\n",
       "    </tr>\n",
       "    <tr>\n",
       "      <th>10</th>\n",
       "      <td>11</td>\n",
       "      <td>international crisis group (belgium)</td>\n",
       "      <td>Top 25 Think Tanks â€“ Worldwide (US and Non-US)</td>\n",
       "      <td>2009</td>\n",
       "      <td>Belgium</td>\n",
       "      <td>['(belgium)']</td>\n",
       "      <td>international crisis group</td>\n",
       "      <td>Top Think Tanks Worldwide (US and non-US)</td>\n",
       "      <td>[5, 1]</td>\n",
       "    </tr>\n",
       "    <tr>\n",
       "      <th>13</th>\n",
       "      <td>14</td>\n",
       "      <td>woodrow wilson international center for schola...</td>\n",
       "      <td>Top 25 Think Tanks â€“ Worldwide (US and Non-US)</td>\n",
       "      <td>2009</td>\n",
       "      <td>United States</td>\n",
       "      <td>['(united states)']</td>\n",
       "      <td>woodrow wilson international center for scholars</td>\n",
       "      <td>Top Think Tanks Worldwide (US and non-US)</td>\n",
       "      <td>[6, 5]</td>\n",
       "    </tr>\n",
       "    <tr>\n",
       "      <th>15</th>\n",
       "      <td>16</td>\n",
       "      <td>stockholm international peace research institu...</td>\n",
       "      <td>Top 25 Think Tanks â€“ Worldwide (US and Non-US)</td>\n",
       "      <td>2009</td>\n",
       "      <td>Sweden</td>\n",
       "      <td>[]</td>\n",
       "      <td>stockholm international peace research institute</td>\n",
       "      <td>Top Think Tanks Worldwide (US and non-US)</td>\n",
       "      <td>[2]</td>\n",
       "    </tr>\n",
       "  </tbody>\n",
       "</table>\n",
       "</div>"
      ],
      "text/plain": [
       "    Rank                                     origin_tt_name  \\\n",
       "0      1              brookings institution (united states)   \n",
       "5      6                                   chatham house uk   \n",
       "10    11               international crisis group (belgium)   \n",
       "13    14  woodrow wilson international center for schola...   \n",
       "15    16  stockholm international peace research institu...   \n",
       "\n",
       "                                            Category  Year         country  \\\n",
       "0   Top 25 Think Tanks â€“ Worldwide (US and Non-US)  2009   United States   \n",
       "5   Top 25 Think Tanks â€“ Worldwide (US and Non-US)  2009  United Kingdom   \n",
       "10  Top 25 Think Tanks â€“ Worldwide (US and Non-US)  2009         Belgium   \n",
       "13  Top 25 Think Tanks â€“ Worldwide (US and Non-US)  2009   United States   \n",
       "15  Top 25 Think Tanks â€“ Worldwide (US and Non-US)  2009          Sweden   \n",
       "\n",
       "            parenthesis                                           clean_tt  \\\n",
       "0   ['(united states)']                              brookings institution   \n",
       "5                    []                                     chatham house    \n",
       "10        ['(belgium)']                         international crisis group   \n",
       "13  ['(united states)']   woodrow wilson international center for scholars   \n",
       "15                   []  stockholm international peace research institute    \n",
       "\n",
       "                              cleaned_category                 all_ranks  \n",
       "0   Top Think Tanks Worldwide (US and non-US)   [1, 1, 1, 2, 1, 1, 1, 1]  \n",
       "5   Top Think Tanks Worldwide (US and non-US)                        [1]  \n",
       "10  Top Think Tanks Worldwide (US and non-US)                     [5, 1]  \n",
       "13  Top Think Tanks Worldwide (US and non-US)                     [6, 5]  \n",
       "15  Top Think Tanks Worldwide (US and non-US)                        [2]  "
      ]
     },
     "execution_count": 136,
     "metadata": {},
     "output_type": "execute_result"
    }
   ],
   "source": [
    "RESULTS_df.head(5)"
   ]
  },
  {
   "cell_type": "markdown",
   "metadata": {},
   "source": [
    "## Top 20:\n",
    "Jetzt checken wir wie viele der Think Tanks, vorher schon unter den Top 20 waren. "
   ]
  },
  {
   "cell_type": "markdown",
   "metadata": {},
   "source": [
    "Funktion um bei jedem Wert in all_ranks zu checken ob er kleiner als 10/20 etc ist:  \n"
   ]
  },
  {
   "cell_type": "code",
   "execution_count": 137,
   "metadata": {},
   "outputs": [],
   "source": [
    "def check_prev(liste):\n",
    "    #print(liste)\n",
    "    results_true = [] \n",
    "    results_false = [] \n",
    "    for value in liste:\n",
    "        if value > 20:\n",
    "            #return (False)\n",
    "            results_false.append(1)\n",
    "        else:\n",
    "            results_true.append(1)\n",
    "            #return (True)\n",
    "    results_true = sum(results_true)\n",
    "    results_false = sum(results_false) \n",
    "    return results_true,results_false"
   ]
  },
  {
   "cell_type": "code",
   "execution_count": 138,
   "metadata": {},
   "outputs": [
    {
     "data": {
      "text/html": [
       "<div>\n",
       "<style scoped>\n",
       "    .dataframe tbody tr th:only-of-type {\n",
       "        vertical-align: middle;\n",
       "    }\n",
       "\n",
       "    .dataframe tbody tr th {\n",
       "        vertical-align: top;\n",
       "    }\n",
       "\n",
       "    .dataframe thead th {\n",
       "        text-align: right;\n",
       "    }\n",
       "</style>\n",
       "<table border=\"1\" class=\"dataframe\">\n",
       "  <thead>\n",
       "    <tr style=\"text-align: right;\">\n",
       "      <th></th>\n",
       "      <th>Rank</th>\n",
       "      <th>origin_tt_name</th>\n",
       "      <th>Category</th>\n",
       "      <th>Year</th>\n",
       "      <th>country</th>\n",
       "      <th>parenthesis</th>\n",
       "      <th>clean_tt</th>\n",
       "      <th>cleaned_category</th>\n",
       "      <th>all_ranks</th>\n",
       "      <th>prev_top20_true</th>\n",
       "      <th>prev_top20_false</th>\n",
       "    </tr>\n",
       "  </thead>\n",
       "  <tbody>\n",
       "    <tr>\n",
       "      <th>0</th>\n",
       "      <td>1</td>\n",
       "      <td>brookings institution (united states)</td>\n",
       "      <td>Top 25 Think Tanks â€“ Worldwide (US and Non-US)</td>\n",
       "      <td>2009</td>\n",
       "      <td>United States</td>\n",
       "      <td>['(united states)']</td>\n",
       "      <td>brookings institution</td>\n",
       "      <td>Top Think Tanks Worldwide (US and non-US)</td>\n",
       "      <td>[1, 1, 1, 2, 1, 1, 1, 1]</td>\n",
       "      <td>8</td>\n",
       "      <td>0</td>\n",
       "    </tr>\n",
       "  </tbody>\n",
       "</table>\n",
       "</div>"
      ],
      "text/plain": [
       "   Rank                         origin_tt_name  \\\n",
       "0     1  brookings institution (united states)   \n",
       "\n",
       "                                           Category  Year        country  \\\n",
       "0  Top 25 Think Tanks â€“ Worldwide (US and Non-US)  2009  United States   \n",
       "\n",
       "           parenthesis               clean_tt  \\\n",
       "0  ['(united states)']  brookings institution   \n",
       "\n",
       "                             cleaned_category                 all_ranks  \\\n",
       "0  Top Think Tanks Worldwide (US and non-US)   [1, 1, 1, 2, 1, 1, 1, 1]   \n",
       "\n",
       "   prev_top20_true  prev_top20_false  \n",
       "0                8                 0  "
      ]
     },
     "execution_count": 138,
     "metadata": {},
     "output_type": "execute_result"
    }
   ],
   "source": [
    "RESULTS_df['prev_top20_true'],RESULTS_df['prev_top20_false'] = zip(*RESULTS_df['all_ranks'].map(check_prev))\n",
    "\n",
    "#RESULTS_df['all_ranks'].apply(check_prev)\n",
    "RESULTS_df.head(1)"
   ]
  },
  {
   "cell_type": "code",
   "execution_count": 139,
   "metadata": {},
   "outputs": [],
   "source": [
    "RESULTS_df_True = RESULTS_df[RESULTS_df['prev_top20_true'] > 0] \n",
    "RESULTS_df_False = RESULTS_df[RESULTS_df['prev_top20_true'] == 0] "
   ]
  },
  {
   "cell_type": "code",
   "execution_count": 140,
   "metadata": {},
   "outputs": [
    {
     "name": "stdout",
     "output_type": "stream",
     "text": [
      "0.8831341301460823 % of think tanks were previously listed within a top 20\n"
     ]
    }
   ],
   "source": [
    "print(len(RESULTS_df_True)/(len(RESULTS_df_True)+len(RESULTS_df_False)), '% of think tanks were previously listed within a top 20')"
   ]
  },
  {
   "cell_type": "code",
   "execution_count": 141,
   "metadata": {},
   "outputs": [
    {
     "name": "stdout",
     "output_type": "stream",
     "text": [
      "0.11686586985391766 % of think tanks were NOT previously listed within a top 20\n"
     ]
    }
   ],
   "source": [
    "print(len(RESULTS_df_False)/(len(RESULTS_df_True)+len(RESULTS_df_False)), '% of think tanks were NOT previously listed within a top 20')"
   ]
  },
  {
   "cell_type": "code",
   "execution_count": 142,
   "metadata": {},
   "outputs": [
    {
     "name": "stdout",
     "output_type": "stream",
     "text": [
      "3651\n"
     ]
    }
   ],
   "source": [
    "Total_True = RESULTS_df['prev_top20_true'].sum()\n",
    "print (Total_True)"
   ]
  },
  {
   "cell_type": "code",
   "execution_count": 143,
   "metadata": {},
   "outputs": [
    {
     "name": "stdout",
     "output_type": "stream",
     "text": [
      "1177\n"
     ]
    }
   ],
   "source": [
    "Total_False = RESULTS_df['prev_top20_false'].sum()\n",
    "print (Total_False)"
   ]
  },
  {
   "cell_type": "markdown",
   "metadata": {},
   "source": [
    "## TOP 10:\n",
    "Jetzt checken wir wie viele der Think Tanks, vorher schon unter den Top 10 waren. "
   ]
  },
  {
   "cell_type": "code",
   "execution_count": 144,
   "metadata": {},
   "outputs": [],
   "source": [
    "RESULTS_df_2 = pd.concat(RESULTS_all)\n",
    "\n",
    "#Wie brauchen das Jahr 2008 nicht, da in 2008 keine neuen Kategorien sind weil es das erste Jahr ist. \n",
    "#Die Kategorien aus 2008 sind daher die \"Grundkategorien\". Außerdem interessieren uns nur die \n",
    "#Think tanks die schon gerankt wurden. Die neuen Think Tanks sind hier nicht relevant.\n",
    "#exclude year 2008\n",
    "RESULTS_df_2 = RESULTS_df_2[RESULTS_df_2['Year']!=2008]\n",
    "RESULTS_df_2.describe()\n",
    "RESULTS_df_2 =RESULTS_df_2[RESULTS_df_2['all_ranks'].notnull()]\n",
    "#exclude ranks lower than 20\n",
    "RESULTS_df_2 = RESULTS_df_2[RESULTS_df_2['Rank'] < 21]"
   ]
  },
  {
   "cell_type": "code",
   "execution_count": 145,
   "metadata": {},
   "outputs": [],
   "source": [
    "def check_prev_2(liste):\n",
    "    #print(liste)\n",
    "    results_true_2 = [] \n",
    "    results_false_2 = [] \n",
    "    for value in liste:\n",
    "        if value > 10:\n",
    "            #return (False)\n",
    "            results_false_2.append(1)\n",
    "        else:\n",
    "            results_true_2.append(1)\n",
    "            #return (True)\n",
    "    results_true_2 = sum(results_true_2)\n",
    "    results_false_2 = sum(results_false_2) \n",
    "    return results_true_2,results_false_2"
   ]
  },
  {
   "cell_type": "code",
   "execution_count": 146,
   "metadata": {},
   "outputs": [
    {
     "data": {
      "text/html": [
       "<div>\n",
       "<style scoped>\n",
       "    .dataframe tbody tr th:only-of-type {\n",
       "        vertical-align: middle;\n",
       "    }\n",
       "\n",
       "    .dataframe tbody tr th {\n",
       "        vertical-align: top;\n",
       "    }\n",
       "\n",
       "    .dataframe thead th {\n",
       "        text-align: right;\n",
       "    }\n",
       "</style>\n",
       "<table border=\"1\" class=\"dataframe\">\n",
       "  <thead>\n",
       "    <tr style=\"text-align: right;\">\n",
       "      <th></th>\n",
       "      <th>Rank</th>\n",
       "      <th>origin_tt_name</th>\n",
       "      <th>Category</th>\n",
       "      <th>Year</th>\n",
       "      <th>country</th>\n",
       "      <th>parenthesis</th>\n",
       "      <th>clean_tt</th>\n",
       "      <th>cleaned_category</th>\n",
       "      <th>all_ranks</th>\n",
       "      <th>prev_top10_true</th>\n",
       "      <th>prev_top10_false</th>\n",
       "    </tr>\n",
       "  </thead>\n",
       "  <tbody>\n",
       "    <tr>\n",
       "      <th>0</th>\n",
       "      <td>1</td>\n",
       "      <td>brookings institution (united states)</td>\n",
       "      <td>Top 25 Think Tanks â€“ Worldwide (US and Non-US)</td>\n",
       "      <td>2009</td>\n",
       "      <td>United States</td>\n",
       "      <td>['(united states)']</td>\n",
       "      <td>brookings institution</td>\n",
       "      <td>Top Think Tanks Worldwide (US and non-US)</td>\n",
       "      <td>[1, 1, 1, 2, 1, 1, 1, 1]</td>\n",
       "      <td>8</td>\n",
       "      <td>0</td>\n",
       "    </tr>\n",
       "  </tbody>\n",
       "</table>\n",
       "</div>"
      ],
      "text/plain": [
       "   Rank                         origin_tt_name  \\\n",
       "0     1  brookings institution (united states)   \n",
       "\n",
       "                                           Category  Year        country  \\\n",
       "0  Top 25 Think Tanks â€“ Worldwide (US and Non-US)  2009  United States   \n",
       "\n",
       "           parenthesis               clean_tt  \\\n",
       "0  ['(united states)']  brookings institution   \n",
       "\n",
       "                             cleaned_category                 all_ranks  \\\n",
       "0  Top Think Tanks Worldwide (US and non-US)   [1, 1, 1, 2, 1, 1, 1, 1]   \n",
       "\n",
       "   prev_top10_true  prev_top10_false  \n",
       "0                8                 0  "
      ]
     },
     "execution_count": 146,
     "metadata": {},
     "output_type": "execute_result"
    }
   ],
   "source": [
    "RESULTS_df_2['prev_top10_true'], RESULTS_df_2['prev_top10_false'], = zip(*RESULTS_df_2['all_ranks'].map(check_prev_2))\n",
    "RESULTS_df_2.head(1)"
   ]
  },
  {
   "cell_type": "code",
   "execution_count": 147,
   "metadata": {},
   "outputs": [],
   "source": [
    "RESULTS_df_True_2 = RESULTS_df_2[RESULTS_df_2['prev_top10_true'] > 0] \n",
    "RESULTS_df_False_2 = RESULTS_df_2[RESULTS_df_2['prev_top10_true'] == 0] "
   ]
  },
  {
   "cell_type": "code",
   "execution_count": 148,
   "metadata": {},
   "outputs": [
    {
     "name": "stdout",
     "output_type": "stream",
     "text": [
      "0.6918990703851262 % of think tanks were previously listed within a top 10\n"
     ]
    }
   ],
   "source": [
    "print(len(RESULTS_df_True_2)/(len(RESULTS_df_True_2)+len(RESULTS_df_False_2)), '% of think tanks were previously listed within a top 10')"
   ]
  },
  {
   "cell_type": "code",
   "execution_count": 149,
   "metadata": {},
   "outputs": [
    {
     "name": "stdout",
     "output_type": "stream",
     "text": [
      "0.30810092961487384 % of think tanks were NOT previously listed within a top 10\n"
     ]
    }
   ],
   "source": [
    "print(len(RESULTS_df_False_2)/(len(RESULTS_df_True_2)+len(RESULTS_df_False_2)), '% of think tanks were NOT previously listed within a top 10')"
   ]
  },
  {
   "cell_type": "code",
   "execution_count": 150,
   "metadata": {},
   "outputs": [
    {
     "name": "stdout",
     "output_type": "stream",
     "text": [
      "2609\n"
     ]
    }
   ],
   "source": [
    "Total_True_2 = RESULTS_df_2['prev_top10_true'].sum()\n",
    "print (Total_True_2)"
   ]
  },
  {
   "cell_type": "code",
   "execution_count": 151,
   "metadata": {},
   "outputs": [
    {
     "name": "stdout",
     "output_type": "stream",
     "text": [
      "2219\n"
     ]
    }
   ],
   "source": [
    "Total_False_2 = RESULTS_df_2['prev_top10_false'].sum()\n",
    "print (Total_False_2)"
   ]
  },
  {
   "cell_type": "code",
   "execution_count": null,
   "metadata": {},
   "outputs": [],
   "source": []
  },
  {
   "cell_type": "markdown",
   "metadata": {},
   "source": [
    "SAVE:"
   ]
  },
  {
   "cell_type": "code",
   "execution_count": 152,
   "metadata": {},
   "outputs": [],
   "source": [
    "writer = pd.ExcelWriter('previous_ranks.xlsx', engine='xlsxwriter')\n",
    "RESULTS_df.to_excel(writer,sheet_name='top20')\n",
    "RESULTS_df_2.to_excel(writer,sheet_name='top10')\n",
    "\n",
    "writer.save()"
   ]
  },
  {
   "cell_type": "code",
   "execution_count": null,
   "metadata": {},
   "outputs": [],
   "source": []
  }
 ],
 "metadata": {
  "kernelspec": {
   "display_name": "Python 3",
   "language": "python",
   "name": "python3"
  },
  "language_info": {
   "codemirror_mode": {
    "name": "ipython",
    "version": 3
   },
   "file_extension": ".py",
   "mimetype": "text/x-python",
   "name": "python",
   "nbconvert_exporter": "python",
   "pygments_lexer": "ipython3",
   "version": "3.7.2"
  }
 },
 "nbformat": 4,
 "nbformat_minor": 4
}
