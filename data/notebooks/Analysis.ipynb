{
 "cells": [
  {
   "cell_type": "markdown",
   "metadata": {},
   "source": [
    "## Data Analysis: Go to think tank index"
   ]
  },
  {
   "cell_type": "code",
   "execution_count": 1,
   "metadata": {},
   "outputs": [],
   "source": [
    "import pandas as pd\n",
    "import pycountry\n",
    "import xlsxwriter"
   ]
  },
  {
   "cell_type": "code",
   "execution_count": 2,
   "metadata": {},
   "outputs": [],
   "source": [
    "pd.options.display.max_colwidth = 100"
   ]
  },
  {
   "cell_type": "code",
   "execution_count": 3,
   "metadata": {},
   "outputs": [],
   "source": [
    "file_path = 'Neuste_Version.xlsx'"
   ]
  },
  {
   "cell_type": "markdown",
   "metadata": {},
   "source": [
    "## 1.1 Functions"
   ]
  },
  {
   "cell_type": "code",
   "execution_count": 144,
   "metadata": {},
   "outputs": [],
   "source": [
    "##function to check for missing numbers in list of natural numbers:\n",
    "def missing_numbers(num_list):\n",
    "    original_list = [x for x in range(num_list[0], num_list[-1] + 1)]\n",
    "    num_list = set(num_list)\n",
    "    return (list(num_list ^ set(original_list)))"
   ]
  },
  {
   "cell_type": "markdown",
   "metadata": {},
   "source": [
    "## 1.2 Load Datasets"
   ]
  },
  {
   "cell_type": "code",
   "execution_count": 145,
   "metadata": {},
   "outputs": [],
   "source": [
    "#load test datasets\n",
    "df_regions = pd.read_excel(file_path,sheet_name='regions')\n",
    "df_special = pd.read_excel(file_path,sheet_name='special_categories')\n",
    "df_research = pd.read_excel(file_path,sheet_name='research_areas')"
   ]
  },
  {
   "cell_type": "markdown",
   "metadata": {},
   "source": [
    "## Regions"
   ]
  },
  {
   "cell_type": "code",
   "execution_count": 146,
   "metadata": {},
   "outputs": [],
   "source": [
    "#convert float to int:\n",
    "df_regions['Rank'] = df_regions['Rank'].astype(int)\n",
    "df_regions_test = df_regions.tail(100)"
   ]
  },
  {
   "cell_type": "code",
   "execution_count": 147,
   "metadata": {},
   "outputs": [],
   "source": [
    "##Create a dictionary for each Category with the Category title (key) and the missing values as a list\n",
    "check_list_regions = df_regions.groupby('Category')['Rank'].apply(list).to_dict()"
   ]
  },
  {
   "cell_type": "code",
   "execution_count": 148,
   "metadata": {},
   "outputs": [],
   "source": [
    "##Run missing_numbers function on the dictionary. Create new list with only those Categories that entail missing numbers\n",
    "check_values = []\n",
    "for key,value in check_list_regions.items():\n",
    "    check = missing_numbers(value)\n",
    "    if check:\n",
    "        dicts = {key:check}\n",
    "        check_values.append(dicts)"
   ]
  },
  {
   "cell_type": "code",
   "execution_count": 149,
   "metadata": {},
   "outputs": [
    {
     "data": {
      "text/plain": [
       "[{'Top Think Tanks Worldwide (Non-US)': [143,\n",
       "   144,\n",
       "   145,\n",
       "   146,\n",
       "   147,\n",
       "   148,\n",
       "   149,\n",
       "   150,\n",
       "   180]},\n",
       " {'Top Think Tanks in Central Asia': [66,\n",
       "   67,\n",
       "   68,\n",
       "   69,\n",
       "   70,\n",
       "   71,\n",
       "   72,\n",
       "   73,\n",
       "   74,\n",
       "   75,\n",
       "   76,\n",
       "   77,\n",
       "   78,\n",
       "   79,\n",
       "   80]},\n",
       " {'Top Think Tanks in Sub-Saharan Africa': [95]}]"
      ]
     },
     "execution_count": 149,
     "metadata": {},
     "output_type": "execute_result"
    }
   ],
   "source": [
    "check_values"
   ]
  },
  {
   "cell_type": "code",
   "execution_count": 150,
   "metadata": {},
   "outputs": [],
   "source": [
    "check_list_regions = df_regions.groupby(['Category','Year'])['Rank'].apply(list).to_dict()"
   ]
  },
  {
   "cell_type": "code",
   "execution_count": 151,
   "metadata": {},
   "outputs": [
    {
     "data": {
      "text/plain": [
       "[{'Top Think Tanks Worldwide (Non-US)': [143,\n",
       "   144,\n",
       "   145,\n",
       "   146,\n",
       "   147,\n",
       "   148,\n",
       "   149,\n",
       "   150,\n",
       "   180]},\n",
       " {'Top Think Tanks in Central Asia': [66,\n",
       "   67,\n",
       "   68,\n",
       "   69,\n",
       "   70,\n",
       "   71,\n",
       "   72,\n",
       "   73,\n",
       "   74,\n",
       "   75,\n",
       "   76,\n",
       "   77,\n",
       "   78,\n",
       "   79,\n",
       "   80]},\n",
       " {'Top Think Tanks in Sub-Saharan Africa': [95]}]"
      ]
     },
     "execution_count": 151,
     "metadata": {},
     "output_type": "execute_result"
    }
   ],
   "source": [
    "check_values"
   ]
  },
  {
   "cell_type": "code",
   "execution_count": 152,
   "metadata": {},
   "outputs": [],
   "source": [
    "#Delete commas and quotationsmarks:\n",
    "#df_regions['Think Tank'] = df_regions['Think Tank'].map(lambda x: x.lstrip(',').rstrip('\"'))\n",
    "df_regions['Think Tank'] = df_regions['Think Tank'].str.strip(\",\")\n",
    "df_regions['Think Tank'] = df_regions['Think Tank'].str.strip('\"')\n"
   ]
  },
  {
   "cell_type": "markdown",
   "metadata": {},
   "source": [
    "## Research Areas"
   ]
  },
  {
   "cell_type": "code",
   "execution_count": 153,
   "metadata": {},
   "outputs": [
    {
     "data": {
      "text/html": [
       "<div>\n",
       "<style scoped>\n",
       "    .dataframe tbody tr th:only-of-type {\n",
       "        vertical-align: middle;\n",
       "    }\n",
       "\n",
       "    .dataframe tbody tr th {\n",
       "        vertical-align: top;\n",
       "    }\n",
       "\n",
       "    .dataframe thead th {\n",
       "        text-align: right;\n",
       "    }\n",
       "</style>\n",
       "<table border=\"1\" class=\"dataframe\">\n",
       "  <thead>\n",
       "    <tr style=\"text-align: right;\">\n",
       "      <th></th>\n",
       "      <th>Rank</th>\n",
       "      <th>Think Tank</th>\n",
       "      <th>Category</th>\n",
       "      <th>Year</th>\n",
       "      <th>country</th>\n",
       "    </tr>\n",
       "  </thead>\n",
       "  <tbody>\n",
       "  </tbody>\n",
       "</table>\n",
       "</div>"
      ],
      "text/plain": [
       "Empty DataFrame\n",
       "Columns: [Rank, Think Tank, Category, Year, country]\n",
       "Index: []"
      ]
     },
     "execution_count": 153,
     "metadata": {},
     "output_type": "execute_result"
    }
   ],
   "source": [
    "df_research[df_research['Rank'].isnull()]"
   ]
  },
  {
   "cell_type": "code",
   "execution_count": 154,
   "metadata": {},
   "outputs": [],
   "source": [
    "df_research['Rank'] = df_research['Rank'].astype(int)\n",
    "df_research_test = df_research.tail(100)"
   ]
  },
  {
   "cell_type": "code",
   "execution_count": 155,
   "metadata": {},
   "outputs": [],
   "source": [
    "##function to check for missing numbers in list of natural numbers:\n",
    "def missing_numbers(num_list):\n",
    "    original_list = [x for x in range(num_list[0], num_list[-1] + 1)]\n",
    "    num_list = set(num_list)\n",
    "    return (list(num_list ^ set(original_list)))"
   ]
  },
  {
   "cell_type": "code",
   "execution_count": 156,
   "metadata": {},
   "outputs": [],
   "source": [
    "##Create a dictionary for each Category with the Category title (key) and the missing values as a list\n",
    "check_list_research = df_research.groupby('Category')['Rank'].apply(list).to_dict()"
   ]
  },
  {
   "cell_type": "code",
   "execution_count": 157,
   "metadata": {},
   "outputs": [],
   "source": [
    "##Run missing_numbers function on the dictionary. Create new list with only those Categories that entail missing numbers\n",
    "check_values = []\n",
    "for key,value in check_list_research.items():\n",
    "    check = missing_numbers(value)\n",
    "    if check:\n",
    "        dicts = {key:check}\n",
    "        check_values.append(dicts)"
   ]
  },
  {
   "cell_type": "code",
   "execution_count": 158,
   "metadata": {},
   "outputs": [
    {
     "data": {
      "text/plain": [
       "[{'Top Environment Think Tanks': [66, 67, 68, 69, 70]},\n",
       " {'Top International Economics Think Tanks': [84, 85]},\n",
       " {'Top Science and Technology Think Tanks': [69, 70]}]"
      ]
     },
     "execution_count": 158,
     "metadata": {},
     "output_type": "execute_result"
    }
   ],
   "source": [
    "check_values"
   ]
  },
  {
   "cell_type": "code",
   "execution_count": 159,
   "metadata": {},
   "outputs": [],
   "source": [
    "check_list_research = df_research.groupby(['Category','Year'])['Rank'].apply(list).to_dict()"
   ]
  },
  {
   "cell_type": "code",
   "execution_count": 160,
   "metadata": {},
   "outputs": [
    {
     "data": {
      "text/plain": [
       "[{'Top Environment Think Tanks': [66, 67, 68, 69, 70]},\n",
       " {'Top International Economics Think Tanks': [84, 85]},\n",
       " {'Top Science and Technology Think Tanks': [69, 70]}]"
      ]
     },
     "execution_count": 160,
     "metadata": {},
     "output_type": "execute_result"
    }
   ],
   "source": [
    "check_values"
   ]
  },
  {
   "cell_type": "code",
   "execution_count": 161,
   "metadata": {},
   "outputs": [],
   "source": [
    "#Delete commas and quotationsmarks:\n",
    "df_research['Think Tank'] = df_research['Think Tank'].str.strip(\",\")\n",
    "df_research['Think Tank'] = df_research['Think Tank'].str.strip('\"')"
   ]
  },
  {
   "cell_type": "markdown",
   "metadata": {},
   "source": [
    "## Special Categories"
   ]
  },
  {
   "cell_type": "code",
   "execution_count": 162,
   "metadata": {},
   "outputs": [],
   "source": [
    "check_list_special = df_special.groupby(['Category','Year'])['Rank'].apply(list).to_dict()"
   ]
  },
  {
   "cell_type": "code",
   "execution_count": 163,
   "metadata": {},
   "outputs": [],
   "source": [
    "##Run missing_numbers function on the dictionary. Create new list with only those Categories that entail missing numbers\n",
    "check_values = []\n",
    "for key,value in check_list_special.items():\n",
    "    check = missing_numbers(value)\n",
    "    if check:\n",
    "        dicts = {key:check}\n",
    "        check_values.append(dicts)"
   ]
  },
  {
   "cell_type": "code",
   "execution_count": 164,
   "metadata": {},
   "outputs": [
    {
     "data": {
      "text/plain": [
       "[{('Best Government Affiliated Think Tanks', 2012): [15]},\n",
       " {('Best Policy Study/Report Produced by a Think Tank (2013-2014)',\n",
       "   2014): [31]},\n",
       " {('Best Quality Assurance and Integrity Policies and Procedures',\n",
       "   2018): [39]},\n",
       " {('Best Use of Social Media and Networks', 2016): [50]},\n",
       " {('Best Use of Social Networks', 2013): [42]},\n",
       " {('Best Use of Social Networks', 2015): [48]},\n",
       " {('Think Tanks with the Most Significant Impact on Public Policy',\n",
       "   2018): [9]}]"
      ]
     },
     "execution_count": 164,
     "metadata": {},
     "output_type": "execute_result"
    }
   ],
   "source": [
    "check_values"
   ]
  },
  {
   "cell_type": "code",
   "execution_count": 167,
   "metadata": {},
   "outputs": [],
   "source": [
    "#Delete commas and quotationsmarks:\n",
    "#df_regions['Think Tank'] = df_regions['Think Tank'].map(lambda x: x.lstrip(',').rstrip('\"'))\n",
    "df_special['Think tank'] = df_special['Think tank'].str.strip(\",\")\n",
    "df_special['Think tank'] = df_special['Think tank'].str.strip('\"')"
   ]
  },
  {
   "cell_type": "markdown",
   "metadata": {},
   "source": [
    "## Export Results"
   ]
  },
  {
   "cell_type": "code",
   "execution_count": 169,
   "metadata": {},
   "outputs": [],
   "source": [
    "writer = pd.ExcelWriter('nocommas.xlsx', engine='xlsxwriter')\n",
    "df_regions.to_excel(writer,sheet_name='regions')\n",
    "df_research.to_excel(writer,sheet_name='research_areas')\n",
    "df_special.to_excel(writer,sheet_name='special_categories')\n",
    "\n",
    "writer.save()"
   ]
  },
  {
   "cell_type": "code",
   "execution_count": null,
   "metadata": {},
   "outputs": [],
   "source": []
  },
  {
   "cell_type": "code",
   "execution_count": null,
   "metadata": {},
   "outputs": [],
   "source": []
  }
 ],
 "metadata": {
  "kernelspec": {
   "display_name": "Python 3",
   "language": "python",
   "name": "python3"
  },
  "language_info": {
   "codemirror_mode": {
    "name": "ipython",
    "version": 3
   },
   "file_extension": ".py",
   "mimetype": "text/x-python",
   "name": "python",
   "nbconvert_exporter": "python",
   "pygments_lexer": "ipython3",
   "version": "3.7.4"
  }
 },
 "nbformat": 4,
 "nbformat_minor": 4
}
