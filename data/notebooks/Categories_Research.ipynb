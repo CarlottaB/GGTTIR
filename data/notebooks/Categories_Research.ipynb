{
 "cells": [
  {
   "cell_type": "code",
   "execution_count": 1,
   "metadata": {},
   "outputs": [],
   "source": [
    "import pandas as pd\n",
    "import re\n",
    "import xlsxwriter"
   ]
  },
  {
   "cell_type": "code",
   "execution_count": 14,
   "metadata": {},
   "outputs": [],
   "source": [
    "file_path = '/Users/carlottabonn/Documents/GitHub/GGTTIR/data/data_base/zwischenstaende/Neuste_Version2.xlsx'"
   ]
  },
  {
   "cell_type": "code",
   "execution_count": 15,
   "metadata": {},
   "outputs": [],
   "source": [
    "df_regions = pd.read_excel(file_path,sheet_name='regions')\n",
    "df_special = pd.read_excel(file_path,sheet_name='special_categories')\n",
    "df_research = pd.read_excel(file_path,sheet_name='research_areas')"
   ]
  },
  {
   "cell_type": "markdown",
   "metadata": {},
   "source": [
    "## Research"
   ]
  },
  {
   "cell_type": "code",
   "execution_count": 16,
   "metadata": {},
   "outputs": [],
   "source": [
    "df_research['Category']=df_research['Category'].str.replace('Top 10 Domestic Economic Policy Think Tanks','Top Domestic Economic Policy Think Tanks')\n",
    "df_research['Category']=df_research['Category'].str.replace('Top 10 Environment Think Tanks','Top Environment Policy Think Tanks')\n",
    "df_research['Category']=df_research['Category'].str.replace('Top 10 Health Policy Think Tanks','Top Health Policy Think Tanks')\n",
    "df_research['Category']=df_research['Category'].str.replace('Top 10 International Development','Top International Development Policy Think Tanks')\n",
    "df_research['Category']=df_research['Category'].str.replace('Top 10 International Development Think Tanks','Top International Development Policy Think Tanks')\n",
    "df_research['Category']=df_research['Category'].str.replace('Top 10 International Economic Policy Think Tanks','Top International Economics Policy Think Tanks')\n",
    "df_research['Category']=df_research['Category'].str.replace('Top 10 Science and Technology Think Tanks','Top Science and Technology Policy Think Tanks')\n",
    "df_research['Category']=df_research['Category'].str.replace('Top 10 Security and International Affairs Think Tanks','Top Security and International Affairs Think Tanks')\n",
    "df_research['Category']=df_research['Category'].str.replace('Top 10 Social Policy Think Tanks','Top Social Policy Think Tanks')\n",
    "df_research['Category']=df_research['Category'].str.replace('Top 11 Environment Think Tanks','Top Environment Policy Think Tanks')\n",
    "df_research['Category']=df_research['Category'].str.replace('Top 12 International Economic Policy Think Tanks','Top International Economics Policy Think Tanks')\n",
    "df_research['Category']=df_research['Category'].str.replace('Top 15 Health Policy Think Tanks','Top Health Policy Think Tanks')\n",
    "df_research['Category']=df_research['Category'].str.replace('Top 20 Energy and Resource Policy Think Tanks','Top Energy and Resource Policy Think Tanks')\n",
    "df_research['Category']=df_research['Category'].str.replace('Top 20 Transparency and Good Governance Think Tanks','Top Transparency and Good Governance Think Tanks')\n",
    "df_research['Category']=df_research['Category'].str.replace('Top 25 Domestic Economic Policy Think Tanks','Top Domestic Economic Policy Think Tanks')\n",
    "df_research['Category']=df_research['Category'].str.replace('Top 25 Environment Think Tanks','Top Environment Policy Think Tanks')\n",
    "df_research['Category']=df_research['Category'].str.replace('Top 25 International Development Think Tank','Top International Development Policy Think Tanks')\n",
    "df_research['Category']=df_research['Category'].str.replace('Top 25 International Economic Policy Think Tanks','Top International Economics Policy Think Tanks')\n",
    "df_research['Category']=df_research['Category'].str.replace('Top 25 Science and Technology Think Tanks','Top Science and Technology Policy Think Tanks')\n",
    "df_research['Category']=df_research['Category'].str.replace('Top 25 Security and International Affairs Think Tanks','Top Security and International Affairs Think Tanks')\n",
    "df_research['Category']=df_research['Category'].str.replace('Top 25 Social Policy Think Tanks','Top Social Policy Think Tanks')\n",
    "df_research['Category']=df_research['Category'].str.replace('Top 30 Health Policy Think Tanks','Top Health Policy Think Tanks')\n",
    "df_research['Category']=df_research['Category'].str.replace('Top 30 Transparency and Good Governance Think Tanks','Top Transparency and Good Governance Think Tanks')\n",
    "df_research['Category']=df_research['Category'].str.replace('Top 50 International Economic Policy Think Tanks','Top International Economics Policy Think Tanks')\n",
    "df_research['Category']=df_research['Category'].str.replace('Top 50 Science and Technology Think Tanks','Top Science and Technology Policy Think Tanks')\n",
    "df_research['Category']=df_research['Category'].str.replace('Top 50 Social Policy Think Tanks','Top Social Policy Think Tanks')\n",
    "df_research['Category']=df_research['Category'].str.replace('Top 70 Environment Think Tanks','Top Environment Policy Think Tanks')\n",
    "df_research['Category']=df_research['Category'].str.replace('Top 70 Security and International Affairs Think Tanks','Top Security and International Affairs Think Tanks')\n",
    "df_research['Category']=df_research['Category'].str.replace('Top 80 Domestic Economic Policy Think Tanks','Top Domestic Economic Policy Think Tanks')\n",
    "df_research['Category']=df_research['Category'].str.replace('Top 80 International Development Think Tanks','Top International Development Policy Think Tanks')\n",
    "df_research['Category']=df_research['Category'].str.replace('Top Defense and National Security','Top Defense and National Security Think Tanks')\n",
    "df_research['Category']=df_research['Category'].str.replace('Top Environment Think Tanks','Top Environment Policy Think Tanks')\n",
    "df_research['Category']=df_research['Category'].str.replace('Top Fifty Security and International Affairs Think Tanks','Top Security and International Affairs Think Tanks')\n",
    "df_research['Category']=df_research['Category'].str.replace('Top International Development Think Tanks','Top International Development Policy Think Tanks')\n",
    "df_research['Category']=df_research['Category'].str.replace('Top International Economic Policy Think Tanks','Top International Economics Policy Think Tanks')\n",
    "df_research['Category']=df_research['Category'].str.replace('Top International Economics Think Tanks','Top International Economics Policy Think Tanks')\n",
    "df_research['Category']=df_research['Category'].str.replace('Top Science and Technology Think Tanks','Top Science and Technology Policy Think Tanks')\n",
    "df_research['Category']=df_research['Category'].str.replace('Top Thirty Domestic Economic Policy Think Tanks','Top Domestic Economic Policy Think Tanks')\n",
    "df_research['Category']=df_research['Category'].str.replace('Top Thirty Environment Think Tanks','Top Environment Policy Think Tanks')\n",
    "df_research['Category']=df_research['Category'].str.replace('Top Thirty Health Policy Think Tanks','Top Health Policy Think Tanks')\n",
    "df_research['Category']=df_research['Category'].str.replace('Top Thirty International Development Think Tanks','Top International Development Policy Think Tanks')\n",
    "df_research['Category']=df_research['Category'].str.replace('Top Thirty International Economic Policy Think Tanks','Top International Economics Policy Think Tanks')\n",
    "df_research['Category']=df_research['Category'].str.replace('Top Thirty Science and Technology Think Tanks','Top Science and Technology Policy Think Tanks')\n",
    "df_research['Category']=df_research['Category'].str.replace('Top Thirty Social Policy Think Tanks','Top Social Policy Think Tanks')\n",
    "df_research['Category']=df_research['Category'].str.replace('Top Thirty Transparency and Good Governance Think Tanks','Top Transparency and Good Governance Think Tanks')"
   ]
  },
  {
   "cell_type": "code",
   "execution_count": 17,
   "metadata": {},
   "outputs": [],
   "source": [
    "writer = pd.ExcelWriter('Neue_Kategorien_research.xlsx', engine='xlsxwriter')\n",
    "df_research.to_excel(writer,sheet_name='research')\n",
    "writer.save()"
   ]
  },
  {
   "cell_type": "markdown",
   "metadata": {},
   "source": [
    "## Regions "
   ]
  },
  {
   "cell_type": "code",
   "execution_count": 18,
   "metadata": {},
   "outputs": [],
   "source": [
    "df_regions['Category']=df_regions['Category'].str.replace('Top 10 Think Tanks â€“ United States','Top Think Tanks in the United States')\n",
    "df_regions['Category']=df_regions['Category'].str.replace('Top 100 Think Tanks â€“ Worldwide (Non-US)', 'Top Think Tanks worldwide (non-US)')\n",
    "df_regions['Category']=df_regions['Category'].str.replace('Top 150 Think Tanks â€“ Worldwide (US and Non-US)', 'Top Think Tanks Worldwide (US and non-US)')\n",
    "df_regions['Category']=df_regions['Category'].str.replace('Top 30 Think Tanks United States','Top Think Tanks in the United States')\n",
    "df_regions['Category']=df_regions['Category'].str.replace('Top 25 Central and Eastern European Think Tanks', 'Top Think Tanks in Central and Eastern Europe')\n",
    "df_regions['Category']=df_regions['Category'].str.replace('Top 25 Think Tanks in Middle East and North Africa','Top Think Tanks in Middle East and North Africa(MENA)')\n",
    "df_regions['Category']=df_regions['Category'].str.replace('Top 25 Think Tanks in Western Europe', 'Top Think Tanks in Western Europe')\n",
    "df_regions['Category']=df_regions['Category'].str.replace('Top 25 Think Tanks â€“ Worldwide (US and Non-US)','Top Think Tanks Worldwide (US and non-US)')\n",
    "df_regions['Category']=df_regions['Category'].str.replace('Top 30 Central and Eastern European Think Tanks', 'Top Think Tanks in Central and Eastern Europe')\n",
    "df_regions['Category']=df_regions['Category'].str.replace('Top 30 Think Tanks in Mexico and Canada', 'Top Think Tanks in Mexico and Canada')\n",
    "df_regions['Category']=df_regions['Category'].str.replace('Top 40 Think Tanks in Asia', 'Top Think Tanks in Asia')\n",
    "df_regions['Category']=df_regions['Category'].str.replace('Top 25 Think Tanks in Asia', 'Top Think Tanks in Asia')\n",
    "df_regions['Category']=df_regions['Category'].str.replace('Top 40 Think Tanks in Western Europe', 'Top Think Tanks in Western Europe')\n",
    "df_regions['Category']=df_regions['Category'].str.replace('Top 45 Think Tanks in China, India, Japan, and the Republic of Korea', 'Top Think Tanks in China, India, Japan, and the Republic of Korea')\n",
    "df_regions['Category']=df_regions['Category'].str.replace('Top 45 Think Tanks in Middle East and North Africa (MENA)','Top Think Tanks in Middle East and North Africa(MENA)')\n",
    "df_regions['Category']=df_regions['Category'].str.replace('Top 50 Think Tanks â€“ United States','Top Think Tanks in the United States')\n",
    "df_regions['Category']=df_regions['Category'].str.replace('Top 50 Think Tanks â€“ Worldwide (Non-US)', 'Top Think Tanks worldwide (non-US)')\n",
    "df_regions['Category']=df_regions['Category'].str.replace('Top 50 Think Tanks--United States','Top Think Tanks in the United States') \n",
    "df_regions['Category']=df_regions['Category'].str.replace('Top 55 Think Tanks in the United States','Top Think Tanks in the United States')\n",
    "df_regions['Category']=df_regions['Category'].str.replace('Top 60 Think Tanks in Central and Eastern Europe', 'Top Think Tanks in Central and Eastern Europe')\n",
    "df_regions['Category']=df_regions['Category'].str.replace('Top 75 Think Tanks in Western Europe','Top Think Tanks in Western Europe')\n",
    "df_regions['Category']=df_regions['Category'].str.replace('Top Fifty Think Tanks in Western Europe','Top Think Tanks in Western Europe')\n",
    "df_regions['Category']=df_regions['Category'].str.replace('Top Fifty Think Tanks in the United States','Top Think Tanks in the United States')\n",
    "df_regions['Category']=df_regions['Category'].str.replace('Top Fifty Think Tanks â€“ Worldwide (Non-US)','Top Think Tanks worldwide (non-US)')\n",
    "df_regions['Category']=df_regions['Category'].str.replace('Top Think Tanks Worldwide (Non-US)','Top Think Tanks worldwide (non-US)')\n",
    "df_regions['Category']=df_regions['Category'].str.replace('Top Think Tanks Worldwide (US and non- US)','Top Think Tanks Worldwide (US and non-US)')\n",
    "df_regions['Category']=df_regions['Category'].str.replace('Top Think Tanks Worldwide (non-US)','Top Think Tanks worldwide (non-US)')\n",
    "df_regions['Category']=df_regions['Category'].str.replace('Top Think Tanks in China, India, Japan,and the Republic of Korea', 'Top Think Tanks in China, India, Japan, and the Republic of Korea')\n",
    "df_regions['Category']=df_regions['Category'].str.replace('Top Think Tanks in United States','Top Think Tanks in the United States')\n",
    "df_regions['Category']=df_regions['Category'].str.replace('Top Think Tanks in the Middle East and North Africa (MENA)','Top Think Tanks in Middle East and North Africa(MENA)')\n",
    "df_regions['Category']=df_regions['Category'].str.replace('Top Thirty Think Tanks in Asia','Top Think Tanks in Asia')\n",
    "df_regions['Category']=df_regions['Category'].str.replace('Top Thirty Think Tanks in Central and Eastern Europe','Top Think Tanks in Central and Eastern Europe')\n",
    "df_regions['Category']=df_regions['Category'].str.replace('Top Thirty Think Tanks in Sub-Saharan Africa','Top Think Tanks in Sub-Saharan Africa')\n",
    "df_regions['Category']=df_regions['Category'].str.replace('Top Thirty Think Tanks in the Middle East and North Africa (MENA)','Top Think Tanks in Middle East and North Africa(MENA)')\n",
    "df_regions['Category']=df_regions['Category'].str.replace('Top Thirty Think Tanks â€“ Worldwide (US and Non-US)', 'Top Think Tanks Worldwide (US and non-US)')"
   ]
  },
  {
   "cell_type": "code",
   "execution_count": 19,
   "metadata": {},
   "outputs": [
    {
     "data": {
      "text/html": [
       "<div>\n",
       "<style scoped>\n",
       "    .dataframe tbody tr th:only-of-type {\n",
       "        vertical-align: middle;\n",
       "    }\n",
       "\n",
       "    .dataframe tbody tr th {\n",
       "        vertical-align: top;\n",
       "    }\n",
       "\n",
       "    .dataframe thead th {\n",
       "        text-align: right;\n",
       "    }\n",
       "</style>\n",
       "<table border=\"1\" class=\"dataframe\">\n",
       "  <thead>\n",
       "    <tr style=\"text-align: right;\">\n",
       "      <th></th>\n",
       "      <th>Rank</th>\n",
       "      <th>Think Tank</th>\n",
       "      <th>Category</th>\n",
       "      <th>Year</th>\n",
       "      <th>Country</th>\n",
       "    </tr>\n",
       "  </thead>\n",
       "  <tbody>\n",
       "    <tr>\n",
       "      <th>0</th>\n",
       "      <td>1</td>\n",
       "      <td>brookings institution (united states)</td>\n",
       "      <td>Top Think Tanks in the United States</td>\n",
       "      <td>2008</td>\n",
       "      <td>United States</td>\n",
       "    </tr>\n",
       "    <tr>\n",
       "      <th>1</th>\n",
       "      <td>2</td>\n",
       "      <td>council on foreign relations</td>\n",
       "      <td>Top Think Tanks in the United States</td>\n",
       "      <td>2008</td>\n",
       "      <td>United States</td>\n",
       "    </tr>\n",
       "    <tr>\n",
       "      <th>2</th>\n",
       "      <td>3</td>\n",
       "      <td>carnegie endowment for international peace</td>\n",
       "      <td>Top Think Tanks in the United States</td>\n",
       "      <td>2008</td>\n",
       "      <td>United States</td>\n",
       "    </tr>\n",
       "    <tr>\n",
       "      <th>3</th>\n",
       "      <td>4</td>\n",
       "      <td>rand corporation</td>\n",
       "      <td>Top Think Tanks in the United States</td>\n",
       "      <td>2008</td>\n",
       "      <td>United States</td>\n",
       "    </tr>\n",
       "    <tr>\n",
       "      <th>4</th>\n",
       "      <td>5</td>\n",
       "      <td>heritage foundation</td>\n",
       "      <td>Top Think Tanks in the United States</td>\n",
       "      <td>2008</td>\n",
       "      <td>United States</td>\n",
       "    </tr>\n",
       "  </tbody>\n",
       "</table>\n",
       "</div>"
      ],
      "text/plain": [
       "   Rank                                  Think Tank  \\\n",
       "0     1       brookings institution (united states)   \n",
       "1     2                council on foreign relations   \n",
       "2     3  carnegie endowment for international peace   \n",
       "3     4                            rand corporation   \n",
       "4     5                         heritage foundation   \n",
       "\n",
       "                               Category  Year        Country  \n",
       "0  Top Think Tanks in the United States  2008  United States  \n",
       "1  Top Think Tanks in the United States  2008  United States  \n",
       "2  Top Think Tanks in the United States  2008  United States  \n",
       "3  Top Think Tanks in the United States  2008  United States  \n",
       "4  Top Think Tanks in the United States  2008  United States  "
      ]
     },
     "execution_count": 19,
     "metadata": {},
     "output_type": "execute_result"
    }
   ],
   "source": [
    "df_regions.head()"
   ]
  },
  {
   "cell_type": "code",
   "execution_count": 20,
   "metadata": {},
   "outputs": [],
   "source": [
    "writer = pd.ExcelWriter('Regions.xlsx', engine='xlsxwriter')\n",
    "df_regions.to_excel(writer,sheet_name='regions')\n",
    "writer.save()"
   ]
  },
  {
   "cell_type": "markdown",
   "metadata": {},
   "source": [
    "## Special Categories"
   ]
  },
  {
   "cell_type": "code",
   "execution_count": null,
   "metadata": {},
   "outputs": [],
   "source": [
    "df_special['Category']= df_special['Category'].str.replace(',Best Think Tanks with Political Party Affiliation','Best Think Tanks with a Political Party Affiliation')\n",
    "df_special['Category']=df_special['Category'].str.replace('Best Advocay Campaign','Best Advocacy Campaign')\n",
    "df_special['Category']=df_special['Category'].str.replace('Best External Relations/Public Engagement Program','Think Tanks with the Best External Relations/Public Engagement Program')\n",
    "df_special['Category']=df_special['Category'].str.replace('Best For Profit Think Tanks','Best for Profit Think Tanks')\n",
    "df_special['Category']=df_special['Category'].str.replace('Best Institutional Collaboration Involving Two or More Think','Best Institutional Collaboration Involving Two or More Think Tanks')\n",
    "df_special['Category']=df_special['Category'].str.replace\n",
    "df_special['Category']=df_special['Category'].str.replace\n",
    "df_special['Category']=df_special['Category'].str.replace\n",
    "df_special['Category']=df_special['Category'].str.replace\n",
    "df_special['Category']=df_special['Category'].str.replace\n",
    "df_special['Category']=df_special['Category'].str.replace\n",
    "df_special['Category']=df_special['Category'].str.replace\n",
    "df_special['Category']=df_special['Category'].str.replace\n",
    "df_special['Category']=df_special['Category'].str.replace\n",
    "df_special['Category']=df_special['Category'].str.replace\n",
    "df_special['Category']=df_special['Category'].str.replace\n",
    "df_special['Category']=df_special['Category'].str.replace\n",
    "df_special['Category']=df_special['Category'].str.replace\n",
    "df_special['Category']=df_special['Category'].str.replace\n",
    "df_special['Category']=df_special['Category'].str.replace\n",
    "df_special['Category']=df_special['Category'].str.replace\n",
    "df_special['Category']=df_special['Category'].str.replace\n",
    "df_special['Category']=df_special['Category'].str.replace\n",
    "df_special['Category']=df_special['Category'].str.replace\n",
    "df_special['Category']=df_special['Category'].str.replace\n",
    "\n"
   ]
  },
  {
   "cell_type": "code",
   "execution_count": null,
   "metadata": {},
   "outputs": [],
   "source": []
  },
  {
   "cell_type": "code",
   "execution_count": null,
   "metadata": {},
   "outputs": [],
   "source": []
  }
 ],
 "metadata": {
  "kernelspec": {
   "display_name": "Python 3",
   "language": "python",
   "name": "python3"
  },
  "language_info": {
   "codemirror_mode": {
    "name": "ipython",
    "version": 3
   },
   "file_extension": ".py",
   "mimetype": "text/x-python",
   "name": "python",
   "nbconvert_exporter": "python",
   "pygments_lexer": "ipython3",
   "version": "3.7.4"
  }
 },
 "nbformat": 4,
 "nbformat_minor": 4
}
