{
 "cells": [
  {
   "cell_type": "markdown",
   "metadata": {},
   "source": [
    "## new GGTTIR analsis script 26 september 2019"
   ]
  },
  {
   "cell_type": "markdown",
   "metadata": {},
   "source": [
    "### import libraries"
   ]
  },
  {
   "cell_type": "code",
   "execution_count": 2,
   "metadata": {},
   "outputs": [],
   "source": [
    "import pandas as pd\n",
    "import re"
   ]
  },
  {
   "cell_type": "code",
   "execution_count": 26,
   "metadata": {},
   "outputs": [],
   "source": [
    "#functions:\n",
    "#excluding parenthesis\n",
    "def drop_parenthesis(thinktank):\n",
    "    parenthesis = re.findall('\\(.*?\\)',thinktank)\n",
    "    for p in parenthesis:\n",
    "        thinktank = thinktank.replace(p,'')\n",
    "        thinktank = thinktank.strip()\n",
    "    return thinktank, parenthesis\n",
    "\n",
    "#count years\n",
    "def count_years(year_list):\n",
    "    return len(year_list)\n"
   ]
  },
  {
   "cell_type": "code",
   "execution_count": 33,
   "metadata": {},
   "outputs": [],
   "source": [
    "def get_first_last(year_list):\n",
    "    start = int(year_list[0])\n",
    "    \n",
    "    end = int(year_list[-1])\n",
    "    return start,end"
   ]
  },
  {
   "cell_type": "markdown",
   "metadata": {},
   "source": [
    "#### import files:"
   ]
  },
  {
   "cell_type": "code",
   "execution_count": 4,
   "metadata": {},
   "outputs": [],
   "source": [
    "file_path = '../mcgann_ggttir_aktuell.xlsx'"
   ]
  },
  {
   "cell_type": "code",
   "execution_count": 5,
   "metadata": {},
   "outputs": [],
   "source": [
    "df_regions = pd.read_excel(file_path,sheet_name='regions')\n",
    "df_special_category = pd.read_excel(file_path,sheet_name='special_category')\n",
    "df_reserch_area = pd.read_excel(file_path,sheet_name='research_area')"
   ]
  },
  {
   "cell_type": "code",
   "execution_count": 6,
   "metadata": {},
   "outputs": [],
   "source": [
    "#extract parenthesis from region df:\n",
    "df_regions['thinktanks_clean'],  df_regions['parenthesis']= zip(*df_regions['clean_think_tank_name'].apply(drop_parenthesis))\n",
    "\n",
    "#extract parenthesis from region df:\n",
    "df_special_category['thinktanks_clean'],  df_special_category['parenthesis']= zip(*df_special_category['clean_think_tank_name'].apply(drop_parenthesis))\n",
    "\n",
    "#extract parenthesis from region df:\n",
    "df_reserch_area['thinktanks_clean'],  df_reserch_area['parenthesis']= zip(*df_reserch_area['clean_think_tank_name'].apply(drop_parenthesis))"
   ]
  },
  {
   "cell_type": "code",
   "execution_count": 7,
   "metadata": {},
   "outputs": [
    {
     "data": {
      "text/html": [
       "<div>\n",
       "<style scoped>\n",
       "    .dataframe tbody tr th:only-of-type {\n",
       "        vertical-align: middle;\n",
       "    }\n",
       "\n",
       "    .dataframe tbody tr th {\n",
       "        vertical-align: top;\n",
       "    }\n",
       "\n",
       "    .dataframe thead th {\n",
       "        text-align: right;\n",
       "    }\n",
       "</style>\n",
       "<table border=\"1\" class=\"dataframe\">\n",
       "  <thead>\n",
       "    <tr style=\"text-align: right;\">\n",
       "      <th></th>\n",
       "      <th>Rank</th>\n",
       "      <th>Think Tank</th>\n",
       "      <th>clean_think_tank_name</th>\n",
       "      <th>Category</th>\n",
       "      <th>Year</th>\n",
       "      <th>Country</th>\n",
       "      <th>thinktanks_clean</th>\n",
       "      <th>parenthesis</th>\n",
       "    </tr>\n",
       "  </thead>\n",
       "  <tbody>\n",
       "    <tr>\n",
       "      <th>0</th>\n",
       "      <td>1</td>\n",
       "      <td>brookings institution (united states)</td>\n",
       "      <td>brookings institution (united states)</td>\n",
       "      <td>Top 30 Think Tanks United States</td>\n",
       "      <td>2008</td>\n",
       "      <td>United States</td>\n",
       "      <td>brookings institution</td>\n",
       "      <td>[(united states)]</td>\n",
       "    </tr>\n",
       "    <tr>\n",
       "      <th>1</th>\n",
       "      <td>2</td>\n",
       "      <td>council on foreign relations</td>\n",
       "      <td>council on foreign relations</td>\n",
       "      <td>Top 30 Think Tanks United States</td>\n",
       "      <td>2008</td>\n",
       "      <td>United States</td>\n",
       "      <td>council on foreign relations</td>\n",
       "      <td>[]</td>\n",
       "    </tr>\n",
       "  </tbody>\n",
       "</table>\n",
       "</div>"
      ],
      "text/plain": [
       "   Rank                             Think Tank  \\\n",
       "0     1  brookings institution (united states)   \n",
       "1     2           council on foreign relations   \n",
       "\n",
       "                   clean_think_tank_name                          Category  \\\n",
       "0  brookings institution (united states)  Top 30 Think Tanks United States   \n",
       "1           council on foreign relations  Top 30 Think Tanks United States   \n",
       "\n",
       "   Year        Country              thinktanks_clean        parenthesis  \n",
       "0  2008  United States         brookings institution  [(united states)]  \n",
       "1  2008  United States  council on foreign relations                 []  "
      ]
     },
     "execution_count": 7,
     "metadata": {},
     "output_type": "execute_result"
    }
   ],
   "source": [
    "df_regions.head(2)"
   ]
  },
  {
   "cell_type": "code",
   "execution_count": 8,
   "metadata": {},
   "outputs": [
    {
     "data": {
      "text/html": [
       "<div>\n",
       "<style scoped>\n",
       "    .dataframe tbody tr th:only-of-type {\n",
       "        vertical-align: middle;\n",
       "    }\n",
       "\n",
       "    .dataframe tbody tr th {\n",
       "        vertical-align: top;\n",
       "    }\n",
       "\n",
       "    .dataframe thead th {\n",
       "        text-align: right;\n",
       "    }\n",
       "</style>\n",
       "<table border=\"1\" class=\"dataframe\">\n",
       "  <thead>\n",
       "    <tr style=\"text-align: right;\">\n",
       "      <th></th>\n",
       "      <th>Rank</th>\n",
       "      <th>Think tank</th>\n",
       "      <th>clean_think_tank_name</th>\n",
       "      <th>Category</th>\n",
       "      <th>Year</th>\n",
       "      <th>country</th>\n",
       "      <th>thinktanks_clean</th>\n",
       "      <th>parenthesis</th>\n",
       "    </tr>\n",
       "  </thead>\n",
       "  <tbody>\n",
       "    <tr>\n",
       "      <th>0</th>\n",
       "      <td>1.0</td>\n",
       "      <td>cato institute  usa</td>\n",
       "      <td>cato institute (usa)</td>\n",
       "      <td>Think Tanks with the Most Innovative Policy/Id...</td>\n",
       "      <td>2008.0</td>\n",
       "      <td>United States</td>\n",
       "      <td>cato institute</td>\n",
       "      <td>[(usa)]</td>\n",
       "    </tr>\n",
       "    <tr>\n",
       "      <th>1</th>\n",
       "      <td>2.0</td>\n",
       "      <td>brookings institute  usa</td>\n",
       "      <td>brookings institute  usa</td>\n",
       "      <td>Think Tanks with the Most Innovative Policy/Id...</td>\n",
       "      <td>2008.0</td>\n",
       "      <td>United States</td>\n",
       "      <td>brookings institute  usa</td>\n",
       "      <td>[]</td>\n",
       "    </tr>\n",
       "  </tbody>\n",
       "</table>\n",
       "</div>"
      ],
      "text/plain": [
       "   Rank                Think tank     clean_think_tank_name  \\\n",
       "0   1.0       cato institute  usa      cato institute (usa)   \n",
       "1   2.0  brookings institute  usa  brookings institute  usa   \n",
       "\n",
       "                                            Category    Year        country  \\\n",
       "0  Think Tanks with the Most Innovative Policy/Id...  2008.0  United States   \n",
       "1  Think Tanks with the Most Innovative Policy/Id...  2008.0  United States   \n",
       "\n",
       "           thinktanks_clean parenthesis  \n",
       "0            cato institute     [(usa)]  \n",
       "1  brookings institute  usa          []  "
      ]
     },
     "execution_count": 8,
     "metadata": {},
     "output_type": "execute_result"
    }
   ],
   "source": [
    "df_special_category.head(2)"
   ]
  },
  {
   "cell_type": "code",
   "execution_count": 9,
   "metadata": {},
   "outputs": [
    {
     "data": {
      "text/html": [
       "<div>\n",
       "<style scoped>\n",
       "    .dataframe tbody tr th:only-of-type {\n",
       "        vertical-align: middle;\n",
       "    }\n",
       "\n",
       "    .dataframe tbody tr th {\n",
       "        vertical-align: top;\n",
       "    }\n",
       "\n",
       "    .dataframe thead th {\n",
       "        text-align: right;\n",
       "    }\n",
       "</style>\n",
       "<table border=\"1\" class=\"dataframe\">\n",
       "  <thead>\n",
       "    <tr style=\"text-align: right;\">\n",
       "      <th></th>\n",
       "      <th>Rank</th>\n",
       "      <th>Think tank</th>\n",
       "      <th>clean_think_tank_name</th>\n",
       "      <th>Category</th>\n",
       "      <th>Year</th>\n",
       "      <th>country</th>\n",
       "      <th>thinktanks_clean</th>\n",
       "      <th>parenthesis</th>\n",
       "    </tr>\n",
       "  </thead>\n",
       "  <tbody>\n",
       "    <tr>\n",
       "      <th>0</th>\n",
       "      <td>1.0</td>\n",
       "      <td>cato institute  usa</td>\n",
       "      <td>cato institute (usa)</td>\n",
       "      <td>Think Tanks with the Most Innovative Policy/Id...</td>\n",
       "      <td>2008.0</td>\n",
       "      <td>United States</td>\n",
       "      <td>cato institute</td>\n",
       "      <td>[(usa)]</td>\n",
       "    </tr>\n",
       "    <tr>\n",
       "      <th>1</th>\n",
       "      <td>2.0</td>\n",
       "      <td>brookings institute  usa</td>\n",
       "      <td>brookings institute  usa</td>\n",
       "      <td>Think Tanks with the Most Innovative Policy/Id...</td>\n",
       "      <td>2008.0</td>\n",
       "      <td>United States</td>\n",
       "      <td>brookings institute  usa</td>\n",
       "      <td>[]</td>\n",
       "    </tr>\n",
       "  </tbody>\n",
       "</table>\n",
       "</div>"
      ],
      "text/plain": [
       "   Rank                Think tank     clean_think_tank_name  \\\n",
       "0   1.0       cato institute  usa      cato institute (usa)   \n",
       "1   2.0  brookings institute  usa  brookings institute  usa   \n",
       "\n",
       "                                            Category    Year        country  \\\n",
       "0  Think Tanks with the Most Innovative Policy/Id...  2008.0  United States   \n",
       "1  Think Tanks with the Most Innovative Policy/Id...  2008.0  United States   \n",
       "\n",
       "           thinktanks_clean parenthesis  \n",
       "0            cato institute     [(usa)]  \n",
       "1  brookings institute  usa          []  "
      ]
     },
     "execution_count": 9,
     "metadata": {},
     "output_type": "execute_result"
    }
   ],
   "source": [
    "df_special_category.head(2)"
   ]
  },
  {
   "cell_type": "code",
   "execution_count": null,
   "metadata": {},
   "outputs": [],
   "source": []
  },
  {
   "cell_type": "markdown",
   "metadata": {},
   "source": [
    "## 2. Data Analysis"
   ]
  },
  {
   "cell_type": "markdown",
   "metadata": {},
   "source": [
    "## 2.1 Categories over time:"
   ]
  },
  {
   "cell_type": "code",
   "execution_count": 10,
   "metadata": {},
   "outputs": [],
   "source": [
    "df_sc_categories = df_special_category.groupby(['Category'])['Year'].unique()\n",
    "df_sc_categories = df_sc_categories.to_frame().reset_index()"
   ]
  },
  {
   "cell_type": "code",
   "execution_count": 34,
   "metadata": {},
   "outputs": [],
   "source": [
    "df_sc_categories['nr_of_years'] = df_sc_categories['Year'].apply(count_years) \n",
    "df_sc_categories['from-till'] = df_sc_categories['Year'].apply(get_first_last)"
   ]
  },
  {
   "cell_type": "code",
   "execution_count": 35,
   "metadata": {},
   "outputs": [
    {
     "data": {
      "text/html": [
       "<div>\n",
       "<style scoped>\n",
       "    .dataframe tbody tr th:only-of-type {\n",
       "        vertical-align: middle;\n",
       "    }\n",
       "\n",
       "    .dataframe tbody tr th {\n",
       "        vertical-align: top;\n",
       "    }\n",
       "\n",
       "    .dataframe thead th {\n",
       "        text-align: right;\n",
       "    }\n",
       "</style>\n",
       "<table border=\"1\" class=\"dataframe\">\n",
       "  <thead>\n",
       "    <tr style=\"text-align: right;\">\n",
       "      <th></th>\n",
       "      <th>Category</th>\n",
       "      <th>Year</th>\n",
       "      <th>nr_of_years</th>\n",
       "      <th>from-till</th>\n",
       "    </tr>\n",
       "  </thead>\n",
       "  <tbody>\n",
       "    <tr>\n",
       "      <th>6</th>\n",
       "      <td>Best Government Affiliated Think Tanks</td>\n",
       "      <td>[2010.0, 2011.0, 2012.0, 2013.0, 2014.0, 2015....</td>\n",
       "      <td>9</td>\n",
       "      <td>(2010, 2018)</td>\n",
       "    </tr>\n",
       "    <tr>\n",
       "      <th>71</th>\n",
       "      <td>Think Tanks with the Most Innovative Policy Id...</td>\n",
       "      <td>[2011.0, 2012.0, 2013.0, 2014.0, 2015.0, 2016....</td>\n",
       "      <td>8</td>\n",
       "      <td>(2011, 2018)</td>\n",
       "    </tr>\n",
       "    <tr>\n",
       "      <th>73</th>\n",
       "      <td>Think Tanks with the Most Significant Impact o...</td>\n",
       "      <td>[2012.0, 2013.0, 2014.0, 2015.0, 2016.0, 2017....</td>\n",
       "      <td>7</td>\n",
       "      <td>(2012, 2018)</td>\n",
       "    </tr>\n",
       "    <tr>\n",
       "      <th>11</th>\n",
       "      <td>Best Managed Think Tanks</td>\n",
       "      <td>[2013.0, 2014.0, 2015.0, 2016.0, 2017.0, 2018.0]</td>\n",
       "      <td>6</td>\n",
       "      <td>(2013, 2018)</td>\n",
       "    </tr>\n",
       "    <tr>\n",
       "      <th>62</th>\n",
       "      <td>Think Tanks with the Best External Relations/P...</td>\n",
       "      <td>[2012.0, 2013.0, 2014.0, 2015.0, 2016.0, 2018.0]</td>\n",
       "      <td>6</td>\n",
       "      <td>(2012, 2018)</td>\n",
       "    </tr>\n",
       "  </tbody>\n",
       "</table>\n",
       "</div>"
      ],
      "text/plain": [
       "                                             Category  \\\n",
       "6              Best Government Affiliated Think Tanks   \n",
       "71  Think Tanks with the Most Innovative Policy Id...   \n",
       "73  Think Tanks with the Most Significant Impact o...   \n",
       "11                           Best Managed Think Tanks   \n",
       "62  Think Tanks with the Best External Relations/P...   \n",
       "\n",
       "                                                 Year  nr_of_years  \\\n",
       "6   [2010.0, 2011.0, 2012.0, 2013.0, 2014.0, 2015....            9   \n",
       "71  [2011.0, 2012.0, 2013.0, 2014.0, 2015.0, 2016....            8   \n",
       "73  [2012.0, 2013.0, 2014.0, 2015.0, 2016.0, 2017....            7   \n",
       "11   [2013.0, 2014.0, 2015.0, 2016.0, 2017.0, 2018.0]            6   \n",
       "62   [2012.0, 2013.0, 2014.0, 2015.0, 2016.0, 2018.0]            6   \n",
       "\n",
       "       from-till  \n",
       "6   (2010, 2018)  \n",
       "71  (2011, 2018)  \n",
       "73  (2012, 2018)  \n",
       "11  (2013, 2018)  \n",
       "62  (2012, 2018)  "
      ]
     },
     "execution_count": 35,
     "metadata": {},
     "output_type": "execute_result"
    }
   ],
   "source": [
    "df_sc_categories.sort_values(by='nr_of_years',ascending=False).head()"
   ]
  },
  {
   "cell_type": "code",
   "execution_count": 19,
   "metadata": {},
   "outputs": [
    {
     "name": "stdout",
     "output_type": "stream",
     "text": [
      "The ranking entails 79 individual categories which have been used between 2010 and 2018\n"
     ]
    }
   ],
   "source": [
    "print('The ranking entails {} individual categories which have been used between 2010 and 2018'.format(len(df_sc_categories)))"
   ]
  },
  {
   "cell_type": "code",
   "execution_count": 36,
   "metadata": {},
   "outputs": [
    {
     "data": {
      "text/plain": [
       "',Category,Year,nr_of_years,from-till\\n0,\",Best Think Tanks with Political Party Affiliation\",[2012.],1,\"(2012, 2012)\"\\n1,Best Advocacy Campaign,[2012. 2013. 2014. 2015. 2016. 2017.],6,\"(2012, 2017)\"\\n2,Best Advocay Campaign,[2018.],1,\"(2018, 2018)\"\\n3,Best External Relations / Public Engagement Program,[2010.],1,\"(2010, 2010)\"\\n4,Best For Profit Think Tanks,[2013. 2014. 2015. 2016. 2017.],5,\"(2013, 2017)\"\\n5,Best For-Profit Think Tanks (Unranked and in Alphabetical order),[2012.],1,\"(2012, 2012)\"\\n6,Best Government Affiliated Think Tanks,[2010. 2011. 2012. 2013. 2014. 2015. 2016. 2017. 2018.],9,\"(2010, 2018)\"\\n7,Best Independent Think Tanks,[2016. 2017. 2018.],3,\"(2016, 2018)\"\\n8,\"Best Independent Think Tanks(Category not in rank order, institutions were nominated but not ranked and are listed in Alphabetical order)\",[2015.],1,\"(2015, 2015)\"\\n9,Best Institutional Collaboration Involving Two or More Think,[2017.],1,\"(2017, 2017)\"\\n10,Best Institutional Collaboration Involving Two or More Think Tanks,[2013. 2014. 2015. 2016. 2018.],5,\"(2013, 2018)\"\\n11,Best Managed Think Tanks,[2013. 2014. 2015. 2016. 2017. 2018.],6,\"(2013, 2018)\"\\n12,Best New Idea or Paradigm Developed by a Think Tank,[2013. 2014. 2015. 2016. 2017. 2018.],6,\"(2013, 2018)\"\\n13,Best New Think Tank,[2013. 2014.],2,\"(2013, 2014)\"\\n14,Best New Think Tank (established in the last three-five years),[2008. 2009.],2,\"(2008, 2009)\"\\n15,Best New Think Tanks,[2012. 2015.],2,\"(2012, 2015)\"\\n16,Best New Think Tanks (Established in the last 18 months),[2010. 2011.],2,\"(2010, 2011)\"\\n17,Best New Think Tanks 2016,[2016.],1,\"(2016, 2016)\"\\n18,Best New Think Tanks 2017 Alphabetical Listing Not Ranked,[2017.],1,\"(2017, 2017)\"\\n19,Best New Think Tanks 2018 (Alphabetical Listing),[2018.],1,\"(2018, 2018)\"\\n20,Best Party Affiliated Think Tanks,[2010. 2011.],2,\"(2010, 2011)\"\\n21,Best Policy Study-Report Produced by a Think Tank 2015,[2015.],1,\"(2015, 2015)\"\\n22,Best Policy Study-Report Produced by a Think Tank 2016,[2016.],1,\"(2016, 2016)\"\\n23,Best Policy Study/Report Produced by a Think Tank (2012-2013),[2013.],1,\"(2013, 2013)\"\\n24,Best Policy Study/Report Produced by a Think Tank (2013-2014),[2014.],1,\"(2014, 2014)\"\\n25,Best Policy Study/Report Produced by a Think Tank 2011-2012,[2012.],1,\"(2012, 2012)\"\\n26,Best Quality Assurance and Integrity Policies and Procedures,[2015. 2016. 2017. 2018.],4,\"(2015, 2018)\"\\n27,Best Regional Studies Center (Free Standing),[2016. 2017. 2018.],3,\"(2016, 2018)\"\\n28,Best Regional Studies Center (University-Affiliated),[2016. 2017. 2018.],3,\"(2016, 2018)\"\\n29,Best Think Tank Conference,[2013. 2014. 2015. 2016. 2017. 2018.],6,\"(2013, 2018)\"\\n30,Best Think Tank Network,[2013. 2014. 2015. 2016. 2017. 2018.],6,\"(2013, 2018)\"\\n31,Best Think Tanks with Political Party Affiliation,[2013. 2014.],2,\"(2013, 2014)\"\\n32,Best Think Tanks with a Political Party Affiliation,[2015. 2016. 2017. 2018.],4,\"(2015, 2018)\"\\n33,Best Think Tanks with an Annual Operating Budget under $5 Million USD,[2012.],1,\"(2012, 2012)\"\\n34,Best Transdisciplenary Research Think Tanks,[2015. 2016.],2,\"(2015, 2016)\"\\n35,Best Transdisciplinary Research Program at a Think Tank,[2013. 2014.],2,\"(2013, 2014)\"\\n36,Best Transdisciplinary Research Think Tanks,[2017. 2018.],2,\"(2017, 2018)\"\\n37,Best University Affiliated Think Tank,[2015. 2016. 2017.],3,\"(2015, 2017)\"\\n38,Best University Affiliated Think Tanks,[2010. 2012. 2013. 2014. 2018.],5,\"(2010, 2018)\"\\n39,Best University Affiliated Think Tanks (Global),[2011.],1,\"(2011, 2011)\"\\n40,Best Use of Media (Print of Electronic),[2015. 2016.],2,\"(2015, 2016)\"\\n41,Best Use of Media (Print or Electronic),[2018.],1,\"(2018, 2018)\"\\n42,Best Use of Social Media and Networks,[2016. 2017. 2018.],3,\"(2016, 2018)\"\\n43,Best Use of Social Networks,[2013. 2014. 2015.],3,\"(2013, 2015)\"\\n44,Best Use of Social Networks ,[2013.],1,\"(2013, 2013)\"\\n45,Best Use of the Internet to Engage the Public,[2008. 2009. 2010.],3,\"(2008, 2010)\"\\n46,Best Use of the Media (Print or Electronic) to Communicate Programs and Research,[2008. 2009. 2010.],3,\"(2008, 2010)\"\\n47,Best for Profit Think Tanks,[2018.],1,\"(2018, 2018)\"\\n48,Greatest Impact on Public Policy,[2010.],1,\"(2010, 2010)\"\\n49,Most Impact on Public Policy or Policy Debates,[2008. 2009.],2,\"(2008, 2009)\"\\n50,Outstanding Policy Oriented - Public Policy Research Program,[2008. 2009.],2,\"(2008, 2009)\"\\n51,Outstanding Policy-Oriented Public Policy Research Program,[2010.],1,\"(2010, 2010)\"\\n52,Think Tank to Watch,[2013. 2014. 2015.],3,\"(2013, 2015)\"\\n53,Think Tank to Watch in 2017,[2016.],1,\"(2016, 2016)\"\\n54,Think Tank to Watch in 2018,[2017.],1,\"(2017, 2017)\"\\n55,Think Tank to Watch in 2019,[2018.],1,\"(2018, 2018)\"\\n56,Think Tank with the Best Use of the Internet,[2018.],1,\"(2018, 2018)\"\\n57,Think Tanks with Outstanding Policy-Oriented Public Policy Research Programs,[2011.],1,\"(2011, 2011)\"\\n58,Think Tanks with Outstanding Policy-Oriented Public Programs,[2013. 2014.],2,\"(2013, 2014)\"\\n59,Think Tanks with Outstanding Policy-Oriented Research,[2017.],1,\"(2017, 2017)\"\\n60,Think Tanks with Outstanding Policy-Oriented Research Programs,[2012. 2015. 2016. 2018.],4,\"(2012, 2018)\"\\n61,Think Tanks with the Best External  Relations/Public Engagement Program,[2017.],1,\"(2017, 2017)\"\\n62,Think Tanks with the Best External Relations/Public Engagement Program,[2012. 2013. 2014. 2015. 2016. 2018.],6,\"(2012, 2018)\"\\n63,Think Tanks with the Best External Relations/Public Engagement Programs,[2011.],1,\"(2011, 2011)\"\\n64,Think Tanks with the Best Use of Media (Print or Electronic),[2012.],1,\"(2012, 2012)\"\\n65,Think Tanks with the Best Use of the Internet,[2013. 2014. 2015. 2016.],4,\"(2013, 2016)\"\\n66,Think Tanks with the Best Use of the Internet or Social Media,[2012.],1,\"(2012, 2012)\"\\n67,Think Tanks with the Best Use of the Internet or Social Media to engage the Public,[2011.],1,\"(2011, 2011)\"\\n68,Think Tanks with the Best Use of the Media (Print or Electronic),[2013. 2014.],2,\"(2013, 2014)\"\\n69,Think Tanks with the Best Use of the Media (Print or Electronic) to Communicate Programs and Research,[2011.],1,\"(2011, 2011)\"\\n70,Think Tanks with the Greatest Impact on Public Policy (Global),[2011.],1,\"(2011, 2011)\"\\n71,Think Tanks with the Most Innovative Policy Ideas/Proposals,[2011. 2012. 2013. 2014. 2015. 2016. 2017. 2018.],8,\"(2011, 2018)\"\\n72,Think Tanks with the Most Innovative Policy/Idea Proposal,[2008. 2009. 2010.],3,\"(2008, 2010)\"\\n73,Think Tanks with the Most Significant Impact on Public Policy,[2012. 2013. 2014. 2015. 2016. 2017. 2018.],7,\"(2012, 2018)\"\\n74,Top Think Tank in the World,[2008.],1,\"(2008, 2008)\"\\n75,Top Think Tanks with Annual Operating Budgets of  Less Than $5 Million USD,[2017.],1,\"(2017, 2017)\"\\n76,Top Think Tanks with Annual Operating Budgets of Less Than $5 Million USD,[2011. 2013. 2014. 2018.],4,\"(2011, 2018)\"\\n77,Top Think Tanks with Annual Operating Budgets of less Than $5 Million USD,[2016.],1,\"(2016, 2016)\"\\n78,Top Think Tanks with Annual Operating Budgets ofLess Than $5 Million USD,[2015.],1,\"(2015, 2015)\"\\n'"
      ]
     },
     "execution_count": 36,
     "metadata": {},
     "output_type": "execute_result"
    }
   ],
   "source": [
    "df_sc_categories.to_csv('/results/')"
   ]
  },
  {
   "cell_type": "code",
   "execution_count": 127,
   "metadata": {},
   "outputs": [],
   "source": [
    "df_unique_categories = df_special_category.groupby(['Year'])['Category'].unique()\n",
    "df_unique_categories = df_unique_categories.to_frame().reset_index()"
   ]
  },
  {
   "cell_type": "code",
   "execution_count": 128,
   "metadata": {},
   "outputs": [
    {
     "data": {
      "text/html": [
       "<div>\n",
       "<style scoped>\n",
       "    .dataframe tbody tr th:only-of-type {\n",
       "        vertical-align: middle;\n",
       "    }\n",
       "\n",
       "    .dataframe tbody tr th {\n",
       "        vertical-align: top;\n",
       "    }\n",
       "\n",
       "    .dataframe thead th {\n",
       "        text-align: right;\n",
       "    }\n",
       "</style>\n",
       "<table border=\"1\" class=\"dataframe\">\n",
       "  <thead>\n",
       "    <tr style=\"text-align: right;\">\n",
       "      <th></th>\n",
       "      <th>Year</th>\n",
       "      <th>Category</th>\n",
       "    </tr>\n",
       "  </thead>\n",
       "  <tbody>\n",
       "    <tr>\n",
       "      <th>0</th>\n",
       "      <td>2008.0</td>\n",
       "      <td>[Think Tanks with the Most Innovative Policy/I...</td>\n",
       "    </tr>\n",
       "    <tr>\n",
       "      <th>1</th>\n",
       "      <td>2009.0</td>\n",
       "      <td>[Think Tanks with the Most Innovative Policy/I...</td>\n",
       "    </tr>\n",
       "    <tr>\n",
       "      <th>2</th>\n",
       "      <td>2010.0</td>\n",
       "      <td>[Think Tanks with the Most Innovative Policy/I...</td>\n",
       "    </tr>\n",
       "    <tr>\n",
       "      <th>3</th>\n",
       "      <td>2011.0</td>\n",
       "      <td>[Think Tanks with the Most Innovative Policy I...</td>\n",
       "    </tr>\n",
       "    <tr>\n",
       "      <th>4</th>\n",
       "      <td>2012.0</td>\n",
       "      <td>[Think Tanks with the Most Innovative Policy I...</td>\n",
       "    </tr>\n",
       "    <tr>\n",
       "      <th>5</th>\n",
       "      <td>2013.0</td>\n",
       "      <td>[Best Advocacy Campaign, Best For Profit Think...</td>\n",
       "    </tr>\n",
       "    <tr>\n",
       "      <th>6</th>\n",
       "      <td>2014.0</td>\n",
       "      <td>[Best Advocacy Campaign, Best For Profit Think...</td>\n",
       "    </tr>\n",
       "    <tr>\n",
       "      <th>7</th>\n",
       "      <td>2015.0</td>\n",
       "      <td>[Best Advocacy Campaign, Best For Profit Think...</td>\n",
       "    </tr>\n",
       "    <tr>\n",
       "      <th>8</th>\n",
       "      <td>2016.0</td>\n",
       "      <td>[Best Advocacy Campaign, Best For Profit Think...</td>\n",
       "    </tr>\n",
       "    <tr>\n",
       "      <th>9</th>\n",
       "      <td>2017.0</td>\n",
       "      <td>[Best Advocacy Campaign, Best For Profit Think...</td>\n",
       "    </tr>\n",
       "    <tr>\n",
       "      <th>10</th>\n",
       "      <td>2018.0</td>\n",
       "      <td>[Best Advocay Campaign, Best for Profit Think ...</td>\n",
       "    </tr>\n",
       "  </tbody>\n",
       "</table>\n",
       "</div>"
      ],
      "text/plain": [
       "      Year                                           Category\n",
       "0   2008.0  [Think Tanks with the Most Innovative Policy/I...\n",
       "1   2009.0  [Think Tanks with the Most Innovative Policy/I...\n",
       "2   2010.0  [Think Tanks with the Most Innovative Policy/I...\n",
       "3   2011.0  [Think Tanks with the Most Innovative Policy I...\n",
       "4   2012.0  [Think Tanks with the Most Innovative Policy I...\n",
       "5   2013.0  [Best Advocacy Campaign, Best For Profit Think...\n",
       "6   2014.0  [Best Advocacy Campaign, Best For Profit Think...\n",
       "7   2015.0  [Best Advocacy Campaign, Best For Profit Think...\n",
       "8   2016.0  [Best Advocacy Campaign, Best For Profit Think...\n",
       "9   2017.0  [Best Advocacy Campaign, Best For Profit Think...\n",
       "10  2018.0  [Best Advocay Campaign, Best for Profit Think ..."
      ]
     },
     "execution_count": 128,
     "metadata": {},
     "output_type": "execute_result"
    }
   ],
   "source": [
    "df_unique_categories['nr_categories'] = df_unique_categories['Category']."
   ]
  },
  {
   "cell_type": "code",
   "execution_count": null,
   "metadata": {},
   "outputs": [],
   "source": []
  }
 ],
 "metadata": {
  "kernelspec": {
   "display_name": "Python 3",
   "language": "python",
   "name": "python3"
  },
  "language_info": {
   "codemirror_mode": {
    "name": "ipython",
    "version": 3
   },
   "file_extension": ".py",
   "mimetype": "text/x-python",
   "name": "python",
   "nbconvert_exporter": "python",
   "pygments_lexer": "ipython3",
   "version": "3.7.2"
  }
 },
 "nbformat": 4,
 "nbformat_minor": 2
}
