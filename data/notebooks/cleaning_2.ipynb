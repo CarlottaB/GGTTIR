{
 "cells": [
  {
   "cell_type": "markdown",
   "metadata": {},
   "source": [
    "## new GGTTIR analsis script 26 september 2019"
   ]
  },
  {
   "cell_type": "markdown",
   "metadata": {},
   "source": [
    "### import libraries"
   ]
  },
  {
   "cell_type": "code",
   "execution_count": 101,
   "metadata": {},
   "outputs": [],
   "source": [
    "import pandas as pd\n",
    "import re\n",
    "import xlsxwriter"
   ]
  },
  {
   "cell_type": "code",
   "execution_count": 53,
   "metadata": {},
   "outputs": [],
   "source": [
    "#functions:\n",
    "#excluding parenthesis\n",
    "def drop_parenthesis(thinktank):\n",
    "    parenthesis = re.findall('\\(.*?\\)',thinktank)\n",
    "    for p in parenthesis:\n",
    "        thinktank = thinktank.replace(p,'')\n",
    "        thinktank = thinktank.strip()\n",
    "    return thinktank, parenthesis\n",
    "\n",
    "#count years\n",
    "def count_years(year_list):\n",
    "    return len(year_list)\n"
   ]
  },
  {
   "cell_type": "code",
   "execution_count": 91,
   "metadata": {},
   "outputs": [],
   "source": [
    "def convert_list(year_list):\n",
    "    clean_list = []\n",
    "    for year in year_list:\n",
    "        year = int(year)\n",
    "        clean_list.append(year)\n",
    "    return clean_list\n",
    "\n",
    "def dropdupl(year_list):\n",
    "    return list(dict.fromkeys(year_list))\n",
    "    "
   ]
  },
  {
   "cell_type": "code",
   "execution_count": 55,
   "metadata": {},
   "outputs": [],
   "source": [
    "def timespan(year_list):\n",
    "    start = int(year_list[0])\n",
    "    \n",
    "    end = int(year_list[-1])\n",
    "    return start,end"
   ]
  },
  {
   "cell_type": "markdown",
   "metadata": {},
   "source": [
    "#### import files:"
   ]
  },
  {
   "cell_type": "code",
   "execution_count": 56,
   "metadata": {},
   "outputs": [],
   "source": [
    "file_path = '../mcgann_ggttir_aktuell.xlsx'"
   ]
  },
  {
   "cell_type": "code",
   "execution_count": 57,
   "metadata": {},
   "outputs": [],
   "source": [
    "df_regions = pd.read_excel(file_path,sheet_name='regions')\n",
    "df_special_category = pd.read_excel(file_path,sheet_name='special_category')\n",
    "df_reserch_area = pd.read_excel(file_path,sheet_name='research_area')"
   ]
  },
  {
   "cell_type": "code",
   "execution_count": 59,
   "metadata": {},
   "outputs": [
    {
     "data": {
      "text/html": [
       "<div>\n",
       "<style scoped>\n",
       "    .dataframe tbody tr th:only-of-type {\n",
       "        vertical-align: middle;\n",
       "    }\n",
       "\n",
       "    .dataframe tbody tr th {\n",
       "        vertical-align: top;\n",
       "    }\n",
       "\n",
       "    .dataframe thead th {\n",
       "        text-align: right;\n",
       "    }\n",
       "</style>\n",
       "<table border=\"1\" class=\"dataframe\">\n",
       "  <thead>\n",
       "    <tr style=\"text-align: right;\">\n",
       "      <th></th>\n",
       "      <th>Rank</th>\n",
       "      <th>Think Tank</th>\n",
       "      <th>clean_think_tank_name</th>\n",
       "      <th>Category</th>\n",
       "      <th>Year</th>\n",
       "      <th>Country</th>\n",
       "      <th>thinktanks_clean</th>\n",
       "      <th>parenthesis</th>\n",
       "    </tr>\n",
       "  </thead>\n",
       "  <tbody>\n",
       "    <tr>\n",
       "      <th>0</th>\n",
       "      <td>1</td>\n",
       "      <td>brookings institution (united states)</td>\n",
       "      <td>brookings institution (united states)</td>\n",
       "      <td>Top 30 Think Tanks United States</td>\n",
       "      <td>2008</td>\n",
       "      <td>United States</td>\n",
       "      <td>brookings institution</td>\n",
       "      <td>[(united states)]</td>\n",
       "    </tr>\n",
       "    <tr>\n",
       "      <th>1</th>\n",
       "      <td>2</td>\n",
       "      <td>council on foreign relations</td>\n",
       "      <td>council on foreign relations</td>\n",
       "      <td>Top 30 Think Tanks United States</td>\n",
       "      <td>2008</td>\n",
       "      <td>United States</td>\n",
       "      <td>council on foreign relations</td>\n",
       "      <td>[]</td>\n",
       "    </tr>\n",
       "    <tr>\n",
       "      <th>2</th>\n",
       "      <td>3</td>\n",
       "      <td>carnegie endowment for international peace</td>\n",
       "      <td>carnegie endowment for international peace</td>\n",
       "      <td>Top 30 Think Tanks United States</td>\n",
       "      <td>2008</td>\n",
       "      <td>United States</td>\n",
       "      <td>carnegie endowment for international peace</td>\n",
       "      <td>[]</td>\n",
       "    </tr>\n",
       "    <tr>\n",
       "      <th>3</th>\n",
       "      <td>4</td>\n",
       "      <td>rand corporation</td>\n",
       "      <td>rand corporation</td>\n",
       "      <td>Top 30 Think Tanks United States</td>\n",
       "      <td>2008</td>\n",
       "      <td>United States</td>\n",
       "      <td>rand corporation</td>\n",
       "      <td>[]</td>\n",
       "    </tr>\n",
       "    <tr>\n",
       "      <th>4</th>\n",
       "      <td>5</td>\n",
       "      <td>heritage foundation</td>\n",
       "      <td>heritage foundation</td>\n",
       "      <td>Top 30 Think Tanks United States</td>\n",
       "      <td>2008</td>\n",
       "      <td>United States</td>\n",
       "      <td>heritage foundation</td>\n",
       "      <td>[]</td>\n",
       "    </tr>\n",
       "  </tbody>\n",
       "</table>\n",
       "</div>"
      ],
      "text/plain": [
       "   Rank                                  Think Tank  \\\n",
       "0     1       brookings institution (united states)   \n",
       "1     2                council on foreign relations   \n",
       "2     3  carnegie endowment for international peace   \n",
       "3     4                            rand corporation   \n",
       "4     5                         heritage foundation   \n",
       "\n",
       "                        clean_think_tank_name  \\\n",
       "0       brookings institution (united states)   \n",
       "1                council on foreign relations   \n",
       "2  carnegie endowment for international peace   \n",
       "3                            rand corporation   \n",
       "4                         heritage foundation   \n",
       "\n",
       "                           Category  Year        Country  \\\n",
       "0  Top 30 Think Tanks United States  2008  United States   \n",
       "1  Top 30 Think Tanks United States  2008  United States   \n",
       "2  Top 30 Think Tanks United States  2008  United States   \n",
       "3  Top 30 Think Tanks United States  2008  United States   \n",
       "4  Top 30 Think Tanks United States  2008  United States   \n",
       "\n",
       "                             thinktanks_clean        parenthesis  \n",
       "0                       brookings institution  [(united states)]  \n",
       "1                council on foreign relations                 []  \n",
       "2  carnegie endowment for international peace                 []  \n",
       "3                            rand corporation                 []  \n",
       "4                         heritage foundation                 []  "
      ]
     },
     "execution_count": 59,
     "metadata": {},
     "output_type": "execute_result"
    }
   ],
   "source": [
    "df_regions.head()"
   ]
  },
  {
   "cell_type": "code",
   "execution_count": 58,
   "metadata": {},
   "outputs": [],
   "source": [
    "#extract parenthesis from region df:\n",
    "df_regions['thinktanks_clean'],  df_regions['parenthesis']= zip(*df_regions['clean_think_tank_name'].apply(drop_parenthesis))\n",
    "\n",
    "#extract parenthesis from region df:\n",
    "df_special_category['thinktanks_clean'],  df_special_category['parenthesis']= zip(*df_special_category['clean_think_tank_name'].apply(drop_parenthesis))\n",
    "\n",
    "#extract parenthesis from region df:\n",
    "df_reserch_area['thinktanks_clean'],  df_reserch_area['parenthesis']= zip(*df_reserch_area['clean_think_tank_name'].apply(drop_parenthesis))"
   ]
  },
  {
   "cell_type": "code",
   "execution_count": 80,
   "metadata": {},
   "outputs": [],
   "source": [
    "df_sc_cats = df_special_category.groupby('Category')['Year'].apply(list).reset_index()\n",
    "df_regions_cats = df_regions.groupby('Category')['Year'].apply(list).reset_index()\n",
    "df_reserch_area_cats = df_reserch_area.groupby('Category')['Year'].apply(list).reset_index()"
   ]
  },
  {
   "cell_type": "code",
   "execution_count": null,
   "metadata": {},
   "outputs": [],
   "source": [
    "\n"
   ]
  },
  {
   "cell_type": "code",
   "execution_count": 94,
   "metadata": {},
   "outputs": [],
   "source": [
    "##Special Categories:\n",
    "\n",
    "#clean year-list:\n",
    "df_sc_cats['Year'] = df_sc_cats['Year'].apply(convert_list)\n",
    "\n",
    "#drop duplicates\n",
    "df_sc_cats['Year'] = df_sc_cats['Year'].apply(dropdupl)\n",
    "\n",
    "#get number of years:\n",
    "df_sc_cats['nr_of_years'] = df_sc_cats['Year'].apply(count_years)\n",
    "\n",
    "#get the timespan\n",
    "df_sc_cats['from'],  df_sc_cats['till'] = zip(*df_sc_cats['Year'].apply(timespan))"
   ]
  },
  {
   "cell_type": "code",
   "execution_count": 100,
   "metadata": {},
   "outputs": [
    {
     "data": {
      "text/html": [
       "<div>\n",
       "<style scoped>\n",
       "    .dataframe tbody tr th:only-of-type {\n",
       "        vertical-align: middle;\n",
       "    }\n",
       "\n",
       "    .dataframe tbody tr th {\n",
       "        vertical-align: top;\n",
       "    }\n",
       "\n",
       "    .dataframe thead th {\n",
       "        text-align: right;\n",
       "    }\n",
       "</style>\n",
       "<table border=\"1\" class=\"dataframe\">\n",
       "  <thead>\n",
       "    <tr style=\"text-align: right;\">\n",
       "      <th></th>\n",
       "      <th>Category</th>\n",
       "      <th>Year</th>\n",
       "      <th>nr_of_years</th>\n",
       "      <th>from</th>\n",
       "      <th>till</th>\n",
       "    </tr>\n",
       "  </thead>\n",
       "  <tbody>\n",
       "    <tr>\n",
       "      <th>0</th>\n",
       "      <td>,Best Think Tanks with Political Party Affilia...</td>\n",
       "      <td>[2012]</td>\n",
       "      <td>1</td>\n",
       "      <td>2012</td>\n",
       "      <td>2012</td>\n",
       "    </tr>\n",
       "  </tbody>\n",
       "</table>\n",
       "</div>"
      ],
      "text/plain": [
       "                                            Category    Year  nr_of_years  \\\n",
       "0  ,Best Think Tanks with Political Party Affilia...  [2012]            1   \n",
       "\n",
       "   from  till  \n",
       "0  2012  2012  "
      ]
     },
     "execution_count": 100,
     "metadata": {},
     "output_type": "execute_result"
    }
   ],
   "source": [
    "df_sc_cats.head(1)"
   ]
  },
  {
   "cell_type": "code",
   "execution_count": 95,
   "metadata": {},
   "outputs": [],
   "source": [
    "##Regions\n",
    "#get number of years:\n",
    "df_regions_cats['nr_of_years'] = df_regions_cats['Year'].apply(count_years)\n",
    "\n",
    "#drop duplicates\n",
    "df_regions_cats['Year'] = df_regions_cats['Year'].apply(dropdupl)\n",
    "\n",
    "#clean year-list:\n",
    "df_regions_cats['Year'] = df_regions_cats['Year'].apply(convert_list)\n",
    "\n",
    "#get the timespan\n",
    "df_regions_cats['from'],  df_regions_cats['till'] = zip(*df_regions_cats['Year'].apply(timespan))"
   ]
  },
  {
   "cell_type": "code",
   "execution_count": null,
   "metadata": {},
   "outputs": [],
   "source": [
    "df_regions_cats.head(1)"
   ]
  },
  {
   "cell_type": "code",
   "execution_count": 96,
   "metadata": {},
   "outputs": [],
   "source": [
    "## Research Areas:\n",
    "#get number of years:\n",
    "df_reserch_area_cats['nr_of_years'] = df_reserch_area_cats['Year'].apply(count_years)\n",
    "\n",
    "#drop duplicates\n",
    "df_reserch_area_cats['Year'] = df_reserch_area_cats['Year'].apply(dropdupl)\n",
    "\n",
    "#clean year-list:\n",
    "df_reserch_area_cats['Year'] = df_reserch_area_cats['Year'].apply(convert_list)\n",
    "\n",
    "#get the timespan\n",
    "df_reserch_area_cats['from'],  df_reserch_area_cats['till'] = zip(*df_reserch_area_cats['Year'].apply(timespan))"
   ]
  },
  {
   "cell_type": "code",
   "execution_count": 99,
   "metadata": {},
   "outputs": [
    {
     "data": {
      "text/html": [
       "<div>\n",
       "<style scoped>\n",
       "    .dataframe tbody tr th:only-of-type {\n",
       "        vertical-align: middle;\n",
       "    }\n",
       "\n",
       "    .dataframe tbody tr th {\n",
       "        vertical-align: top;\n",
       "    }\n",
       "\n",
       "    .dataframe thead th {\n",
       "        text-align: right;\n",
       "    }\n",
       "</style>\n",
       "<table border=\"1\" class=\"dataframe\">\n",
       "  <thead>\n",
       "    <tr style=\"text-align: right;\">\n",
       "      <th></th>\n",
       "      <th>Category</th>\n",
       "      <th>Year</th>\n",
       "      <th>nr_of_years</th>\n",
       "      <th>from</th>\n",
       "      <th>till</th>\n",
       "    </tr>\n",
       "  </thead>\n",
       "  <tbody>\n",
       "    <tr>\n",
       "      <th>0</th>\n",
       "      <td>List of Food Security Think Tanks (Alphabetica...</td>\n",
       "      <td>[2018]</td>\n",
       "      <td>133</td>\n",
       "      <td>2018</td>\n",
       "      <td>2018</td>\n",
       "    </tr>\n",
       "  </tbody>\n",
       "</table>\n",
       "</div>"
      ],
      "text/plain": [
       "                                            Category    Year  nr_of_years  \\\n",
       "0  List of Food Security Think Tanks (Alphabetica...  [2018]          133   \n",
       "\n",
       "   from  till  \n",
       "0  2018  2018  "
      ]
     },
     "execution_count": 99,
     "metadata": {},
     "output_type": "execute_result"
    }
   ],
   "source": [
    "df_reserch_area_cats.head(1)"
   ]
  },
  {
   "cell_type": "markdown",
   "metadata": {},
   "source": [
    "## 2. Data Analysis"
   ]
  },
  {
   "cell_type": "markdown",
   "metadata": {},
   "source": [
    "## 2.1 Categories over time:"
   ]
  },
  {
   "cell_type": "code",
   "execution_count": 107,
   "metadata": {},
   "outputs": [
    {
     "data": {
      "text/html": [
       "<div>\n",
       "<style scoped>\n",
       "    .dataframe tbody tr th:only-of-type {\n",
       "        vertical-align: middle;\n",
       "    }\n",
       "\n",
       "    .dataframe tbody tr th {\n",
       "        vertical-align: top;\n",
       "    }\n",
       "\n",
       "    .dataframe thead th {\n",
       "        text-align: right;\n",
       "    }\n",
       "</style>\n",
       "<table border=\"1\" class=\"dataframe\">\n",
       "  <thead>\n",
       "    <tr style=\"text-align: right;\">\n",
       "      <th></th>\n",
       "      <th>Category</th>\n",
       "      <th>Year</th>\n",
       "      <th>nr_of_years</th>\n",
       "      <th>from</th>\n",
       "      <th>till</th>\n",
       "    </tr>\n",
       "  </thead>\n",
       "  <tbody>\n",
       "    <tr>\n",
       "      <th>6</th>\n",
       "      <td>Best Government Affiliated Think Tanks</td>\n",
       "      <td>[2010, 2011, 2012, 2013, 2014, 2015, 2016, 201...</td>\n",
       "      <td>9</td>\n",
       "      <td>2010</td>\n",
       "      <td>2018</td>\n",
       "    </tr>\n",
       "    <tr>\n",
       "      <th>71</th>\n",
       "      <td>Think Tanks with the Most Innovative Policy Id...</td>\n",
       "      <td>[2011, 2012, 2013, 2014, 2015, 2016, 2017, 2018]</td>\n",
       "      <td>8</td>\n",
       "      <td>2011</td>\n",
       "      <td>2018</td>\n",
       "    </tr>\n",
       "  </tbody>\n",
       "</table>\n",
       "</div>"
      ],
      "text/plain": [
       "                                             Category  \\\n",
       "6              Best Government Affiliated Think Tanks   \n",
       "71  Think Tanks with the Most Innovative Policy Id...   \n",
       "\n",
       "                                                 Year  nr_of_years  from  till  \n",
       "6   [2010, 2011, 2012, 2013, 2014, 2015, 2016, 201...            9  2010  2018  \n",
       "71   [2011, 2012, 2013, 2014, 2015, 2016, 2017, 2018]            8  2011  2018  "
      ]
     },
     "execution_count": 107,
     "metadata": {},
     "output_type": "execute_result"
    }
   ],
   "source": [
    "df_sc_cats.sort_values(by='nr_of_years',ascending=False).head(2)"
   ]
  },
  {
   "cell_type": "code",
   "execution_count": 48,
   "metadata": {},
   "outputs": [
    {
     "name": "stdout",
     "output_type": "stream",
     "text": [
      "Special Categories entails 79 individual categories which have been used between 2010 and 2018\n"
     ]
    }
   ],
   "source": [
    "print('Special Categories entails {} individual categories which have been used between 2010 and 2018'.format(len(df_sc_categories)))"
   ]
  },
  {
   "cell_type": "code",
   "execution_count": 102,
   "metadata": {},
   "outputs": [],
   "source": [
    "writer = pd.ExcelWriter('../results/categories_over_time.xlsx', engine='xlsxwriter')\n",
    "df_regions_cats.to_excel(writer,sheet_name='regions')\n",
    "df_reserch_area_cats.to_excel(writer,sheet_name='research_areas')\n",
    "df_sc_cats.to_excel(writer,sheet_name='special_categories')\n",
    "\n",
    "writer.save()"
   ]
  },
  {
   "cell_type": "code",
   "execution_count": 49,
   "metadata": {},
   "outputs": [],
   "source": [
    "df_unique_categories = df_special_category.groupby(['Year'])['Category'].unique()\n",
    "df_unique_categories = df_unique_categories.to_frame().reset_index()"
   ]
  },
  {
   "cell_type": "code",
   "execution_count": 128,
   "metadata": {},
   "outputs": [
    {
     "data": {
      "text/html": [
       "<div>\n",
       "<style scoped>\n",
       "    .dataframe tbody tr th:only-of-type {\n",
       "        vertical-align: middle;\n",
       "    }\n",
       "\n",
       "    .dataframe tbody tr th {\n",
       "        vertical-align: top;\n",
       "    }\n",
       "\n",
       "    .dataframe thead th {\n",
       "        text-align: right;\n",
       "    }\n",
       "</style>\n",
       "<table border=\"1\" class=\"dataframe\">\n",
       "  <thead>\n",
       "    <tr style=\"text-align: right;\">\n",
       "      <th></th>\n",
       "      <th>Year</th>\n",
       "      <th>Category</th>\n",
       "    </tr>\n",
       "  </thead>\n",
       "  <tbody>\n",
       "    <tr>\n",
       "      <th>0</th>\n",
       "      <td>2008.0</td>\n",
       "      <td>[Think Tanks with the Most Innovative Policy/I...</td>\n",
       "    </tr>\n",
       "    <tr>\n",
       "      <th>1</th>\n",
       "      <td>2009.0</td>\n",
       "      <td>[Think Tanks with the Most Innovative Policy/I...</td>\n",
       "    </tr>\n",
       "    <tr>\n",
       "      <th>2</th>\n",
       "      <td>2010.0</td>\n",
       "      <td>[Think Tanks with the Most Innovative Policy/I...</td>\n",
       "    </tr>\n",
       "    <tr>\n",
       "      <th>3</th>\n",
       "      <td>2011.0</td>\n",
       "      <td>[Think Tanks with the Most Innovative Policy I...</td>\n",
       "    </tr>\n",
       "    <tr>\n",
       "      <th>4</th>\n",
       "      <td>2012.0</td>\n",
       "      <td>[Think Tanks with the Most Innovative Policy I...</td>\n",
       "    </tr>\n",
       "    <tr>\n",
       "      <th>5</th>\n",
       "      <td>2013.0</td>\n",
       "      <td>[Best Advocacy Campaign, Best For Profit Think...</td>\n",
       "    </tr>\n",
       "    <tr>\n",
       "      <th>6</th>\n",
       "      <td>2014.0</td>\n",
       "      <td>[Best Advocacy Campaign, Best For Profit Think...</td>\n",
       "    </tr>\n",
       "    <tr>\n",
       "      <th>7</th>\n",
       "      <td>2015.0</td>\n",
       "      <td>[Best Advocacy Campaign, Best For Profit Think...</td>\n",
       "    </tr>\n",
       "    <tr>\n",
       "      <th>8</th>\n",
       "      <td>2016.0</td>\n",
       "      <td>[Best Advocacy Campaign, Best For Profit Think...</td>\n",
       "    </tr>\n",
       "    <tr>\n",
       "      <th>9</th>\n",
       "      <td>2017.0</td>\n",
       "      <td>[Best Advocacy Campaign, Best For Profit Think...</td>\n",
       "    </tr>\n",
       "    <tr>\n",
       "      <th>10</th>\n",
       "      <td>2018.0</td>\n",
       "      <td>[Best Advocay Campaign, Best for Profit Think ...</td>\n",
       "    </tr>\n",
       "  </tbody>\n",
       "</table>\n",
       "</div>"
      ],
      "text/plain": [
       "      Year                                           Category\n",
       "0   2008.0  [Think Tanks with the Most Innovative Policy/I...\n",
       "1   2009.0  [Think Tanks with the Most Innovative Policy/I...\n",
       "2   2010.0  [Think Tanks with the Most Innovative Policy/I...\n",
       "3   2011.0  [Think Tanks with the Most Innovative Policy I...\n",
       "4   2012.0  [Think Tanks with the Most Innovative Policy I...\n",
       "5   2013.0  [Best Advocacy Campaign, Best For Profit Think...\n",
       "6   2014.0  [Best Advocacy Campaign, Best For Profit Think...\n",
       "7   2015.0  [Best Advocacy Campaign, Best For Profit Think...\n",
       "8   2016.0  [Best Advocacy Campaign, Best For Profit Think...\n",
       "9   2017.0  [Best Advocacy Campaign, Best For Profit Think...\n",
       "10  2018.0  [Best Advocay Campaign, Best for Profit Think ..."
      ]
     },
     "execution_count": 128,
     "metadata": {},
     "output_type": "execute_result"
    }
   ],
   "source": [
    "df_unique_categories['nr_categories'] = df_unique_categories['Category']"
   ]
  },
  {
   "cell_type": "code",
   "execution_count": null,
   "metadata": {},
   "outputs": [],
   "source": []
  }
 ],
 "metadata": {
  "kernelspec": {
   "display_name": "Python 3",
   "language": "python",
   "name": "python3"
  },
  "language_info": {
   "codemirror_mode": {
    "name": "ipython",
    "version": 3
   },
   "file_extension": ".py",
   "mimetype": "text/x-python",
   "name": "python",
   "nbconvert_exporter": "python",
   "pygments_lexer": "ipython3",
   "version": "3.7.4"
  }
 },
 "nbformat": 4,
 "nbformat_minor": 4
}
