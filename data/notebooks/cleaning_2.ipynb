{
 "cells": [
  {
   "cell_type": "markdown",
   "metadata": {},
   "source": [
    "## new analsis script 26 september 2019"
   ]
  },
  {
   "cell_type": "markdown",
   "metadata": {},
   "source": [
    "### import libraries"
   ]
  },
  {
   "cell_type": "code",
   "execution_count": 64,
   "metadata": {},
   "outputs": [],
   "source": [
    "import pandas as pd\n",
    "import re"
   ]
  },
  {
   "cell_type": "code",
   "execution_count": 112,
   "metadata": {},
   "outputs": [],
   "source": [
    "#functions:\n",
    "#excluding parenthesis\n",
    "def drop_parenthesis(thinktank):\n",
    "    parenthesis = re.findall('\\(.*?\\)',thinktank)\n",
    "    for p in parenthesis:\n",
    "        thinktank = thinktank.replace(p,'')\n",
    "        thinktank = thinktank.strip()\n",
    "    return thinktank, parenthesis\n",
    "\n",
    "#count years\n",
    "def count_years(year_list):\n",
    "    return len(year_list)\n"
   ]
  },
  {
   "cell_type": "markdown",
   "metadata": {},
   "source": [
    "#### import files:"
   ]
  },
  {
   "cell_type": "code",
   "execution_count": 75,
   "metadata": {},
   "outputs": [],
   "source": [
    "file_path = '../mcgann_ggttir_aktuell.xlsx'"
   ]
  },
  {
   "cell_type": "code",
   "execution_count": 76,
   "metadata": {},
   "outputs": [],
   "source": [
    "df_regions = pd.read_excel(file_path,sheet_name='regions')\n",
    "df_special_category = pd.read_excel(file_path,sheet_name='special_category')\n",
    "df_reserch_area = pd.read_excel(file_path,sheet_name='research_area')"
   ]
  },
  {
   "cell_type": "code",
   "execution_count": 77,
   "metadata": {},
   "outputs": [],
   "source": [
    "#extract parenthesis from region df:\n",
    "df_regions['thinktanks_clean'],  df_regions['parenthesis']= zip(*df_regions['clean_think_tank_name'].apply(drop_parenthesis))\n",
    "\n",
    "#extract parenthesis from region df:\n",
    "df_special_category['thinktanks_clean'],  df_special_category['parenthesis']= zip(*df_special_category['clean_think_tank_name'].apply(drop_parenthesis))\n",
    "\n",
    "#extract parenthesis from region df:\n",
    "df_reserch_area['thinktanks_clean'],  df_reserch_area['parenthesis']= zip(*df_reserch_area['clean_think_tank_name'].apply(drop_parenthesis))"
   ]
  },
  {
   "cell_type": "code",
   "execution_count": 84,
   "metadata": {},
   "outputs": [
    {
     "data": {
      "text/html": [
       "<div>\n",
       "<style scoped>\n",
       "    .dataframe tbody tr th:only-of-type {\n",
       "        vertical-align: middle;\n",
       "    }\n",
       "\n",
       "    .dataframe tbody tr th {\n",
       "        vertical-align: top;\n",
       "    }\n",
       "\n",
       "    .dataframe thead th {\n",
       "        text-align: right;\n",
       "    }\n",
       "</style>\n",
       "<table border=\"1\" class=\"dataframe\">\n",
       "  <thead>\n",
       "    <tr style=\"text-align: right;\">\n",
       "      <th></th>\n",
       "      <th>Rank</th>\n",
       "      <th>Think Tank</th>\n",
       "      <th>clean_think_tank_name</th>\n",
       "      <th>Category</th>\n",
       "      <th>Year</th>\n",
       "      <th>Country</th>\n",
       "      <th>thinktanks_clean</th>\n",
       "      <th>parenthesis</th>\n",
       "    </tr>\n",
       "  </thead>\n",
       "  <tbody>\n",
       "    <tr>\n",
       "      <th>0</th>\n",
       "      <td>1</td>\n",
       "      <td>brookings institution (united states)</td>\n",
       "      <td>brookings institution (united states)</td>\n",
       "      <td>Top 30 Think Tanks United States</td>\n",
       "      <td>2008</td>\n",
       "      <td>United States</td>\n",
       "      <td>brookings institution</td>\n",
       "      <td>[(united states)]</td>\n",
       "    </tr>\n",
       "    <tr>\n",
       "      <th>1</th>\n",
       "      <td>2</td>\n",
       "      <td>council on foreign relations</td>\n",
       "      <td>council on foreign relations</td>\n",
       "      <td>Top 30 Think Tanks United States</td>\n",
       "      <td>2008</td>\n",
       "      <td>United States</td>\n",
       "      <td>council on foreign relations</td>\n",
       "      <td>[]</td>\n",
       "    </tr>\n",
       "  </tbody>\n",
       "</table>\n",
       "</div>"
      ],
      "text/plain": [
       "   Rank                             Think Tank  \\\n",
       "0     1  brookings institution (united states)   \n",
       "1     2           council on foreign relations   \n",
       "\n",
       "                   clean_think_tank_name                          Category  \\\n",
       "0  brookings institution (united states)  Top 30 Think Tanks United States   \n",
       "1           council on foreign relations  Top 30 Think Tanks United States   \n",
       "\n",
       "   Year        Country              thinktanks_clean        parenthesis  \n",
       "0  2008  United States         brookings institution  [(united states)]  \n",
       "1  2008  United States  council on foreign relations                 []  "
      ]
     },
     "execution_count": 84,
     "metadata": {},
     "output_type": "execute_result"
    }
   ],
   "source": [
    "df_regions.head(2)"
   ]
  },
  {
   "cell_type": "code",
   "execution_count": 85,
   "metadata": {},
   "outputs": [
    {
     "data": {
      "text/html": [
       "<div>\n",
       "<style scoped>\n",
       "    .dataframe tbody tr th:only-of-type {\n",
       "        vertical-align: middle;\n",
       "    }\n",
       "\n",
       "    .dataframe tbody tr th {\n",
       "        vertical-align: top;\n",
       "    }\n",
       "\n",
       "    .dataframe thead th {\n",
       "        text-align: right;\n",
       "    }\n",
       "</style>\n",
       "<table border=\"1\" class=\"dataframe\">\n",
       "  <thead>\n",
       "    <tr style=\"text-align: right;\">\n",
       "      <th></th>\n",
       "      <th>Rank</th>\n",
       "      <th>Think tank</th>\n",
       "      <th>clean_think_tank_name</th>\n",
       "      <th>Category</th>\n",
       "      <th>Year</th>\n",
       "      <th>country</th>\n",
       "      <th>thinktanks_clean</th>\n",
       "      <th>parenthesis</th>\n",
       "    </tr>\n",
       "  </thead>\n",
       "  <tbody>\n",
       "    <tr>\n",
       "      <th>0</th>\n",
       "      <td>1.0</td>\n",
       "      <td>cato institute  usa</td>\n",
       "      <td>cato institute (usa)</td>\n",
       "      <td>Think Tanks with the Most Innovative Policy/Id...</td>\n",
       "      <td>2008.0</td>\n",
       "      <td>United States</td>\n",
       "      <td>cato institute</td>\n",
       "      <td>[(usa)]</td>\n",
       "    </tr>\n",
       "    <tr>\n",
       "      <th>1</th>\n",
       "      <td>2.0</td>\n",
       "      <td>brookings institute  usa</td>\n",
       "      <td>brookings institute  usa</td>\n",
       "      <td>Think Tanks with the Most Innovative Policy/Id...</td>\n",
       "      <td>2008.0</td>\n",
       "      <td>United States</td>\n",
       "      <td>brookings institute  usa</td>\n",
       "      <td>[]</td>\n",
       "    </tr>\n",
       "  </tbody>\n",
       "</table>\n",
       "</div>"
      ],
      "text/plain": [
       "   Rank                Think tank     clean_think_tank_name  \\\n",
       "0   1.0       cato institute  usa      cato institute (usa)   \n",
       "1   2.0  brookings institute  usa  brookings institute  usa   \n",
       "\n",
       "                                            Category    Year        country  \\\n",
       "0  Think Tanks with the Most Innovative Policy/Id...  2008.0  United States   \n",
       "1  Think Tanks with the Most Innovative Policy/Id...  2008.0  United States   \n",
       "\n",
       "           thinktanks_clean parenthesis  \n",
       "0            cato institute     [(usa)]  \n",
       "1  brookings institute  usa          []  "
      ]
     },
     "execution_count": 85,
     "metadata": {},
     "output_type": "execute_result"
    }
   ],
   "source": [
    "df_special_category.head(2)"
   ]
  },
  {
   "cell_type": "code",
   "execution_count": 86,
   "metadata": {},
   "outputs": [
    {
     "data": {
      "text/html": [
       "<div>\n",
       "<style scoped>\n",
       "    .dataframe tbody tr th:only-of-type {\n",
       "        vertical-align: middle;\n",
       "    }\n",
       "\n",
       "    .dataframe tbody tr th {\n",
       "        vertical-align: top;\n",
       "    }\n",
       "\n",
       "    .dataframe thead th {\n",
       "        text-align: right;\n",
       "    }\n",
       "</style>\n",
       "<table border=\"1\" class=\"dataframe\">\n",
       "  <thead>\n",
       "    <tr style=\"text-align: right;\">\n",
       "      <th></th>\n",
       "      <th>Rank</th>\n",
       "      <th>Think tank</th>\n",
       "      <th>clean_think_tank_name</th>\n",
       "      <th>Category</th>\n",
       "      <th>Year</th>\n",
       "      <th>country</th>\n",
       "      <th>thinktanks_clean</th>\n",
       "      <th>parenthesis</th>\n",
       "    </tr>\n",
       "  </thead>\n",
       "  <tbody>\n",
       "    <tr>\n",
       "      <th>0</th>\n",
       "      <td>1.0</td>\n",
       "      <td>cato institute  usa</td>\n",
       "      <td>cato institute (usa)</td>\n",
       "      <td>Think Tanks with the Most Innovative Policy/Id...</td>\n",
       "      <td>2008.0</td>\n",
       "      <td>United States</td>\n",
       "      <td>cato institute</td>\n",
       "      <td>[(usa)]</td>\n",
       "    </tr>\n",
       "    <tr>\n",
       "      <th>1</th>\n",
       "      <td>2.0</td>\n",
       "      <td>brookings institute  usa</td>\n",
       "      <td>brookings institute  usa</td>\n",
       "      <td>Think Tanks with the Most Innovative Policy/Id...</td>\n",
       "      <td>2008.0</td>\n",
       "      <td>United States</td>\n",
       "      <td>brookings institute  usa</td>\n",
       "      <td>[]</td>\n",
       "    </tr>\n",
       "  </tbody>\n",
       "</table>\n",
       "</div>"
      ],
      "text/plain": [
       "   Rank                Think tank     clean_think_tank_name  \\\n",
       "0   1.0       cato institute  usa      cato institute (usa)   \n",
       "1   2.0  brookings institute  usa  brookings institute  usa   \n",
       "\n",
       "                                            Category    Year        country  \\\n",
       "0  Think Tanks with the Most Innovative Policy/Id...  2008.0  United States   \n",
       "1  Think Tanks with the Most Innovative Policy/Id...  2008.0  United States   \n",
       "\n",
       "           thinktanks_clean parenthesis  \n",
       "0            cato institute     [(usa)]  \n",
       "1  brookings institute  usa          []  "
      ]
     },
     "execution_count": 86,
     "metadata": {},
     "output_type": "execute_result"
    }
   ],
   "source": [
    "df_special_category.head(2)"
   ]
  },
  {
   "cell_type": "code",
   "execution_count": null,
   "metadata": {},
   "outputs": [],
   "source": []
  },
  {
   "cell_type": "markdown",
   "metadata": {},
   "source": [
    "## 2. Data Analysis"
   ]
  },
  {
   "cell_type": "markdown",
   "metadata": {},
   "source": [
    "## 2.1 Categories over time:"
   ]
  },
  {
   "cell_type": "code",
   "execution_count": 120,
   "metadata": {},
   "outputs": [],
   "source": [
    "df_sc_categories = df_special_category.groupby(['Category'])['Year'].unique()\n",
    "df_sc_categories = df_sc_categories.to_frame().reset_index()"
   ]
  },
  {
   "cell_type": "code",
   "execution_count": 121,
   "metadata": {},
   "outputs": [],
   "source": [
    "df_sc_categories['nr_of_years'] = df_sc_categories['Year'].apply(count_years) "
   ]
  },
  {
   "cell_type": "code",
   "execution_count": 122,
   "metadata": {},
   "outputs": [
    {
     "data": {
      "text/html": [
       "<div>\n",
       "<style scoped>\n",
       "    .dataframe tbody tr th:only-of-type {\n",
       "        vertical-align: middle;\n",
       "    }\n",
       "\n",
       "    .dataframe tbody tr th {\n",
       "        vertical-align: top;\n",
       "    }\n",
       "\n",
       "    .dataframe thead th {\n",
       "        text-align: right;\n",
       "    }\n",
       "</style>\n",
       "<table border=\"1\" class=\"dataframe\">\n",
       "  <thead>\n",
       "    <tr style=\"text-align: right;\">\n",
       "      <th></th>\n",
       "      <th>Category</th>\n",
       "      <th>Year</th>\n",
       "      <th>nr_of_years</th>\n",
       "    </tr>\n",
       "  </thead>\n",
       "  <tbody>\n",
       "    <tr>\n",
       "      <th>6</th>\n",
       "      <td>Best Government Affiliated Think Tanks</td>\n",
       "      <td>[2010.0, 2011.0, 2012.0, 2013.0, 2014.0, 2015....</td>\n",
       "      <td>9</td>\n",
       "    </tr>\n",
       "    <tr>\n",
       "      <th>71</th>\n",
       "      <td>Think Tanks with the Most Innovative Policy Id...</td>\n",
       "      <td>[2011.0, 2012.0, 2013.0, 2014.0, 2015.0, 2016....</td>\n",
       "      <td>8</td>\n",
       "    </tr>\n",
       "    <tr>\n",
       "      <th>73</th>\n",
       "      <td>Think Tanks with the Most Significant Impact o...</td>\n",
       "      <td>[2012.0, 2013.0, 2014.0, 2015.0, 2016.0, 2017....</td>\n",
       "      <td>7</td>\n",
       "    </tr>\n",
       "    <tr>\n",
       "      <th>11</th>\n",
       "      <td>Best Managed Think Tanks</td>\n",
       "      <td>[2013.0, 2014.0, 2015.0, 2016.0, 2017.0, 2018.0]</td>\n",
       "      <td>6</td>\n",
       "    </tr>\n",
       "    <tr>\n",
       "      <th>62</th>\n",
       "      <td>Think Tanks with the Best External Relations/P...</td>\n",
       "      <td>[2012.0, 2013.0, 2014.0, 2015.0, 2016.0, 2018.0]</td>\n",
       "      <td>6</td>\n",
       "    </tr>\n",
       "  </tbody>\n",
       "</table>\n",
       "</div>"
      ],
      "text/plain": [
       "                                             Category  \\\n",
       "6              Best Government Affiliated Think Tanks   \n",
       "71  Think Tanks with the Most Innovative Policy Id...   \n",
       "73  Think Tanks with the Most Significant Impact o...   \n",
       "11                           Best Managed Think Tanks   \n",
       "62  Think Tanks with the Best External Relations/P...   \n",
       "\n",
       "                                                 Year  nr_of_years  \n",
       "6   [2010.0, 2011.0, 2012.0, 2013.0, 2014.0, 2015....            9  \n",
       "71  [2011.0, 2012.0, 2013.0, 2014.0, 2015.0, 2016....            8  \n",
       "73  [2012.0, 2013.0, 2014.0, 2015.0, 2016.0, 2017....            7  \n",
       "11   [2013.0, 2014.0, 2015.0, 2016.0, 2017.0, 2018.0]            6  \n",
       "62   [2012.0, 2013.0, 2014.0, 2015.0, 2016.0, 2018.0]            6  "
      ]
     },
     "execution_count": 122,
     "metadata": {},
     "output_type": "execute_result"
    }
   ],
   "source": [
    "df_sc_categories.sort_values(by='nr_of_years',ascending=False).head()"
   ]
  },
  {
   "cell_type": "code",
   "execution_count": 127,
   "metadata": {},
   "outputs": [],
   "source": [
    "df_unique_categories = df_special_category.groupby(['Year'])['Category'].unique()\n",
    "df_unique_categories = df_unique_categories.to_frame().reset_index()"
   ]
  },
  {
   "cell_type": "code",
   "execution_count": 128,
   "metadata": {},
   "outputs": [
    {
     "data": {
      "text/html": [
       "<div>\n",
       "<style scoped>\n",
       "    .dataframe tbody tr th:only-of-type {\n",
       "        vertical-align: middle;\n",
       "    }\n",
       "\n",
       "    .dataframe tbody tr th {\n",
       "        vertical-align: top;\n",
       "    }\n",
       "\n",
       "    .dataframe thead th {\n",
       "        text-align: right;\n",
       "    }\n",
       "</style>\n",
       "<table border=\"1\" class=\"dataframe\">\n",
       "  <thead>\n",
       "    <tr style=\"text-align: right;\">\n",
       "      <th></th>\n",
       "      <th>Year</th>\n",
       "      <th>Category</th>\n",
       "    </tr>\n",
       "  </thead>\n",
       "  <tbody>\n",
       "    <tr>\n",
       "      <th>0</th>\n",
       "      <td>2008.0</td>\n",
       "      <td>[Think Tanks with the Most Innovative Policy/I...</td>\n",
       "    </tr>\n",
       "    <tr>\n",
       "      <th>1</th>\n",
       "      <td>2009.0</td>\n",
       "      <td>[Think Tanks with the Most Innovative Policy/I...</td>\n",
       "    </tr>\n",
       "    <tr>\n",
       "      <th>2</th>\n",
       "      <td>2010.0</td>\n",
       "      <td>[Think Tanks with the Most Innovative Policy/I...</td>\n",
       "    </tr>\n",
       "    <tr>\n",
       "      <th>3</th>\n",
       "      <td>2011.0</td>\n",
       "      <td>[Think Tanks with the Most Innovative Policy I...</td>\n",
       "    </tr>\n",
       "    <tr>\n",
       "      <th>4</th>\n",
       "      <td>2012.0</td>\n",
       "      <td>[Think Tanks with the Most Innovative Policy I...</td>\n",
       "    </tr>\n",
       "    <tr>\n",
       "      <th>5</th>\n",
       "      <td>2013.0</td>\n",
       "      <td>[Best Advocacy Campaign, Best For Profit Think...</td>\n",
       "    </tr>\n",
       "    <tr>\n",
       "      <th>6</th>\n",
       "      <td>2014.0</td>\n",
       "      <td>[Best Advocacy Campaign, Best For Profit Think...</td>\n",
       "    </tr>\n",
       "    <tr>\n",
       "      <th>7</th>\n",
       "      <td>2015.0</td>\n",
       "      <td>[Best Advocacy Campaign, Best For Profit Think...</td>\n",
       "    </tr>\n",
       "    <tr>\n",
       "      <th>8</th>\n",
       "      <td>2016.0</td>\n",
       "      <td>[Best Advocacy Campaign, Best For Profit Think...</td>\n",
       "    </tr>\n",
       "    <tr>\n",
       "      <th>9</th>\n",
       "      <td>2017.0</td>\n",
       "      <td>[Best Advocacy Campaign, Best For Profit Think...</td>\n",
       "    </tr>\n",
       "    <tr>\n",
       "      <th>10</th>\n",
       "      <td>2018.0</td>\n",
       "      <td>[Best Advocay Campaign, Best for Profit Think ...</td>\n",
       "    </tr>\n",
       "  </tbody>\n",
       "</table>\n",
       "</div>"
      ],
      "text/plain": [
       "      Year                                           Category\n",
       "0   2008.0  [Think Tanks with the Most Innovative Policy/I...\n",
       "1   2009.0  [Think Tanks with the Most Innovative Policy/I...\n",
       "2   2010.0  [Think Tanks with the Most Innovative Policy/I...\n",
       "3   2011.0  [Think Tanks with the Most Innovative Policy I...\n",
       "4   2012.0  [Think Tanks with the Most Innovative Policy I...\n",
       "5   2013.0  [Best Advocacy Campaign, Best For Profit Think...\n",
       "6   2014.0  [Best Advocacy Campaign, Best For Profit Think...\n",
       "7   2015.0  [Best Advocacy Campaign, Best For Profit Think...\n",
       "8   2016.0  [Best Advocacy Campaign, Best For Profit Think...\n",
       "9   2017.0  [Best Advocacy Campaign, Best For Profit Think...\n",
       "10  2018.0  [Best Advocay Campaign, Best for Profit Think ..."
      ]
     },
     "execution_count": 128,
     "metadata": {},
     "output_type": "execute_result"
    }
   ],
   "source": [
    "df_unique_categories['nr_categories'] = df_unique_categories['Category']."
   ]
  },
  {
   "cell_type": "code",
   "execution_count": null,
   "metadata": {},
   "outputs": [],
   "source": []
  }
 ],
 "metadata": {
  "kernelspec": {
   "display_name": "Python 3",
   "language": "python",
   "name": "python3"
  },
  "language_info": {
   "codemirror_mode": {
    "name": "ipython",
    "version": 3
   },
   "file_extension": ".py",
   "mimetype": "text/x-python",
   "name": "python",
   "nbconvert_exporter": "python",
   "pygments_lexer": "ipython3",
   "version": "3.7.2"
  }
 },
 "nbformat": 4,
 "nbformat_minor": 2
}
