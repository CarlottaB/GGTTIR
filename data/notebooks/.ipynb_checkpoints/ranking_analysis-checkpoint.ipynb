{
 "cells": [
  {
   "cell_type": "markdown",
   "metadata": {},
   "source": [
    "## Ranking Analysis"
   ]
  },
  {
   "cell_type": "markdown",
   "metadata": {},
   "source": [
    "## To-dos: Carlotta\n",
    "Bisher war df_regions das Test-Dataframe\n",
    "- Analyse-Schritte für andere think-tanks ebenfalls durchführen\n",
    "- Kategorien finden die über min. 5 Jahre ein stablies Ranking (ü. 75 think-tanks pro Jahr) enthalten"
   ]
  },
  {
   "cell_type": "code",
   "execution_count": null,
   "metadata": {},
   "outputs": [],
   "source": []
  },
  {
   "cell_type": "code",
   "execution_count": 1,
   "metadata": {},
   "outputs": [],
   "source": [
    "##import libraries\n",
    "import pandas as pd\n",
    "import numpy as np\n",
    "import scipy as sp"
   ]
  },
  {
   "cell_type": "code",
   "execution_count": 2,
   "metadata": {},
   "outputs": [],
   "source": [
    "#file_path\n",
    "file_path = '../results/tts_conslidated_categories.xlsx'"
   ]
  },
  {
   "cell_type": "code",
   "execution_count": 3,
   "metadata": {},
   "outputs": [],
   "source": [
    "#import datasets\n",
    "df_regions = pd.read_excel(file_path,sheet_name='regions',index=False)\n",
    "df_research = pd.read_excel(file_path,sheet_name='research_areas',index=False)\n",
    "df_special = pd.read_excel(file_path,sheet_name='special',index=False)"
   ]
  },
  {
   "cell_type": "code",
   "execution_count": 4,
   "metadata": {},
   "outputs": [
    {
     "data": {
      "text/html": [
       "<div>\n",
       "<style scoped>\n",
       "    .dataframe tbody tr th:only-of-type {\n",
       "        vertical-align: middle;\n",
       "    }\n",
       "\n",
       "    .dataframe tbody tr th {\n",
       "        vertical-align: top;\n",
       "    }\n",
       "\n",
       "    .dataframe thead th {\n",
       "        text-align: right;\n",
       "    }\n",
       "</style>\n",
       "<table border=\"1\" class=\"dataframe\">\n",
       "  <thead>\n",
       "    <tr style=\"text-align: right;\">\n",
       "      <th></th>\n",
       "      <th>Rank</th>\n",
       "      <th>Think Tank</th>\n",
       "      <th>Category</th>\n",
       "      <th>Year</th>\n",
       "      <th>Country</th>\n",
       "      <th>cleaned_category</th>\n",
       "    </tr>\n",
       "  </thead>\n",
       "  <tbody>\n",
       "    <tr>\n",
       "      <th>0</th>\n",
       "      <td>1</td>\n",
       "      <td>brookings institution (united states)</td>\n",
       "      <td>Top 30 Think Tanks United States</td>\n",
       "      <td>2008</td>\n",
       "      <td>United States</td>\n",
       "      <td>Top Think Tanks in the United States</td>\n",
       "    </tr>\n",
       "    <tr>\n",
       "      <th>1</th>\n",
       "      <td>2</td>\n",
       "      <td>council on foreign relations</td>\n",
       "      <td>Top 30 Think Tanks United States</td>\n",
       "      <td>2008</td>\n",
       "      <td>United States</td>\n",
       "      <td>Top Think Tanks in the United States</td>\n",
       "    </tr>\n",
       "    <tr>\n",
       "      <th>2</th>\n",
       "      <td>3</td>\n",
       "      <td>carnegie endowment for international peace</td>\n",
       "      <td>Top 30 Think Tanks United States</td>\n",
       "      <td>2008</td>\n",
       "      <td>United States</td>\n",
       "      <td>Top Think Tanks in the United States</td>\n",
       "    </tr>\n",
       "    <tr>\n",
       "      <th>3</th>\n",
       "      <td>4</td>\n",
       "      <td>rand corporation</td>\n",
       "      <td>Top 30 Think Tanks United States</td>\n",
       "      <td>2008</td>\n",
       "      <td>United States</td>\n",
       "      <td>Top Think Tanks in the United States</td>\n",
       "    </tr>\n",
       "    <tr>\n",
       "      <th>4</th>\n",
       "      <td>5</td>\n",
       "      <td>heritage foundation</td>\n",
       "      <td>Top 30 Think Tanks United States</td>\n",
       "      <td>2008</td>\n",
       "      <td>United States</td>\n",
       "      <td>Top Think Tanks in the United States</td>\n",
       "    </tr>\n",
       "  </tbody>\n",
       "</table>\n",
       "</div>"
      ],
      "text/plain": [
       "   Rank                                  Think Tank  \\\n",
       "0     1       brookings institution (united states)   \n",
       "1     2                council on foreign relations   \n",
       "2     3  carnegie endowment for international peace   \n",
       "3     4                            rand corporation   \n",
       "4     5                         heritage foundation   \n",
       "\n",
       "                           Category  Year        Country  \\\n",
       "0  Top 30 Think Tanks United States  2008  United States   \n",
       "1  Top 30 Think Tanks United States  2008  United States   \n",
       "2  Top 30 Think Tanks United States  2008  United States   \n",
       "3  Top 30 Think Tanks United States  2008  United States   \n",
       "4  Top 30 Think Tanks United States  2008  United States   \n",
       "\n",
       "                       cleaned_category  \n",
       "0  Top Think Tanks in the United States  \n",
       "1  Top Think Tanks in the United States  \n",
       "2  Top Think Tanks in the United States  \n",
       "3  Top Think Tanks in the United States  \n",
       "4  Top Think Tanks in the United States  "
      ]
     },
     "execution_count": 4,
     "metadata": {},
     "output_type": "execute_result"
    }
   ],
   "source": [
    "df_regions.head()"
   ]
  },
  {
   "cell_type": "code",
   "execution_count": 25,
   "metadata": {},
   "outputs": [],
   "source": [
    "#df_regions.groupby('Think Tank')['cleaned_category'].nunique().sort_values(ascending=False)\n",
    "#df_regions.groupby(['Think Tank','Year'])['cleaned_category'].apply(list).reset_index(name='new')"
   ]
  },
  {
   "cell_type": "code",
   "execution_count": 26,
   "metadata": {},
   "outputs": [],
   "source": [
    "#df_regions['Think Tank'].value_counts()"
   ]
  },
  {
   "cell_type": "markdown",
   "metadata": {},
   "source": [
    "## Analyse: "
   ]
  },
  {
   "cell_type": "code",
   "execution_count": 43,
   "metadata": {},
   "outputs": [],
   "source": [
    "#Übersicht wie viele think-tanks pro Jahr pro Kategorie\n",
    "table_regions = pd.pivot_table(df_regions, values='Think Tank', index=['cleaned_category'], columns=['Year'], \n",
    "               aggfunc=lambda x: len(x.unique()))"
   ]
  },
  {
   "cell_type": "code",
   "execution_count": 49,
   "metadata": {},
   "outputs": [
    {
     "data": {
      "text/plain": [
       "Year\n",
       "2008      NaN\n",
       "2009     25.0\n",
       "2010     25.0\n",
       "2011     30.0\n",
       "2012    150.0\n",
       "2013    150.0\n",
       "2014    150.0\n",
       "2015    172.0\n",
       "2016    174.0\n",
       "2017    172.0\n",
       "2018    177.0\n",
       "Name: Top Think Tanks Worldwide (US and non-US) , dtype: float64"
      ]
     },
     "execution_count": 49,
     "metadata": {},
     "output_type": "execute_result"
    }
   ],
   "source": [
    "table_regions.loc['Top Think Tanks Worldwide (US and non-US) ']"
   ]
  },
  {
   "cell_type": "code",
   "execution_count": null,
   "metadata": {},
   "outputs": [],
   "source": []
  }
 ],
 "metadata": {
  "kernelspec": {
   "display_name": "Python 3",
   "language": "python",
   "name": "python3"
  },
  "language_info": {
   "codemirror_mode": {
    "name": "ipython",
    "version": 3
   },
   "file_extension": ".py",
   "mimetype": "text/x-python",
   "name": "python",
   "nbconvert_exporter": "python",
   "pygments_lexer": "ipython3",
   "version": "3.7.2"
  }
 },
 "nbformat": 4,
 "nbformat_minor": 2
}
