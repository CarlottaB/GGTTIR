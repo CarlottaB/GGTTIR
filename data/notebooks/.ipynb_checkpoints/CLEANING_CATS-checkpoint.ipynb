{
 "cells": [
  {
   "cell_type": "markdown",
   "metadata": {},
   "source": [
    "## Short notebook: combining dataframes on categories"
   ]
  },
  {
   "cell_type": "code",
   "execution_count": 66,
   "metadata": {},
   "outputs": [],
   "source": [
    "#import libraries\n",
    "import pandas as pd\n",
    "import re\n",
    "import xlsxwriter"
   ]
  },
  {
   "cell_type": "code",
   "execution_count": 67,
   "metadata": {},
   "outputs": [],
   "source": [
    "#set file-paths\n",
    "file_path_categories = '../data_base/Categories_over_time.xlsx'\n",
    "\n",
    "file_path_thinktanks = '../data_base/CLEAN_THINKTANKS.xlsx'"
   ]
  },
  {
   "cell_type": "code",
   "execution_count": 68,
   "metadata": {},
   "outputs": [],
   "source": [
    "#import category-datasets\n",
    "regions_category_df = pd.read_excel(file_path_categories,sheet_name='regions')\n",
    "research_category_df = pd.read_excel(file_path_categories,sheet_name='research_areas_clean')\n",
    "special_category_df = pd.read_excel(file_path_categories,sheet_name='special_categories_clean')"
   ]
  },
  {
   "cell_type": "code",
   "execution_count": 69,
   "metadata": {},
   "outputs": [],
   "source": [
    "#import think-tank datasets\n",
    "regions_tt_df = pd.read_excel(file_path_thinktanks,sheet_name='regions')\n",
    "research_tt_df = pd.read_excel(file_path_thinktanks,sheet_name='research_areas')\n",
    "special_tt_df = pd.read_excel(file_path_thinktanks,sheet_name='special_categories')"
   ]
  },
  {
   "cell_type": "code",
   "execution_count": 70,
   "metadata": {},
   "outputs": [],
   "source": [
    "#merge datasets\n",
    "cleand_regions_tt = pd.merge(regions_tt_df,regions_category_df[['Category','Category2']],on='Category')\n",
    "\n",
    "cleand_research_tt = pd.merge(research_tt_df,research_category_df[['Category','Category2']],on='Category')\n",
    "\n",
    "cleand_special_tt = pd.merge(special_tt_df,special_category_df[['Category','Category2']],on='Category')"
   ]
  },
  {
   "cell_type": "code",
   "execution_count": 71,
   "metadata": {},
   "outputs": [],
   "source": [
    "#rename cateories:\n",
    "cleand_regions_tt.rename(columns={'Category2':'cleaned_category'},inplace=True)\n",
    "\n",
    "cleand_research_tt.rename(columns={'Category2':'cleaned_category'},inplace=True)\n",
    "\n",
    "cleand_special_tt.rename(columns={'Category2':'cleaned_category'},inplace=True)"
   ]
  },
  {
   "cell_type": "code",
   "execution_count": 72,
   "metadata": {},
   "outputs": [
    {
     "data": {
      "text/html": [
       "<div>\n",
       "<style scoped>\n",
       "    .dataframe tbody tr th:only-of-type {\n",
       "        vertical-align: middle;\n",
       "    }\n",
       "\n",
       "    .dataframe tbody tr th {\n",
       "        vertical-align: top;\n",
       "    }\n",
       "\n",
       "    .dataframe thead th {\n",
       "        text-align: right;\n",
       "    }\n",
       "</style>\n",
       "<table border=\"1\" class=\"dataframe\">\n",
       "  <thead>\n",
       "    <tr style=\"text-align: right;\">\n",
       "      <th></th>\n",
       "      <th>Rank</th>\n",
       "      <th>origin_tt_name</th>\n",
       "      <th>Category</th>\n",
       "      <th>Year</th>\n",
       "      <th>country</th>\n",
       "      <th>parenthesis</th>\n",
       "      <th>clean_tt</th>\n",
       "      <th>cleaned_category</th>\n",
       "    </tr>\n",
       "  </thead>\n",
       "  <tbody>\n",
       "  </tbody>\n",
       "</table>\n",
       "</div>"
      ],
      "text/plain": [
       "Empty DataFrame\n",
       "Columns: [Rank, origin_tt_name, Category, Year, country, parenthesis, clean_tt, cleaned_category]\n",
       "Index: []"
      ]
     },
     "execution_count": 72,
     "metadata": {},
     "output_type": "execute_result"
    }
   ],
   "source": [
    "#check for empty new categories\n",
    "\n",
    "#cleand_regions_tt[cleand_regions_tt['cleaned_category'].isnull()]\n",
    "#cleand_research_tt[cleand_research_tt['cleaned_category'].isnull()]\n",
    "cleand_special_tt[cleand_special_tt['cleaned_category'].isnull()]\n"
   ]
  },
  {
   "cell_type": "code",
   "execution_count": 73,
   "metadata": {},
   "outputs": [
    {
     "data": {
      "text/html": [
       "<div>\n",
       "<style scoped>\n",
       "    .dataframe tbody tr th:only-of-type {\n",
       "        vertical-align: middle;\n",
       "    }\n",
       "\n",
       "    .dataframe tbody tr th {\n",
       "        vertical-align: top;\n",
       "    }\n",
       "\n",
       "    .dataframe thead th {\n",
       "        text-align: right;\n",
       "    }\n",
       "</style>\n",
       "<table border=\"1\" class=\"dataframe\">\n",
       "  <thead>\n",
       "    <tr style=\"text-align: right;\">\n",
       "      <th></th>\n",
       "      <th>Rank</th>\n",
       "      <th>origin_tt_name</th>\n",
       "      <th>Category</th>\n",
       "      <th>Year</th>\n",
       "      <th>Country</th>\n",
       "      <th>parenthesis</th>\n",
       "      <th>clean_tt</th>\n",
       "      <th>cleaned_category</th>\n",
       "    </tr>\n",
       "  </thead>\n",
       "  <tbody>\n",
       "    <tr>\n",
       "      <th>0</th>\n",
       "      <td>1</td>\n",
       "      <td>brookings institution (united states)</td>\n",
       "      <td>Top 30 Think Tanks United States</td>\n",
       "      <td>2008</td>\n",
       "      <td>United States</td>\n",
       "      <td>['(united states)']</td>\n",
       "      <td>brookings institution</td>\n",
       "      <td>Top Think Tanks in the United States</td>\n",
       "    </tr>\n",
       "    <tr>\n",
       "      <th>1</th>\n",
       "      <td>2</td>\n",
       "      <td>council on foreign relations</td>\n",
       "      <td>Top 30 Think Tanks United States</td>\n",
       "      <td>2008</td>\n",
       "      <td>United States</td>\n",
       "      <td>[]</td>\n",
       "      <td>council on foreign relations</td>\n",
       "      <td>Top Think Tanks in the United States</td>\n",
       "    </tr>\n",
       "    <tr>\n",
       "      <th>2</th>\n",
       "      <td>3</td>\n",
       "      <td>carnegie endowment for international peace</td>\n",
       "      <td>Top 30 Think Tanks United States</td>\n",
       "      <td>2008</td>\n",
       "      <td>United States</td>\n",
       "      <td>[]</td>\n",
       "      <td>carnegie endowment for international peace</td>\n",
       "      <td>Top Think Tanks in the United States</td>\n",
       "    </tr>\n",
       "    <tr>\n",
       "      <th>3</th>\n",
       "      <td>4</td>\n",
       "      <td>rand corporation</td>\n",
       "      <td>Top 30 Think Tanks United States</td>\n",
       "      <td>2008</td>\n",
       "      <td>United States</td>\n",
       "      <td>[]</td>\n",
       "      <td>rand corporation</td>\n",
       "      <td>Top Think Tanks in the United States</td>\n",
       "    </tr>\n",
       "    <tr>\n",
       "      <th>4</th>\n",
       "      <td>5</td>\n",
       "      <td>heritage foundation</td>\n",
       "      <td>Top 30 Think Tanks United States</td>\n",
       "      <td>2008</td>\n",
       "      <td>United States</td>\n",
       "      <td>[]</td>\n",
       "      <td>heritage foundation</td>\n",
       "      <td>Top Think Tanks in the United States</td>\n",
       "    </tr>\n",
       "  </tbody>\n",
       "</table>\n",
       "</div>"
      ],
      "text/plain": [
       "   Rank                              origin_tt_name  \\\n",
       "0     1       brookings institution (united states)   \n",
       "1     2                council on foreign relations   \n",
       "2     3  carnegie endowment for international peace   \n",
       "3     4                            rand corporation   \n",
       "4     5                         heritage foundation   \n",
       "\n",
       "                           Category  Year        Country          parenthesis  \\\n",
       "0  Top 30 Think Tanks United States  2008  United States  ['(united states)']   \n",
       "1  Top 30 Think Tanks United States  2008  United States                   []   \n",
       "2  Top 30 Think Tanks United States  2008  United States                   []   \n",
       "3  Top 30 Think Tanks United States  2008  United States                   []   \n",
       "4  Top 30 Think Tanks United States  2008  United States                   []   \n",
       "\n",
       "                                     clean_tt  \\\n",
       "0                       brookings institution   \n",
       "1                council on foreign relations   \n",
       "2  carnegie endowment for international peace   \n",
       "3                            rand corporation   \n",
       "4                         heritage foundation   \n",
       "\n",
       "                       cleaned_category  \n",
       "0  Top Think Tanks in the United States  \n",
       "1  Top Think Tanks in the United States  \n",
       "2  Top Think Tanks in the United States  \n",
       "3  Top Think Tanks in the United States  \n",
       "4  Top Think Tanks in the United States  "
      ]
     },
     "execution_count": 73,
     "metadata": {},
     "output_type": "execute_result"
    }
   ],
   "source": [
    "cleand_regions_tt.head()"
   ]
  },
  {
   "cell_type": "code",
   "execution_count": 74,
   "metadata": {},
   "outputs": [],
   "source": [
    "writer = pd.ExcelWriter('../results/tts_conslidated_categories.xlsx', engine='xlsxwriter')\n",
    "cleand_regions_tt.to_excel(writer,sheet_name='regions',index=False)\n",
    "cleand_special_tt.to_excel(writer,sheet_name='special',index=False)\n",
    "cleand_research_tt.to_excel(writer,sheet_name='research_areas',index=False)\n",
    "writer.save()"
   ]
  },
  {
   "cell_type": "code",
   "execution_count": null,
   "metadata": {},
   "outputs": [],
   "source": []
  }
 ],
 "metadata": {
  "kernelspec": {
   "display_name": "Python 3",
   "language": "python",
   "name": "python3"
  },
  "language_info": {
   "codemirror_mode": {
    "name": "ipython",
    "version": 3
   },
   "file_extension": ".py",
   "mimetype": "text/x-python",
   "name": "python",
   "nbconvert_exporter": "python",
   "pygments_lexer": "ipython3",
   "version": "3.7.4"
  }
 },
 "nbformat": 4,
 "nbformat_minor": 4
}
