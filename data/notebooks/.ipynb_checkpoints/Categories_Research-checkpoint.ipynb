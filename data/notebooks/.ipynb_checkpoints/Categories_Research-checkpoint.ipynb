{
 "cells": [
  {
   "cell_type": "code",
   "execution_count": 2,
   "metadata": {},
   "outputs": [],
   "source": [
    "import pandas as pd\n",
    "import re\n",
    "import xlsxwriter"
   ]
  },
  {
   "cell_type": "code",
   "execution_count": 3,
   "metadata": {},
   "outputs": [],
   "source": [
    "file_path = '/Users/carlottabonn/Documents/GitHub/GGTTIR/data/zwischenstaende/Neuste_Version2.xlsx'"
   ]
  },
  {
   "cell_type": "code",
   "execution_count": 4,
   "metadata": {},
   "outputs": [
    {
     "ename": "FileNotFoundError",
     "evalue": "[Errno 2] No such file or directory: '/Users/carlottabonn/Documents/GitHub/GGTTIR/data/zwischenstaende/Neuste_Version2.xlsx'",
     "output_type": "error",
     "traceback": [
      "\u001b[0;31m---------------------------------------------------------------------------\u001b[0m",
      "\u001b[0;31mFileNotFoundError\u001b[0m                         Traceback (most recent call last)",
      "\u001b[0;32m<ipython-input-4-af2094dd8358>\u001b[0m in \u001b[0;36m<module>\u001b[0;34m\u001b[0m\n\u001b[0;32m----> 1\u001b[0;31m \u001b[0mdf_regions\u001b[0m \u001b[0;34m=\u001b[0m \u001b[0mpd\u001b[0m\u001b[0;34m.\u001b[0m\u001b[0mread_excel\u001b[0m\u001b[0;34m(\u001b[0m\u001b[0mfile_path\u001b[0m\u001b[0;34m,\u001b[0m\u001b[0msheet_name\u001b[0m\u001b[0;34m=\u001b[0m\u001b[0;34m'regions'\u001b[0m\u001b[0;34m)\u001b[0m\u001b[0;34m\u001b[0m\u001b[0;34m\u001b[0m\u001b[0m\n\u001b[0m\u001b[1;32m      2\u001b[0m \u001b[0mdf_special\u001b[0m \u001b[0;34m=\u001b[0m \u001b[0mpd\u001b[0m\u001b[0;34m.\u001b[0m\u001b[0mread_excel\u001b[0m\u001b[0;34m(\u001b[0m\u001b[0mfile_path\u001b[0m\u001b[0;34m,\u001b[0m\u001b[0msheet_name\u001b[0m\u001b[0;34m=\u001b[0m\u001b[0;34m'special_categories'\u001b[0m\u001b[0;34m)\u001b[0m\u001b[0;34m\u001b[0m\u001b[0;34m\u001b[0m\u001b[0m\n\u001b[1;32m      3\u001b[0m \u001b[0mdf_research\u001b[0m \u001b[0;34m=\u001b[0m \u001b[0mpd\u001b[0m\u001b[0;34m.\u001b[0m\u001b[0mread_excel\u001b[0m\u001b[0;34m(\u001b[0m\u001b[0mfile_path\u001b[0m\u001b[0;34m,\u001b[0m\u001b[0msheet_name\u001b[0m\u001b[0;34m=\u001b[0m\u001b[0;34m'research_areas'\u001b[0m\u001b[0;34m)\u001b[0m\u001b[0;34m\u001b[0m\u001b[0;34m\u001b[0m\u001b[0m\n",
      "\u001b[0;32m/usr/local/lib/python3.7/site-packages/pandas/util/_decorators.py\u001b[0m in \u001b[0;36mwrapper\u001b[0;34m(*args, **kwargs)\u001b[0m\n\u001b[1;32m    206\u001b[0m                 \u001b[0;32melse\u001b[0m\u001b[0;34m:\u001b[0m\u001b[0;34m\u001b[0m\u001b[0;34m\u001b[0m\u001b[0m\n\u001b[1;32m    207\u001b[0m                     \u001b[0mkwargs\u001b[0m\u001b[0;34m[\u001b[0m\u001b[0mnew_arg_name\u001b[0m\u001b[0;34m]\u001b[0m \u001b[0;34m=\u001b[0m \u001b[0mnew_arg_value\u001b[0m\u001b[0;34m\u001b[0m\u001b[0;34m\u001b[0m\u001b[0m\n\u001b[0;32m--> 208\u001b[0;31m             \u001b[0;32mreturn\u001b[0m \u001b[0mfunc\u001b[0m\u001b[0;34m(\u001b[0m\u001b[0;34m*\u001b[0m\u001b[0margs\u001b[0m\u001b[0;34m,\u001b[0m \u001b[0;34m**\u001b[0m\u001b[0mkwargs\u001b[0m\u001b[0;34m)\u001b[0m\u001b[0;34m\u001b[0m\u001b[0;34m\u001b[0m\u001b[0m\n\u001b[0m\u001b[1;32m    209\u001b[0m \u001b[0;34m\u001b[0m\u001b[0m\n\u001b[1;32m    210\u001b[0m         \u001b[0;32mreturn\u001b[0m \u001b[0mwrapper\u001b[0m\u001b[0;34m\u001b[0m\u001b[0;34m\u001b[0m\u001b[0m\n",
      "\u001b[0;32m/usr/local/lib/python3.7/site-packages/pandas/io/excel/_base.py\u001b[0m in \u001b[0;36mread_excel\u001b[0;34m(io, sheet_name, header, names, index_col, usecols, squeeze, dtype, engine, converters, true_values, false_values, skiprows, nrows, na_values, keep_default_na, verbose, parse_dates, date_parser, thousands, comment, skip_footer, skipfooter, convert_float, mangle_dupe_cols, **kwds)\u001b[0m\n\u001b[1;32m    308\u001b[0m \u001b[0;34m\u001b[0m\u001b[0m\n\u001b[1;32m    309\u001b[0m     \u001b[0;32mif\u001b[0m \u001b[0;32mnot\u001b[0m \u001b[0misinstance\u001b[0m\u001b[0;34m(\u001b[0m\u001b[0mio\u001b[0m\u001b[0;34m,\u001b[0m \u001b[0mExcelFile\u001b[0m\u001b[0;34m)\u001b[0m\u001b[0;34m:\u001b[0m\u001b[0;34m\u001b[0m\u001b[0;34m\u001b[0m\u001b[0m\n\u001b[0;32m--> 310\u001b[0;31m         \u001b[0mio\u001b[0m \u001b[0;34m=\u001b[0m \u001b[0mExcelFile\u001b[0m\u001b[0;34m(\u001b[0m\u001b[0mio\u001b[0m\u001b[0;34m,\u001b[0m \u001b[0mengine\u001b[0m\u001b[0;34m=\u001b[0m\u001b[0mengine\u001b[0m\u001b[0;34m)\u001b[0m\u001b[0;34m\u001b[0m\u001b[0;34m\u001b[0m\u001b[0m\n\u001b[0m\u001b[1;32m    311\u001b[0m     \u001b[0;32melif\u001b[0m \u001b[0mengine\u001b[0m \u001b[0;32mand\u001b[0m \u001b[0mengine\u001b[0m \u001b[0;34m!=\u001b[0m \u001b[0mio\u001b[0m\u001b[0;34m.\u001b[0m\u001b[0mengine\u001b[0m\u001b[0;34m:\u001b[0m\u001b[0;34m\u001b[0m\u001b[0;34m\u001b[0m\u001b[0m\n\u001b[1;32m    312\u001b[0m         raise ValueError(\n",
      "\u001b[0;32m/usr/local/lib/python3.7/site-packages/pandas/io/excel/_base.py\u001b[0m in \u001b[0;36m__init__\u001b[0;34m(self, io, engine)\u001b[0m\n\u001b[1;32m    817\u001b[0m         \u001b[0mself\u001b[0m\u001b[0;34m.\u001b[0m\u001b[0m_io\u001b[0m \u001b[0;34m=\u001b[0m \u001b[0m_stringify_path\u001b[0m\u001b[0;34m(\u001b[0m\u001b[0mio\u001b[0m\u001b[0;34m)\u001b[0m\u001b[0;34m\u001b[0m\u001b[0;34m\u001b[0m\u001b[0m\n\u001b[1;32m    818\u001b[0m \u001b[0;34m\u001b[0m\u001b[0m\n\u001b[0;32m--> 819\u001b[0;31m         \u001b[0mself\u001b[0m\u001b[0;34m.\u001b[0m\u001b[0m_reader\u001b[0m \u001b[0;34m=\u001b[0m \u001b[0mself\u001b[0m\u001b[0;34m.\u001b[0m\u001b[0m_engines\u001b[0m\u001b[0;34m[\u001b[0m\u001b[0mengine\u001b[0m\u001b[0;34m]\u001b[0m\u001b[0;34m(\u001b[0m\u001b[0mself\u001b[0m\u001b[0;34m.\u001b[0m\u001b[0m_io\u001b[0m\u001b[0;34m)\u001b[0m\u001b[0;34m\u001b[0m\u001b[0;34m\u001b[0m\u001b[0m\n\u001b[0m\u001b[1;32m    820\u001b[0m \u001b[0;34m\u001b[0m\u001b[0m\n\u001b[1;32m    821\u001b[0m     \u001b[0;32mdef\u001b[0m \u001b[0m__fspath__\u001b[0m\u001b[0;34m(\u001b[0m\u001b[0mself\u001b[0m\u001b[0;34m)\u001b[0m\u001b[0;34m:\u001b[0m\u001b[0;34m\u001b[0m\u001b[0;34m\u001b[0m\u001b[0m\n",
      "\u001b[0;32m/usr/local/lib/python3.7/site-packages/pandas/io/excel/_xlrd.py\u001b[0m in \u001b[0;36m__init__\u001b[0;34m(self, filepath_or_buffer)\u001b[0m\n\u001b[1;32m     19\u001b[0m         \u001b[0merr_msg\u001b[0m \u001b[0;34m=\u001b[0m \u001b[0;34m\"Install xlrd >= 1.0.0 for Excel support\"\u001b[0m\u001b[0;34m\u001b[0m\u001b[0;34m\u001b[0m\u001b[0m\n\u001b[1;32m     20\u001b[0m         \u001b[0mimport_optional_dependency\u001b[0m\u001b[0;34m(\u001b[0m\u001b[0;34m\"xlrd\"\u001b[0m\u001b[0;34m,\u001b[0m \u001b[0mextra\u001b[0m\u001b[0;34m=\u001b[0m\u001b[0merr_msg\u001b[0m\u001b[0;34m)\u001b[0m\u001b[0;34m\u001b[0m\u001b[0;34m\u001b[0m\u001b[0m\n\u001b[0;32m---> 21\u001b[0;31m         \u001b[0msuper\u001b[0m\u001b[0;34m(\u001b[0m\u001b[0;34m)\u001b[0m\u001b[0;34m.\u001b[0m\u001b[0m__init__\u001b[0m\u001b[0;34m(\u001b[0m\u001b[0mfilepath_or_buffer\u001b[0m\u001b[0;34m)\u001b[0m\u001b[0;34m\u001b[0m\u001b[0;34m\u001b[0m\u001b[0m\n\u001b[0m\u001b[1;32m     22\u001b[0m \u001b[0;34m\u001b[0m\u001b[0m\n\u001b[1;32m     23\u001b[0m     \u001b[0;34m@\u001b[0m\u001b[0mproperty\u001b[0m\u001b[0;34m\u001b[0m\u001b[0;34m\u001b[0m\u001b[0m\n",
      "\u001b[0;32m/usr/local/lib/python3.7/site-packages/pandas/io/excel/_base.py\u001b[0m in \u001b[0;36m__init__\u001b[0;34m(self, filepath_or_buffer)\u001b[0m\n\u001b[1;32m    357\u001b[0m             \u001b[0mself\u001b[0m\u001b[0;34m.\u001b[0m\u001b[0mbook\u001b[0m \u001b[0;34m=\u001b[0m \u001b[0mself\u001b[0m\u001b[0;34m.\u001b[0m\u001b[0mload_workbook\u001b[0m\u001b[0;34m(\u001b[0m\u001b[0mfilepath_or_buffer\u001b[0m\u001b[0;34m)\u001b[0m\u001b[0;34m\u001b[0m\u001b[0;34m\u001b[0m\u001b[0m\n\u001b[1;32m    358\u001b[0m         \u001b[0;32melif\u001b[0m \u001b[0misinstance\u001b[0m\u001b[0;34m(\u001b[0m\u001b[0mfilepath_or_buffer\u001b[0m\u001b[0;34m,\u001b[0m \u001b[0mstr\u001b[0m\u001b[0;34m)\u001b[0m\u001b[0;34m:\u001b[0m\u001b[0;34m\u001b[0m\u001b[0;34m\u001b[0m\u001b[0m\n\u001b[0;32m--> 359\u001b[0;31m             \u001b[0mself\u001b[0m\u001b[0;34m.\u001b[0m\u001b[0mbook\u001b[0m \u001b[0;34m=\u001b[0m \u001b[0mself\u001b[0m\u001b[0;34m.\u001b[0m\u001b[0mload_workbook\u001b[0m\u001b[0;34m(\u001b[0m\u001b[0mfilepath_or_buffer\u001b[0m\u001b[0;34m)\u001b[0m\u001b[0;34m\u001b[0m\u001b[0;34m\u001b[0m\u001b[0m\n\u001b[0m\u001b[1;32m    360\u001b[0m         \u001b[0;32melse\u001b[0m\u001b[0;34m:\u001b[0m\u001b[0;34m\u001b[0m\u001b[0;34m\u001b[0m\u001b[0m\n\u001b[1;32m    361\u001b[0m             raise ValueError(\n",
      "\u001b[0;32m/usr/local/lib/python3.7/site-packages/pandas/io/excel/_xlrd.py\u001b[0m in \u001b[0;36mload_workbook\u001b[0;34m(self, filepath_or_buffer)\u001b[0m\n\u001b[1;32m     34\u001b[0m             \u001b[0;32mreturn\u001b[0m \u001b[0mopen_workbook\u001b[0m\u001b[0;34m(\u001b[0m\u001b[0mfile_contents\u001b[0m\u001b[0;34m=\u001b[0m\u001b[0mdata\u001b[0m\u001b[0;34m)\u001b[0m\u001b[0;34m\u001b[0m\u001b[0;34m\u001b[0m\u001b[0m\n\u001b[1;32m     35\u001b[0m         \u001b[0;32melse\u001b[0m\u001b[0;34m:\u001b[0m\u001b[0;34m\u001b[0m\u001b[0;34m\u001b[0m\u001b[0m\n\u001b[0;32m---> 36\u001b[0;31m             \u001b[0;32mreturn\u001b[0m \u001b[0mopen_workbook\u001b[0m\u001b[0;34m(\u001b[0m\u001b[0mfilepath_or_buffer\u001b[0m\u001b[0;34m)\u001b[0m\u001b[0;34m\u001b[0m\u001b[0;34m\u001b[0m\u001b[0m\n\u001b[0m\u001b[1;32m     37\u001b[0m \u001b[0;34m\u001b[0m\u001b[0m\n\u001b[1;32m     38\u001b[0m     \u001b[0;34m@\u001b[0m\u001b[0mproperty\u001b[0m\u001b[0;34m\u001b[0m\u001b[0;34m\u001b[0m\u001b[0m\n",
      "\u001b[0;32m/usr/local/lib/python3.7/site-packages/xlrd/__init__.py\u001b[0m in \u001b[0;36mopen_workbook\u001b[0;34m(filename, logfile, verbosity, use_mmap, file_contents, encoding_override, formatting_info, on_demand, ragged_rows)\u001b[0m\n\u001b[1;32m    109\u001b[0m     \u001b[0;32melse\u001b[0m\u001b[0;34m:\u001b[0m\u001b[0;34m\u001b[0m\u001b[0;34m\u001b[0m\u001b[0m\n\u001b[1;32m    110\u001b[0m         \u001b[0mfilename\u001b[0m \u001b[0;34m=\u001b[0m \u001b[0mos\u001b[0m\u001b[0;34m.\u001b[0m\u001b[0mpath\u001b[0m\u001b[0;34m.\u001b[0m\u001b[0mexpanduser\u001b[0m\u001b[0;34m(\u001b[0m\u001b[0mfilename\u001b[0m\u001b[0;34m)\u001b[0m\u001b[0;34m\u001b[0m\u001b[0;34m\u001b[0m\u001b[0m\n\u001b[0;32m--> 111\u001b[0;31m         \u001b[0;32mwith\u001b[0m \u001b[0mopen\u001b[0m\u001b[0;34m(\u001b[0m\u001b[0mfilename\u001b[0m\u001b[0;34m,\u001b[0m \u001b[0;34m\"rb\"\u001b[0m\u001b[0;34m)\u001b[0m \u001b[0;32mas\u001b[0m \u001b[0mf\u001b[0m\u001b[0;34m:\u001b[0m\u001b[0;34m\u001b[0m\u001b[0;34m\u001b[0m\u001b[0m\n\u001b[0m\u001b[1;32m    112\u001b[0m             \u001b[0mpeek\u001b[0m \u001b[0;34m=\u001b[0m \u001b[0mf\u001b[0m\u001b[0;34m.\u001b[0m\u001b[0mread\u001b[0m\u001b[0;34m(\u001b[0m\u001b[0mpeeksz\u001b[0m\u001b[0;34m)\u001b[0m\u001b[0;34m\u001b[0m\u001b[0;34m\u001b[0m\u001b[0m\n\u001b[1;32m    113\u001b[0m     \u001b[0;32mif\u001b[0m \u001b[0mpeek\u001b[0m \u001b[0;34m==\u001b[0m \u001b[0;34mb\"PK\\x03\\x04\"\u001b[0m\u001b[0;34m:\u001b[0m \u001b[0;31m# a ZIP file\u001b[0m\u001b[0;34m\u001b[0m\u001b[0;34m\u001b[0m\u001b[0m\n",
      "\u001b[0;31mFileNotFoundError\u001b[0m: [Errno 2] No such file or directory: '/Users/carlottabonn/Documents/GitHub/GGTTIR/data/zwischenstaende/Neuste_Version2.xlsx'"
     ]
    }
   ],
   "source": [
    "df_regions = pd.read_excel(file_path,sheet_name='regions')\n",
    "df_special = pd.read_excel(file_path,sheet_name='special_categories')\n",
    "df_research = pd.read_excel(file_path,sheet_name='research_areas')"
   ]
  },
  {
   "cell_type": "markdown",
   "metadata": {},
   "source": [
    "## Research"
   ]
  },
  {
   "cell_type": "code",
   "execution_count": 4,
   "metadata": {},
   "outputs": [],
   "source": [
    "df_research['Category']=df_research['Category'].str.replace('Top 10 Domestic Economic Policy Think Tanks','Top Domestic Economic Policy Think Tanks')\n",
    "df_research['Category']=df_research['Category'].str.replace('Top 10 Environment Think Tanks','Top Environment Policy Think Tanks')\n",
    "df_research['Category']=df_research['Category'].str.replace('Top 10 Health Policy Think Tanks','Top Health Policy Think Tanks')\n",
    "df_research['Category']=df_research['Category'].str.replace('Top 10 International Development','Top International Development Policy Think Tanks')\n",
    "df_research['Category']=df_research['Category'].str.replace('Top 10 International Development Think Tanks','Top International Development Policy Think Tanks')\n",
    "df_research['Category']=df_research['Category'].str.replace('Top 10 International Economic Policy Think Tanks','Top International Economics Policy Think Tanks')\n",
    "df_research['Category']=df_research['Category'].str.replace('Top 10 Science and Technology Think Tanks','Top Science and Technology Policy Think Tanks')\n",
    "df_research['Category']=df_research['Category'].str.replace('Top 10 Security and International Affairs Think Tanks','Top Security and International Affairs Think Tanks')\n",
    "df_research['Category']=df_research['Category'].str.replace('Top 10 Social Policy Think Tanks','Top Social Policy Think Tanks')\n",
    "df_research['Category']=df_research['Category'].str.replace('Top 11 Environment Think Tanks','Top Environment Policy Think Tanks')\n",
    "df_research['Category']=df_research['Category'].str.replace('Top 12 International Economic Policy Think Tanks','Top International Economics Policy Think Tanks')\n",
    "df_research['Category']=df_research['Category'].str.replace('Top 15 Health Policy Think Tanks','Top Health Policy Think Tanks')\n",
    "df_research['Category']=df_research['Category'].str.replace('Top 20 Energy and Resource Policy Think Tanks','Top Energy and Resource Policy Think Tanks')\n",
    "df_research['Category']=df_research['Category'].str.replace('Top 20 Transparency and Good Governance Think Tanks','Top Transparency and Good Governance Think Tanks')\n",
    "df_research['Category']=df_research['Category'].str.replace('Top 25 Domestic Economic Policy Think Tanks','Top Domestic Economic Policy Think Tanks')\n",
    "df_research['Category']=df_research['Category'].str.replace('Top 25 Environment Think Tanks','Top Environment Policy Think Tanks')\n",
    "df_research['Category']=df_research['Category'].str.replace('Top 25 International Development Think Tank','Top International Development Policy Think Tanks')\n",
    "df_research['Category']=df_research['Category'].str.replace('Top 25 International Economic Policy Think Tanks','Top International Economics Policy Think Tanks')\n",
    "df_research['Category']=df_research['Category'].str.replace('Top 25 Science and Technology Think Tanks','Top Science and Technology Policy Think Tanks')\n",
    "df_research['Category']=df_research['Category'].str.replace('Top 25 Security and International Affairs Think Tanks','Top Security and International Affairs Think Tanks')\n",
    "df_research['Category']=df_research['Category'].str.replace('Top 25 Social Policy Think Tanks','Top Social Policy Think Tanks')\n",
    "df_research['Category']=df_research['Category'].str.replace('Top 30 Health Policy Think Tanks','Top Health Policy Think Tanks')\n",
    "df_research['Category']=df_research['Category'].str.replace('Top 30 Transparency and Good Governance Think Tanks','Top Transparency and Good Governance Think Tanks')\n",
    "df_research['Category']=df_research['Category'].str.replace('Top 50 International Economic Policy Think Tanks','Top International Economics Policy Think Tanks')\n",
    "df_research['Category']=df_research['Category'].str.replace('Top 50 Science and Technology Think Tanks','Top Science and Technology Policy Think Tanks')\n",
    "df_research['Category']=df_research['Category'].str.replace('Top 50 Social Policy Think Tanks','Top Social Policy Think Tanks')\n",
    "df_research['Category']=df_research['Category'].str.replace('Top 70 Environment Think Tanks','Top Environment Policy Think Tanks')\n",
    "df_research['Category']=df_research['Category'].str.replace('Top 70 Security and International Affairs Think Tanks','Top Security and International Affairs Think Tanks')\n",
    "df_research['Category']=df_research['Category'].str.replace('Top 80 Domestic Economic Policy Think Tanks','Top Domestic Economic Policy Think Tanks')\n",
    "df_research['Category']=df_research['Category'].str.replace('Top 80 International Development Think Tanks','Top International Development Policy Think Tanks')\n",
    "df_research['Category']=df_research['Category'].str.replace('Top Defense and National Security','Top Defense and National Security Think Tanks')\n",
    "df_research['Category']=df_research['Category'].str.replace('Top Environment Think Tanks','Top Environment Policy Think Tanks')\n",
    "df_research['Category']=df_research['Category'].str.replace('Top Fifty Security and International Affairs Think Tanks','Top Security and International Affairs Think Tanks')\n",
    "df_research['Category']=df_research['Category'].str.replace('Top International Development Think Tanks','Top International Development Policy Think Tanks')\n",
    "df_research['Category']=df_research['Category'].str.replace('Top International Economic Policy Think Tanks','Top International Economics Policy Think Tanks')\n",
    "df_research['Category']=df_research['Category'].str.replace('Top International Economics Think Tanks','Top International Economics Policy Think Tanks')\n",
    "df_research['Category']=df_research['Category'].str.replace('Top Science and Technology Think Tanks','Top Science and Technology Policy Think Tanks')\n",
    "df_research['Category']=df_research['Category'].str.replace('Top Thirty Domestic Economic Policy Think Tanks','Top Domestic Economic Policy Think Tanks')\n",
    "df_research['Category']=df_research['Category'].str.replace('Top Thirty Environment Think Tanks','Top Environment Policy Think Tanks')\n",
    "df_research['Category']=df_research['Category'].str.replace('Top Thirty Health Policy Think Tanks','Top Health Policy Think Tanks')\n",
    "df_research['Category']=df_research['Category'].str.replace('Top Thirty International Development Think Tanks','Top International Development Policy Think Tanks')\n",
    "df_research['Category']=df_research['Category'].str.replace('Top Thirty International Economic Policy Think Tanks','Top International Economics Policy Think Tanks')\n",
    "df_research['Category']=df_research['Category'].str.replace('Top Thirty Science and Technology Think Tanks','Top Science and Technology Policy Think Tanks')\n",
    "df_research['Category']=df_research['Category'].str.replace('Top Thirty Social Policy Think Tanks','Top Social Policy Think Tanks')\n",
    "df_research['Category']=df_research['Category'].str.replace('Top Thirty Transparency and Good Governance Think Tanks','Top Transparency and Good Governance Think Tanks')"
   ]
  },
  {
   "cell_type": "code",
   "execution_count": null,
   "metadata": {},
   "outputs": [],
   "source": [
    "writer = pd.ExcelWriter('Neue_Kategorien_research.xlsx', engine='xlsxwriter')\n",
    "df_research.to_excel(writer,sheet_name='research')\n",
    "writer.save()"
   ]
  },
  {
   "cell_type": "markdown",
   "metadata": {},
   "source": [
    "## Regions "
   ]
  },
  {
   "cell_type": "code",
   "execution_count": null,
   "metadata": {},
   "outputs": [],
   "source": [
    "df_regions['Category']=df_regions['Category'].str.replace('Top 10 Think Tanks â€“ United States','Top Think Tanks in the United States')\n",
    "df_regions['Category']=df_regions['Category'].str.replace('Top 100 Think Tanks â€“ Worldwide (Non-US)', 'Top Think Tanks worldwide (non-US)')\n",
    "df_regions['Category']=df_regions['Category'].str.replace('Top 150 Think Tanks â€“ Worldwide (US and Non-US)', 'Top Think Tanks Worldwide (US and non-US)')\n",
    "df_regions['Category']=df_regions['Category'].str.replace('Top 30 Think Tanks United States','Top Think Tanks in the United States')\n",
    "df_regions['Category']=df_regions['Category'].str.replace('Top 25 Central and Eastern European Think Tanks', 'Top Think Tanks in Central and Eastern Europe')\n",
    "df_regions['Category']=df_regions['Category'].str.replace('Top 25 Think Tanks in Middle East and North Africa','Top Think Tanks in Middle East and North Africa(MENA)')\n",
    "df_regions['Category']=df_regions['Category'].str.replace('Top 25 Think Tanks in Western Europe', 'Top Think Tanks in Western Europe')\n",
    "df_regions['Category']=df_regions['Category'].str.replace('Top 25 Think Tanks â€“ Worldwide (US and Non-US)','Top Think Tanks Worldwide (US and non-US)')\n",
    "df_regions['Category']=df_regions['Category'].str.replace('Top 30 Central and Eastern European Think Tanks', 'Top Think Tanks in Central and Eastern Europe')\n",
    "df_regions['Category']=df_regions['Category'].str.replace('Top 30 Think Tanks in Mexico and Canada', 'Top Think Tanks in Mexico and Canada')\n",
    "df_regions['Category']=df_regions['Category'].str.replace('Top 40 Think Tanks in Asia', 'Top Think Tanks in Asia')\n",
    "df_regions['Category']=df_regions['Category'].str.replace('Top 25 Think Tanks in Asia', 'Top Think Tanks in Asia')\n",
    "df_regions['Category']=df_regions['Category'].str.replace('Top 40 Think Tanks in Western Europe', 'Top Think Tanks in Western Europe')\n",
    "df_regions['Category']=df_regions['Category'].str.replace('Top 45 Think Tanks in China, India, Japan, and the Republic of Korea', 'Top Think Tanks in China, India, Japan, and the Republic of Korea')\n",
    "df_regions['Category']=df_regions['Category'].str.replace('Top 45 Think Tanks in Middle East and North Africa (MENA)','Top Think Tanks in Middle East and North Africa(MENA)')\n",
    "df_regions['Category']=df_regions['Category'].str.replace('Top 50 Think Tanks â€“ United States','Top Think Tanks in the United States')\n",
    "df_regions['Category']=df_regions['Category'].str.replace('Top 50 Think Tanks â€“ Worldwide (Non-US)', 'Top Think Tanks worldwide (non-US)')\n",
    "df_regions['Category']=df_regions['Category'].str.replace('Top 50 Think Tanks--United States','Top Think Tanks in the United States') \n",
    "df_regions['Category']=df_regions['Category'].str.replace('Top 55 Think Tanks in the United States','Top Think Tanks in the United States')\n",
    "df_regions['Category']=df_regions['Category'].str.replace('Top 60 Think Tanks in Central and Eastern Europe', 'Top Think Tanks in Central and Eastern Europe')\n",
    "df_regions['Category']=df_regions['Category'].str.replace('Top 75 Think Tanks in Western Europe','Top Think Tanks in Western Europe')\n",
    "df_regions['Category']=df_regions['Category'].str.replace('Top Fifty Think Tanks in Western Europe','Top Think Tanks in Western Europe')\n",
    "df_regions['Category']=df_regions['Category'].str.replace('Top Fifty Think Tanks in the United States','Top Think Tanks in the United States')\n",
    "df_regions['Category']=df_regions['Category'].str.replace('Top Fifty Think Tanks â€“ Worldwide (Non-US)','Top Think Tanks worldwide (non-US)')\n",
    "df_regions['Category']=df_regions['Category'].str.replace('Top Think Tanks Worldwide (Non-US)','Top Think Tanks worldwide (non-US)')\n",
    "df_regions['Category']=df_regions['Category'].str.replace('Top Think Tanks Worldwide (US and non- US)','Top Think Tanks Worldwide (US and non-US)')\n",
    "df_regions['Category']=df_regions['Category'].str.replace('Top Think Tanks Worldwide (non-US)','Top Think Tanks worldwide (non-US)')\n",
    "df_regions['Category']=df_regions['Category'].str.replace('Top Think Tanks in China, India, Japan,and the Republic of Korea', 'Top Think Tanks in China, India, Japan, and the Republic of Korea')\n",
    "df_regions['Category']=df_regions['Category'].str.replace('Top Think Tanks in United States','Top Think Tanks in the United States')\n",
    "df_regions['Category']=df_regions['Category'].str.replace('Top Think Tanks in the Middle East and North Africa (MENA)','Top Think Tanks in Middle East and North Africa(MENA)')\n",
    "df_regions['Category']=df_regions['Category'].str.replace('Top Thirty Think Tanks in Asia','Top Think Tanks in Asia')\n",
    "df_regions['Category']=df_regions['Category'].str.replace('Top Thirty Think Tanks in Central and Eastern Europe','Top Think Tanks in Central and Eastern Europe')\n",
    "df_regions['Category']=df_regions['Category'].str.replace('Top Thirty Think Tanks in Sub-Saharan Africa','Top Think Tanks in Sub-Saharan Africa')\n",
    "df_regions['Category']=df_regions['Category'].str.replace('Top Thirty Think Tanks in the Middle East and North Africa (MENA)','Top Think Tanks in Middle East and North Africa(MENA)')\n",
    "df_regions['Category']=df_regions['Category'].str.replace('Top Thirty Think Tanks â€“ Worldwide (US and Non-US)', 'Top Think Tanks Worldwide (US and non-US)')"
   ]
  },
  {
   "cell_type": "code",
   "execution_count": null,
   "metadata": {},
   "outputs": [],
   "source": [
    "df_regions.head()"
   ]
  },
  {
   "cell_type": "code",
   "execution_count": null,
   "metadata": {},
   "outputs": [],
   "source": [
    "writer = pd.ExcelWriter('Regions.xlsx', engine='xlsxwriter')\n",
    "df_regions.to_excel(writer,sheet_name='regions')\n",
    "writer.save()"
   ]
  },
  {
   "cell_type": "markdown",
   "metadata": {},
   "source": [
    "## Special Categories"
   ]
  },
  {
   "cell_type": "markdown",
   "metadata": {},
   "source": [
    "df_special['Category']=df_special['Category'].str.replace(',Best Think Tanks with Political Party Affiliation','Best Think Tanks with a Political Party Affiliation')\n",
    "df_special['Category']=df_special['Category'].str.replace('Best Advocay Campaign','Best Advocacy Campaign')\n",
    "df_special['Category']=df_special['Category'].str.replace('Best External Relations/Public Engagement Program','Think Tanks with the Best External Relations/Public Engagement Program')\n",
    "df_special['Category']=df_special['Category'].str.replace('Best For Profit Think Tanks','Best for Profit Think Tanks')\n",
    "df_special['Category']=df_special['Category'].str.replace('Best Institutional Collaboration Involving Two or More Think','Best Institutional Collaboration Involving Two or More Think Tanks')\n",
    "df_special['Category']=df_special['Category'].str.replace\n",
    "df_special['Category']=df_special['Category'].str.replace\n",
    "df_special['Category']=df_special['Category'].str.replace\n",
    "df_special['Category']=df_special['Category'].str.replace\n",
    "df_special['Category']=df_special['Category'].str.replace\n",
    "df_special['Category']=df_special['Category'].str.replace\n",
    "df_special['Category']=df_special['Category'].str.replace\n",
    "df_special['Category']=df_special['Category'].str.replace\n",
    "df_special['Category']=df_special['Category'].str.replace\n",
    "df_special['Category']=df_special['Category'].str.replace\n",
    "df_special['Category']=df_special['Category'].str.replace\n",
    "df_special['Category']=df_special['Category'].str.replace\n",
    "df_special['Category']=df_special['Category'].str.replace\n",
    "df_special['Category']=df_special['Category'].str.replace\n",
    "df_special['Category']=df_special['Category'].str.replace\n",
    "df_special['Category']=df_special['Category'].str.replace\n",
    "df_special['Category']=df_special['Category'].str.replace\n",
    "df_special['Category']=df_special['Category'].str.replace\n",
    "df_special['Category']=df_special['Category'].str.replace\n",
    "df_special['Category']=df_special['Category'].str.replace\n",
    "\n"
   ]
  }
 ],
 "metadata": {
  "kernelspec": {
   "display_name": "Python 3",
   "language": "python",
   "name": "python3"
  },
  "language_info": {
   "codemirror_mode": {
    "name": "ipython",
    "version": 3
   },
   "file_extension": ".py",
   "mimetype": "text/x-python",
   "name": "python",
   "nbconvert_exporter": "python",
   "pygments_lexer": "ipython3",
   "version": "3.7.4"
  }
 },
 "nbformat": 4,
 "nbformat_minor": 4
}
