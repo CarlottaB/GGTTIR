{
 "cells": [
  {
   "cell_type": "code",
   "execution_count": 8,
   "metadata": {},
   "outputs": [],
   "source": [
    "import pandas as pd\n",
    "import re\n",
    "import xlsxwriter"
   ]
  },
  {
   "cell_type": "code",
   "execution_count": 9,
   "metadata": {},
   "outputs": [],
   "source": [
    "file_path = '/Users/carlottabonn/Documents/GitHub/GGTTIR/data/zwischenstaende/Neuste_Version2.xlsx'"
   ]
  },
  {
   "cell_type": "code",
   "execution_count": 10,
   "metadata": {},
   "outputs": [],
   "source": [
    "df_regions = pd.read_excel(file_path,sheet_name='regions')\n",
    "df_special = pd.read_excel(file_path,sheet_name='special_categories')\n",
    "df_research = pd.read_excel(file_path,sheet_name='research_areas')"
   ]
  },
  {
   "cell_type": "code",
   "execution_count": 11,
   "metadata": {},
   "outputs": [],
   "source": [
    "df_research['Category']=df_research['Category'].str.replace('Top 10 Domestic Economic Policy Think Tanks','Top Domestic Economic Policy Think Tanks')\n",
    "df_research['Category']=df_research['Category'].str.replace('Top 10 Environment Think Tanks','Top Environment Policy Think Tanks')\n",
    "df_research['Category']=df_research['Category'].str.replace('Top 10 Health Policy Think Tanks','Top Health Policy Think Tanks')\n",
    "df_research['Category']=df_research['Category'].str.replace('Top 10 International Development','Top International Development Policy Think Tanks')\n",
    "df_research['Category']=df_research['Category'].str.replace('Top 10 International Development Think Tanks','Top International Development Policy Think Tanks')\n",
    "df_research['Category']=df_research['Category'].str.replace('Top 10 International Economic Policy Think Tanks','Top International Economics Policy Think Tanks')\n",
    "df_research['Category']=df_research['Category'].str.replace('Top 10 Science and Technology Think Tanks','Top Science and Technology Policy Think Tanks')\n",
    "df_research['Category']=df_research['Category'].str.replace('Top 10 Security and International Affairs Think Tanks','Top Security and International Affairs Think Tanks')\n",
    "df_research['Category']=df_research['Category'].str.replace('Top 10 Social Policy Think Tanks','Top Social Policy Think Tanks')\n",
    "df_research['Category']=df_research['Category'].str.replace('Top 11 Environment Think Tanks','Top Environment Policy Think Tanks')\n",
    "df_research['Category']=df_research['Category'].str.replace('Top 12 International Economic Policy Think Tanks','Top International Economics Policy Think Tanks')\n",
    "df_research['Category']=df_research['Category'].str.replace('Top 15 Health Policy Think Tanks','Top Health Policy Think Tanks')\n",
    "df_research['Category']=df_research['Category'].str.replace('Top 20 Energy and Resource Policy Think Tanks','Top Energy and Resource Policy Think Tanks')\n",
    "df_research['Category']=df_research['Category'].str.replace('Top 20 Transparency and Good Governance Think Tanks','Top Transparency and Good Governance Think Tanks')\n",
    "df_research['Category']=df_research['Category'].str.replace('Top 25 Domestic Economic Policy Think Tanks','Top Domestic Economic Policy Think Tanks')\n",
    "df_research['Category']=df_research['Category'].str.replace('Top 25 Environment Think Tanks','Top Environment Policy Think Tanks')\n",
    "df_research['Category']=df_research['Category'].str.replace('Top 25 International Development Think Tank','Top International Development Policy Think Tanks')\n",
    "df_research['Category']=df_research['Category'].str.replace('Top 25 International Economic Policy Think Tanks','Top International Economics Policy Think Tanks')\n",
    "df_research['Category']=df_research['Category'].str.replace('Top 25 Science and Technology Think Tanks','Top Science and Technology Policy Think Tanks')\n",
    "df_research['Category']=df_research['Category'].str.replace('Top 25 Security and International Affairs Think Tanks','Top Security and International Affairs Think Tanks')\n",
    "df_research['Category']=df_research['Category'].str.replace('Top 25 Social Policy Think Tanks','Top Social Policy Think Tanks')\n",
    "df_research['Category']=df_research['Category'].str.replace('Top 30 Health Policy Think Tanks','Top Health Policy Think Tanks')\n",
    "df_research['Category']=df_research['Category'].str.replace('Top 30 Transparency and Good Governance Think Tanks','Top Transparency and Good Governance Think Tanks')\n",
    "df_research['Category']=df_research['Category'].str.replace('Top 50 International Economic Policy Think Tanks','Top International Economics Policy Think Tanks')\n",
    "df_research['Category']=df_research['Category'].str.replace('Top 50 Science and Technology Think Tanks','Top Science and Technology Policy Think Tanks')\n",
    "df_research['Category']=df_research['Category'].str.replace('Top 50 Social Policy Think Tanks','Top Social Policy Think Tanks')\n",
    "df_research['Category']=df_research['Category'].str.replace('Top 70 Environment Think Tanks','Top Environment Policy Think Tanks')\n",
    "df_research['Category']=df_research['Category'].str.replace('Top 70 Security and International Affairs Think Tanks','Top Security and International Affairs Think Tanks')\n",
    "df_research['Category']=df_research['Category'].str.replace('Top 80 Domestic Economic Policy Think Tanks','Top Domestic Economic Policy Think Tanks')\n",
    "df_research['Category']=df_research['Category'].str.replace('Top 80 International Development Think Tanks','Top International Development Policy Think Tanks')\n",
    "df_research['Category']=df_research['Category'].str.replace('Top Defense and National Security','Top Defense and National Security Think Tanks')\n",
    "df_research['Category']=df_research['Category'].str.replace('Top Environment Think Tanks','Top Environment Policy Think Tanks')\n",
    "df_research['Category']=df_research['Category'].str.replace('Top Fifty Security and International Affairs Think Tanks','Top Security and International Affairs Think Tanks')\n",
    "df_research['Category']=df_research['Category'].str.replace('Top International Development Think Tanks','Top International Development Policy Think Tanks')\n",
    "df_research['Category']=df_research['Category'].str.replace('Top International Economic Policy Think Tanks','Top International Economics Policy Think Tanks')\n",
    "df_research['Category']=df_research['Category'].str.replace('Top International Economics Think Tanks','Top International Economics Policy Think Tanks')\n",
    "df_research['Category']=df_research['Category'].str.replace('Top Science and Technology Think Tanks','Top Science and Technology Policy Think Tanks')\n",
    "df_research['Category']=df_research['Category'].str.replace('Top Thirty Domestic Economic Policy Think Tanks','Top Domestic Economic Policy Think Tanks')\n",
    "df_research['Category']=df_research['Category'].str.replace('Top Thirty Environment Think Tanks','Top Environment Policy Think Tanks')\n",
    "df_research['Category']=df_research['Category'].str.replace('Top Thirty Health Policy Think Tanks','Top Health Policy Think Tanks')\n",
    "df_research['Category']=df_research['Category'].str.replace('Top Thirty International Development Think Tanks','Top International Development Policy Think Tanks')\n",
    "df_research['Category']=df_research['Category'].str.replace('Top Thirty International Economic Policy Think Tanks','Top International Economics Policy Think Tanks')\n",
    "df_research['Category']=df_research['Category'].str.replace('Top Thirty Science and Technology Think Tanks','Top Science and Technology Policy Think Tanks')\n",
    "df_research['Category']=df_research['Category'].str.replace('Top Thirty Social Policy Think Tanks','Top Social Policy Think Tanks')\n",
    "df_research['Category']=df_research['Category'].str.replace('Top Thirty Transparency and Good Governance Think Tanks','Top Transparency and Good Governance Think Tanks')"
   ]
  },
  {
   "cell_type": "code",
   "execution_count": 12,
   "metadata": {},
   "outputs": [],
   "source": [
    "writer = pd.ExcelWriter('Neue_Kategorien_research.xlsx', engine='xlsxwriter')\n",
    "df_research.to_excel(writer,sheet_name='research')\n",
    "writer.save()"
   ]
  },
  {
   "cell_type": "markdown",
   "metadata": {},
   "source": []
  }
 ],
 "metadata": {
  "kernelspec": {
   "display_name": "Python 3",
   "language": "python",
   "name": "python3"
  },
  "language_info": {
   "codemirror_mode": {
    "name": "ipython",
    "version": 3
   },
   "file_extension": ".py",
   "mimetype": "text/x-python",
   "name": "python",
   "nbconvert_exporter": "python",
   "pygments_lexer": "ipython3",
   "version": "3.7.4"
  }
 },
 "nbformat": 4,
 "nbformat_minor": 4
}
