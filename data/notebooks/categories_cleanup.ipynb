{
 "cells": [
  {
   "cell_type": "markdown",
   "metadata": {},
   "source": [
    "## Short notebook: combining dataframes on categories"
   ]
  },
  {
   "cell_type": "code",
   "execution_count": 20,
   "metadata": {},
   "outputs": [],
   "source": [
    "#import libraries\n",
    "import pandas as pd\n",
    "import re\n",
    "import xlsxwriter"
   ]
  },
  {
   "cell_type": "code",
   "execution_count": 21,
   "metadata": {},
   "outputs": [],
   "source": [
    "#set file-paths\n",
    "file_path_categories = '../data_base/Categories_over_time.xlsx'\n",
    "\n",
    "file_path_thinktanks = '../data_base/GGTTIR.xlsx'"
   ]
  },
  {
   "cell_type": "code",
   "execution_count": 7,
   "metadata": {},
   "outputs": [],
   "source": [
    "#import category-datasets\n",
    "regions_category_df = pd.read_excel(file_path_categories,sheet_name='regions')\n",
    "research_category_df = pd.read_excel(file_path_categories,sheet_name='research_areas_clean')\n",
    "special_category_df = pd.read_excel(file_path_categories,sheet_name='special_categories_clean')"
   ]
  },
  {
   "cell_type": "code",
   "execution_count": 22,
   "metadata": {},
   "outputs": [],
   "source": [
    "#import think-tank datasets\n",
    "regions_tt_df = pd.read_excel(file_path_thinktanks,sheet_name='regions')\n",
    "research_tt_df = pd.read_excel(file_path_thinktanks,sheet_name='research_areas')\n",
    "special_tt_df = pd.read_excel(file_path_thinktanks,sheet_name='special_categories')"
   ]
  },
  {
   "cell_type": "code",
   "execution_count": 17,
   "metadata": {},
   "outputs": [
    {
     "data": {
      "text/html": [
       "<div>\n",
       "<style scoped>\n",
       "    .dataframe tbody tr th:only-of-type {\n",
       "        vertical-align: middle;\n",
       "    }\n",
       "\n",
       "    .dataframe tbody tr th {\n",
       "        vertical-align: top;\n",
       "    }\n",
       "\n",
       "    .dataframe thead th {\n",
       "        text-align: right;\n",
       "    }\n",
       "</style>\n",
       "<table border=\"1\" class=\"dataframe\">\n",
       "  <thead>\n",
       "    <tr style=\"text-align: right;\">\n",
       "      <th></th>\n",
       "      <th>Rank</th>\n",
       "      <th>Think Tank</th>\n",
       "      <th>Category</th>\n",
       "      <th>Year</th>\n",
       "      <th>country</th>\n",
       "      <th>Category2</th>\n",
       "    </tr>\n",
       "  </thead>\n",
       "  <tbody>\n",
       "  </tbody>\n",
       "</table>\n",
       "</div>"
      ],
      "text/plain": [
       "Empty DataFrame\n",
       "Columns: [Rank, Think Tank, Category, Year, country, Category2]\n",
       "Index: []"
      ]
     },
     "execution_count": 17,
     "metadata": {},
     "output_type": "execute_result"
    }
   ],
   "source": [
    "#merge datasets\n",
    "cleand_regions_tt = pd.merge(regions_tt_df,regions_category_df[['Category','Category2']],on='Category')\n",
    "\n",
    "cleand_research_tt = pd.merge(research_tt_df,research_category_df[['Category','Category2']],on='Category')\n",
    "\n",
    "cleand_special_tt = pd.merge(special_tt_df,special_category_df[['Category','Category2']],on='Category')"
   ]
  },
  {
   "cell_type": "code",
   "execution_count": 23,
   "metadata": {},
   "outputs": [],
   "source": [
    "#rename cateories:\n",
    "cleand_regions_tt.rename(columns={'Category2':'cleaned_category'},inplace=True)\n",
    "\n",
    "cleand_research_tt.rename(columns={'Category2':'cleaned_category'},inplace=True)\n",
    "\n",
    "cleand_special_tt.rename(columns={'Category2':'cleaned_category'},inplace=True)"
   ]
  },
  {
   "cell_type": "code",
   "execution_count": 25,
   "metadata": {},
   "outputs": [
    {
     "data": {
      "text/html": [
       "<div>\n",
       "<style scoped>\n",
       "    .dataframe tbody tr th:only-of-type {\n",
       "        vertical-align: middle;\n",
       "    }\n",
       "\n",
       "    .dataframe tbody tr th {\n",
       "        vertical-align: top;\n",
       "    }\n",
       "\n",
       "    .dataframe thead th {\n",
       "        text-align: right;\n",
       "    }\n",
       "</style>\n",
       "<table border=\"1\" class=\"dataframe\">\n",
       "  <thead>\n",
       "    <tr style=\"text-align: right;\">\n",
       "      <th></th>\n",
       "      <th>Rank</th>\n",
       "      <th>Think tank</th>\n",
       "      <th>Category</th>\n",
       "      <th>Year</th>\n",
       "      <th>country</th>\n",
       "      <th>cleaned_category</th>\n",
       "    </tr>\n",
       "  </thead>\n",
       "  <tbody>\n",
       "  </tbody>\n",
       "</table>\n",
       "</div>"
      ],
      "text/plain": [
       "Empty DataFrame\n",
       "Columns: [Rank, Think tank, Category, Year, country, cleaned_category]\n",
       "Index: []"
      ]
     },
     "execution_count": 25,
     "metadata": {},
     "output_type": "execute_result"
    }
   ],
   "source": [
    "#check for empty new categories\n",
    "\n",
    "#cleand_regions_tt[cleand_regions_tt['cleaned_category'].isnull()]\n",
    "#cleand_research_tt[cleand_research_tt['cleaned_category'].isnull()]\n",
    "cleand_special_tt[cleand_special_tt['cleaned_category'].isnull()]"
   ]
  },
  {
   "cell_type": "code",
   "execution_count": 26,
   "metadata": {},
   "outputs": [
    {
     "data": {
      "text/html": [
       "<div>\n",
       "<style scoped>\n",
       "    .dataframe tbody tr th:only-of-type {\n",
       "        vertical-align: middle;\n",
       "    }\n",
       "\n",
       "    .dataframe tbody tr th {\n",
       "        vertical-align: top;\n",
       "    }\n",
       "\n",
       "    .dataframe thead th {\n",
       "        text-align: right;\n",
       "    }\n",
       "</style>\n",
       "<table border=\"1\" class=\"dataframe\">\n",
       "  <thead>\n",
       "    <tr style=\"text-align: right;\">\n",
       "      <th></th>\n",
       "      <th>Rank</th>\n",
       "      <th>Think tank</th>\n",
       "      <th>Category</th>\n",
       "      <th>Year</th>\n",
       "      <th>country</th>\n",
       "      <th>cleaned_category</th>\n",
       "    </tr>\n",
       "  </thead>\n",
       "  <tbody>\n",
       "    <tr>\n",
       "      <th>0</th>\n",
       "      <td>1</td>\n",
       "      <td>european council on foreign relations  belgium</td>\n",
       "      <td>Best New Think Tank (established in the last t...</td>\n",
       "      <td>2008</td>\n",
       "      <td>Belgium</td>\n",
       "      <td>Best New Think Tank (established in the last t...</td>\n",
       "    </tr>\n",
       "    <tr>\n",
       "      <th>1</th>\n",
       "      <td>2</td>\n",
       "      <td>bruegel  belgium</td>\n",
       "      <td>Best New Think Tank (established in the last t...</td>\n",
       "      <td>2008</td>\n",
       "      <td>Belgium</td>\n",
       "      <td>Best New Think Tank (established in the last t...</td>\n",
       "    </tr>\n",
       "    <tr>\n",
       "      <th>2</th>\n",
       "      <td>3</td>\n",
       "      <td>center for american progress  usa</td>\n",
       "      <td>Best New Think Tank (established in the last t...</td>\n",
       "      <td>2008</td>\n",
       "      <td>United States</td>\n",
       "      <td>Best New Think Tank (established in the last t...</td>\n",
       "    </tr>\n",
       "    <tr>\n",
       "      <th>3</th>\n",
       "      <td>1</td>\n",
       "      <td>european council on foreign relations, belgium</td>\n",
       "      <td>Best New Think Tank (established in the last t...</td>\n",
       "      <td>2009</td>\n",
       "      <td>Belgium</td>\n",
       "      <td>Best New Think Tank (established in the last t...</td>\n",
       "    </tr>\n",
       "    <tr>\n",
       "      <th>4</th>\n",
       "      <td>2</td>\n",
       "      <td>center for american progress, us</td>\n",
       "      <td>Best New Think Tank (established in the last t...</td>\n",
       "      <td>2009</td>\n",
       "      <td>United States</td>\n",
       "      <td>Best New Think Tank (established in the last t...</td>\n",
       "    </tr>\n",
       "  </tbody>\n",
       "</table>\n",
       "</div>"
      ],
      "text/plain": [
       "   Rank                                      Think tank  \\\n",
       "0     1  european council on foreign relations  belgium   \n",
       "1     2                                bruegel  belgium   \n",
       "2     3               center for american progress  usa   \n",
       "3     1  european council on foreign relations, belgium   \n",
       "4     2                center for american progress, us   \n",
       "\n",
       "                                            Category  Year        country  \\\n",
       "0  Best New Think Tank (established in the last t...  2008        Belgium   \n",
       "1  Best New Think Tank (established in the last t...  2008        Belgium   \n",
       "2  Best New Think Tank (established in the last t...  2008  United States   \n",
       "3  Best New Think Tank (established in the last t...  2009        Belgium   \n",
       "4  Best New Think Tank (established in the last t...  2009  United States   \n",
       "\n",
       "                                    cleaned_category  \n",
       "0  Best New Think Tank (established in the last t...  \n",
       "1  Best New Think Tank (established in the last t...  \n",
       "2  Best New Think Tank (established in the last t...  \n",
       "3  Best New Think Tank (established in the last t...  \n",
       "4  Best New Think Tank (established in the last t...  "
      ]
     },
     "execution_count": 26,
     "metadata": {},
     "output_type": "execute_result"
    }
   ],
   "source": [
    "cleand_special_tt.head()"
   ]
  },
  {
   "cell_type": "code",
   "execution_count": 28,
   "metadata": {},
   "outputs": [],
   "source": [
    "writer = pd.ExcelWriter('../results/tts_conslidated_categories.xlsx', engine='xlsxwriter')\n",
    "cleand_regions_tt.to_excel(writer,sheet_name='regions',index=False)\n",
    "cleand_special_tt.to_excel(writer,sheet_name='special',index=False)\n",
    "cleand_research_tt.to_excel(writer,sheet_name='research_areas',index=False)\n",
    "writer.save()"
   ]
  },
  {
   "cell_type": "code",
   "execution_count": null,
   "metadata": {},
   "outputs": [],
   "source": []
  }
 ],
 "metadata": {
  "kernelspec": {
   "display_name": "Python 3",
   "language": "python",
   "name": "python3"
  },
  "language_info": {
   "codemirror_mode": {
    "name": "ipython",
    "version": 3
   },
   "file_extension": ".py",
   "mimetype": "text/x-python",
   "name": "python",
   "nbconvert_exporter": "python",
   "pygments_lexer": "ipython3",
   "version": "3.7.2"
  }
 },
 "nbformat": 4,
 "nbformat_minor": 2
}
